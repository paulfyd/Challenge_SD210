{
 "cells": [
  {
   "cell_type": "markdown",
   "metadata": {},
   "source": [
    "# SDTSIA210 Data Challenge - Marine Mercier & Paul Fayard"
   ]
  },
  {
   "cell_type": "code",
   "execution_count": 3,
   "metadata": {},
   "outputs": [],
   "source": [
    "import numpy as np\n",
    "import sys\n",
    "import os\n",
    "import matplotlib.pyplot as plt\n",
    "import math\n",
    "from time import time\n",
    "\n",
    "from sklearn.neighbors import KNeighborsClassifier\n",
    "from sklearn.preprocessing import StandardScaler\n",
    "from sklearn.model_selection import train_test_split\n",
    "from sklearn.linear_model import LogisticRegression\n",
    "from sklearn.svm import LinearSVC\n",
    "from sklearn.neural_network import MLPClassifier\n",
    "from sklearn.model_selection import GridSearchCV, KFold, RandomizedSearchCV\n",
    "from sklearn.metrics import auc, accuracy_score, confusion_matrix, mean_squared_error, plot_confusion_matrix\n",
    "from sklearn.preprocessing import StandardScaler\n",
    "from sklearn.ensemble import VotingClassifier,StackingClassifier\n",
    "\n",
    "from scipy.stats import uniform, randint\n",
    "import scipy.stats as st\n",
    "\n",
    "import xgboost as xgb\n",
    "from lightgbm import LGBMClassifier\n",
    "from xgboost.sklearn import XGBClassifier \n"
   ]
  },
  {
   "cell_type": "markdown",
   "metadata": {},
   "source": [
    "# Introduction "
   ]
  },
  {
   "cell_type": "markdown",
   "metadata": {},
   "source": [
    "Challenge : Fusion of algorithms for face recognition\n",
    "\n",
    "In this challenge, the goal is to build a fusion of algorithms in order to construct the best suited solution for comparison of a pair of images.\n",
    "\n",
    "Comparing of two images is done in two steps. 1st, a vector of features is computed for each image. 2nd, a simple function produces a vector of scores for a pair of images. The goal is to create a function that will compare a pair of images based on the information mentioned above, and decide whether two images belong to the same person.\n",
    "\n",
    "Note on our work: \n",
    "\n",
    "We both worked locally on our devices. \n",
    "As it was difficult to work on a single notebook, we decided to share the work. Everyone worked on different methods, and we regularly shared our observations and results in order to move in the same direction. \n",
    "At the end, we merged the two notebooks and obtained this one."
   ]
  },
  {
   "cell_type": "markdown",
   "metadata": {},
   "source": [
    "## Loading of the data"
   ]
  },
  {
   "cell_type": "code",
   "execution_count": 3,
   "metadata": {},
   "outputs": [],
   "source": [
    "X = np.loadtxt('xtrain_challenge.csv', delimiter=',', skiprows = 1)\n",
    "Y = np.loadtxt('ytrain_challenge.csv', delimiter=',', skiprows = 1)"
   ]
  },
  {
   "cell_type": "code",
   "execution_count": 4,
   "metadata": {},
   "outputs": [],
   "source": [
    "#Data that we are going to predict at the end\n",
    "X_exam = np.loadtxt('xtest_challenge.csv', delimiter=',', skiprows = 1)"
   ]
  },
  {
   "cell_type": "code",
   "execution_count": 5,
   "metadata": {},
   "outputs": [],
   "source": [
    "np.save(\"X_exam.npy\",X_exam)"
   ]
  },
  {
   "cell_type": "markdown",
   "metadata": {},
   "source": [
    "We shuffle the data to make sure that our training/test sets are representative of the overall distribution of the data, and therefore, to make sure that we are not going to overfit on a small proportion of our data."
   ]
  },
  {
   "cell_type": "code",
   "execution_count": 7,
   "metadata": {},
   "outputs": [],
   "source": [
    "N=X.shape[0]\n",
    "ordre=np.arange(0,N)\n",
    "np.random.shuffle(ordre)\n",
    "\n",
    "# Use as new variables\n",
    "X=X[ordre[:]]\n",
    "Y=Y[ordre[:]]"
   ]
  },
  {
   "cell_type": "markdown",
   "metadata": {},
   "source": [
    "## Observation of the data"
   ]
  },
  {
   "cell_type": "markdown",
   "metadata": {},
   "source": [
    "The first step of our work was to try to understand the dataset we had to work on. \n",
    "We had a total of 1,068,504 training observations from which we had to train a model to predict 3,318,296 test observations. \n",
    "Each of the training observations, corresponding to two images, has 37 features and one label: 0 or 1. The label is 1 if the two images correspond to the same person, 0 otherwise. We are thus in the case of supervised learning and more precisely of binary classification.  "
   ]
  },
  {
   "cell_type": "code",
   "execution_count": 26,
   "metadata": {},
   "outputs": [
    {
     "name": "stdout",
     "output_type": "stream",
     "text": [
      "The shape of the labels is  (1068504,) .\n",
      "The training set consists of labels:  [0. 1.]\n",
      "The shape of the observations is  (1068504, 37) .\n",
      "We work with  1068504  data and each one has  37  features.\n",
      "We are going to predict  3318296  new observations.\n"
     ]
    }
   ],
   "source": [
    "print(\"The shape of the labels is \",Y.shape,\".\")\n",
    "print(\"The training set consists of labels: \",np.unique(Y))\n",
    "print(\"The shape of the observations is \",X.shape,\".\")\n",
    "print(\"We work with \",X.shape[0],\" data and each one has \",X.shape[1],\" features.\")\n",
    "print(\"We are going to predict \",X_exam.shape[0],\" new observations.\")"
   ]
  },
  {
   "cell_type": "code",
   "execution_count": 7,
   "metadata": {},
   "outputs": [
    {
     "name": "stdout",
     "output_type": "stream",
     "text": [
      "3.7054610932668477 % of the observations have the label 1.\n",
      "96.29453890673315 % of the observations have the label 0.\n"
     ]
    }
   ],
   "source": [
    "print(str(Y.mean()*100),\"% of the observations have the label 1.\")\n",
    "print(str((1-Y.mean())*100),\"% of the observations have the label 0.\")"
   ]
  },
  {
   "cell_type": "markdown",
   "metadata": {},
   "source": [
    "We soon noticed that the classes were very unbalanced. \n",
    "Indeed, among the training observations, more than 96% of the data had the label 0.\n",
    "We thought that we would have to adapt our algorithms to this imbalance because, it could be that our classifier only learns the majority class, and returns the label 0 for each data.\n",
    "\n",
    "First of all, we thought we would do ***data augmentation***, i.e. create new training observations from our training observations with label 0. You'll see that Marine has worked on it in her notebook. \n",
    "\n",
    "On the other hand, we saw that most classifiers had a ***\"class_weight\" argument*** which allowed us to give more or less importance to the different classes in the loss function. Thus, we played with this parameter, penalizing more an error on a label 1 training observation than an error on a label 0 training observation. \n",
    "All we wanted to ***avoid was that our model doesn't systematically return 0***, and most classifiers didn't need this to learn something from our data."
   ]
  },
  {
   "cell_type": "markdown",
   "metadata": {},
   "source": [
    "#### Scale of the data"
   ]
  },
  {
   "cell_type": "markdown",
   "metadata": {},
   "source": [
    "To get the best accuracy for our predictions, we have to work with good data. \n",
    "Our first reflex was to use a linear transformation to standardize our data (mean=0 and std=1). We applied this to the training and the test set. This avoids that some features are more important than others for no reason. We will see that it has been useful for some of our models, such as SVM or MLPClassifier. "
   ]
  },
  {
   "cell_type": "code",
   "execution_count": 8,
   "metadata": {},
   "outputs": [
    {
     "data": {
      "text/plain": [
       "'\\n# Scale data (each feature will have average equal to 0 and unit variance)\\n\\nscaler = StandardScaler()\\nscaler.fit(X)\\nX_scale=scaler.transform(X)\\nX_exam_scale=scaler.transform(X_exam)\\n\\n'"
      ]
     },
     "execution_count": 8,
     "metadata": {},
     "output_type": "execute_result"
    }
   ],
   "source": [
    "\"\"\"\n",
    "# Scale data (each feature will have average equal to 0 and unit variance)\n",
    "\n",
    "scaler = StandardScaler()\n",
    "scaler.fit(X)\n",
    "X_scale=scaler.transform(X)\n",
    "X_exam_scale=scaler.transform(X_exam)\n",
    "\n",
    "\"\"\""
   ]
  },
  {
   "cell_type": "markdown",
   "metadata": {},
   "source": [
    "#### Division of the data in training set / test set"
   ]
  },
  {
   "cell_type": "markdown",
   "metadata": {},
   "source": [
    "Once we had our standardized data, the big question was: how are we going to divide our data?\n",
    "Because we have over 1 million observations we knew that if we worked with all of them, the model training would be very long (espacially the choice of the hyper-parameters). \n",
    "\n",
    "So we made the choice to shuffle our data and to work with 1/8 of the data at the beginning, at the risk of losing a little bit of accuracy. Once the model has been chosen, we will work with all the data. "
   ]
  },
  {
   "cell_type": "code",
   "execution_count": 9,
   "metadata": {},
   "outputs": [],
   "source": [
    "N=len(X)\n",
    "\n",
    "X_small=X[:N//8]\n",
    "Y_small=Y[:N//8]"
   ]
  },
  {
   "cell_type": "markdown",
   "metadata": {},
   "source": [
    "NOTE : In this notebook, we work with an eighth of the data. \n",
    "\n",
    "In other notebooks, we tested the different classifiers with all the data. For some models this was very time consuming, so we can't start all over again in this notebook. That's why here we work with one out of eight data, which was not the case at the time of submission."
   ]
  },
  {
   "cell_type": "markdown",
   "metadata": {},
   "source": [
    "We then divided our data into two sets, the training set, and the test set which will allow us to test our models, and above all to check that we haven't overfitted them. The latter is made up of 33% of the data retained. "
   ]
  },
  {
   "cell_type": "code",
   "execution_count": 8,
   "metadata": {},
   "outputs": [],
   "source": [
    "small=0"
   ]
  },
  {
   "cell_type": "code",
   "execution_count": 9,
   "metadata": {},
   "outputs": [
    {
     "name": "stdout",
     "output_type": "stream",
     "text": [
      "To work with all the data.\n"
     ]
    }
   ],
   "source": [
    "if small==1:\n",
    "    \n",
    "    print(\"To work with 1/8 of the data (to make faster training/tests).\")\n",
    "    X_train, X_test ,y_train, y_test = train_test_split(X_small,Y_small, test_size=0.20, random_state=42)\n",
    "else:\n",
    "    print(\"To work with all the data.\") \n",
    "    X_train, X_test ,y_train, y_test = train_test_split(X,Y, test_size=0.33, random_state=42)"
   ]
  },
  {
   "cell_type": "markdown",
   "metadata": {},
   "source": [
    "## Our strategy "
   ]
  },
  {
   "cell_type": "markdown",
   "metadata": {},
   "source": [
    "After that, our approach was to test different models as we went along.\n",
    "We used simple model at the beginning, but we quickly realized that, due to the number of data and the size of the features, we needed a very complex model to learn such important data.\n",
    "\n",
    "We then compared the scores of our different classifiers, scores on the test set, to finally retain the best one."
   ]
  },
  {
   "cell_type": "markdown",
   "metadata": {},
   "source": [
    "## Useful functions"
   ]
  },
  {
   "cell_type": "code",
   "execution_count": 3,
   "metadata": {},
   "outputs": [],
   "source": [
    "#To print the confusion matrix\n",
    "\n",
    "# Code from scikit-learn\n",
    "import itertools\n",
    "def plot_confusion_matrix(cm, classes,\n",
    "                          normalize=False,\n",
    "                          title='Confusion matrix',\n",
    "                          cmap=plt.cm.Blues):\n",
    "    \"\"\"\n",
    "    This function prints and plots the confusion matrix.\n",
    "    Normalization can be applied by setting `normalize=True`.\n",
    "    \"\"\"\n",
    "    if normalize:\n",
    "        cm = cm.astype('float') / cm.sum(axis=1)[:, np.newaxis]\n",
    "        print(\"Normalized confusion matrix\")\n",
    "    else:\n",
    "        print('Confusion matrix, without normalization')\n",
    "\n",
    "    print(cm)\n",
    "\n",
    "    plt.imshow(cm, interpolation='nearest', cmap=cmap)\n",
    "    plt.title(title)\n",
    "    plt.colorbar()\n",
    "    tick_marks = np.arange(len(classes))\n",
    "    plt.xticks(tick_marks, classes, rotation=45)\n",
    "    plt.yticks(tick_marks, classes)\n",
    "\n",
    "    fmt = '.2f' if normalize else 'd'\n",
    "    thresh = cm.max() / 2.\n",
    "    for i, j in itertools.product(range(cm.shape[0]), range(cm.shape[1])):\n",
    "        plt.text(j, i, format(cm[i, j], fmt),\n",
    "                 horizontalalignment=\"center\",\n",
    "                 color=\"white\" if cm[i, j] > thresh else \"black\")\n",
    "\n",
    "    plt.ylabel('True label')\n",
    "    plt.xlabel('Predicted label')\n",
    "    plt.tight_layout()\n",
    "\n",
    "classes_name=[\"label 0\",\"label 1\"]"
   ]
  },
  {
   "cell_type": "code",
   "execution_count": 4,
   "metadata": {},
   "outputs": [],
   "source": [
    "def plot_grid_search(cv_results, grid_param_1, grid_param_2, name_param_1, name_param_2):\n",
    "    # Get Test Scores Mean and std for each grid search\n",
    "    scores_mean = cv_results['mean_test_score']\n",
    "    scores_mean = np.array(scores_mean).reshape(len(grid_param_2),len(grid_param_1))\n",
    "\n",
    "    # Plot Grid search scores\n",
    "    _, ax = plt.subplots(1,1,figsize=(20,15))\n",
    "\n",
    "    # Param1 is the X-axis, Param 2 is represented as a different curve (color line)\n",
    "    for idx, val in enumerate(grid_param_2):\n",
    "        ax.plot(grid_param_1, scores_mean[idx,:], '-o', label= name_param_2 + ': ' + str(val))\n",
    "\n",
    "    ax.set_title(\"Grid Search Scores, random_state\", fontsize=20, fontweight='bold')\n",
    "    ax.set_xlabel(name_param_1, fontsize=16)\n",
    "    ax.set_ylabel('CV Average Score', fontsize=16)\n",
    "    ax.legend(loc=\"best\", fontsize=15)\n",
    "    ax.grid('on')"
   ]
  },
  {
   "cell_type": "code",
   "execution_count": 20,
   "metadata": {},
   "outputs": [],
   "source": [
    "def submit(y_exam=None,model=None,X_exam=None):\n",
    "    #save our results in a csv file\n",
    "    if model !=None:\n",
    "        y_exam=model.predict(X_exam)\n",
    "    np.savetxt('ytest_challenge_student.csv', y_exam, fmt = '%1.0d', delimiter=',')\n",
    "    "
   ]
  },
  {
   "cell_type": "markdown",
   "metadata": {},
   "source": [
    "## 1- First try with KNN"
   ]
  },
  {
   "cell_type": "markdown",
   "metadata": {},
   "source": [
    "---\n",
    "\n",
    "Knn is a very ***simple*** model. We use it to make a first test and see if we can draw some conclusions.\n",
    "\n",
    "We work will 1/8 of the data because the ***prediction step is very long*** with this method, as we must evaluate such a great number of distances.\n",
    "\n",
    "---"
   ]
  },
  {
   "cell_type": "code",
   "execution_count": 19,
   "metadata": {},
   "outputs": [
    {
     "data": {
      "text/plain": [
       "KNeighborsClassifier(algorithm='auto', leaf_size=30, metric='minkowski',\n",
       "                     metric_params=None, n_jobs=None, n_neighbors=5, p=2,\n",
       "                     weights='uniform')"
      ]
     },
     "execution_count": 19,
     "metadata": {},
     "output_type": "execute_result"
    }
   ],
   "source": [
    "#We use the default parameters : n_neighbors=5\n",
    "\n",
    "KNN = KNeighborsClassifier()\n",
    "KNN.fit(X_train,y_train)"
   ]
  },
  {
   "cell_type": "code",
   "execution_count": 20,
   "metadata": {},
   "outputs": [
    {
     "data": {
      "text/plain": [
       "0.9979316799251287"
      ]
     },
     "execution_count": 20,
     "metadata": {},
     "output_type": "execute_result"
    }
   ],
   "source": [
    "KNN.score(X_train,y_train)"
   ]
  },
  {
   "cell_type": "code",
   "execution_count": 22,
   "metadata": {},
   "outputs": [],
   "source": [
    "s2=KNN.score(X_test,y_test)"
   ]
  },
  {
   "cell_type": "code",
   "execution_count": 24,
   "metadata": {},
   "outputs": [
    {
     "name": "stdout",
     "output_type": "stream",
     "text": [
      "The score on the test set is : 99.72298131995657 %.\n"
     ]
    }
   ],
   "source": [
    "print(\"The score on the test set is :\",s2*100,\"%.\")"
   ]
  },
  {
   "cell_type": "code",
   "execution_count": 25,
   "metadata": {},
   "outputs": [
    {
     "name": "stdout",
     "output_type": "stream",
     "text": [
      "Normalized confusion matrix\n",
      "[[9.99494891e-01 5.05109376e-04]\n",
      " [6.25000000e-02 9.37500000e-01]]\n"
     ]
    },
    {
     "data": {
      "image/png": "[encoded data removed]",
      "text/plain": [
       "<Figure size 432x288 with 2 Axes>"
      ]
     },
     "metadata": {},
     "output_type": "display_data"
    }
   ],
   "source": [
    "#Confusion matrix to analyse the faults \n",
    "y_pred=KNN.predict(X_test)\n",
    "\n",
    "# Compute confusion matrix\n",
    "cnf_matrix = confusion_matrix(y_test, y_pred)\n",
    "\n",
    "# Plot normalized confusion matrix\n",
    "plt.figure()\n",
    "plot_confusion_matrix(cnf_matrix, classes= classes_name ,normalize=True)\n",
    "plt.title(\"Confusion matrix : KNN\")\n",
    "plt.show()"
   ]
  },
  {
   "cell_type": "markdown",
   "metadata": {},
   "source": [
    "Bilan : \n",
    "\n",
    "Dataset| Scores \n",
    "- |-: \n",
    "training set  | 99,79%\n",
    "test set | 99,72% "
   ]
  },
  {
   "cell_type": "markdown",
   "metadata": {},
   "source": [
    "--- \n",
    "\n",
    "We see that even we a very simple model, we reach excellent scores. It predicts perfectly the class 0. There are a ***few mistakes over the label 1***, that is the minority class.\n",
    "\n",
    "Without looking as the best parameter for n_neihbors, we are going to test directly a more complex classifier.\n",
    "In fact, the KNN method is not often used because of its ***slowness***, especially for predicting large datasets like ours, and because of its inability to manage a lot of features (here 37).\n",
    "\n",
    "The method that we are going to study next doesn't have these drawbacks.\n",
    "\n",
    "---"
   ]
  },
  {
   "cell_type": "markdown",
   "metadata": {},
   "source": [
    "## 2- Linear models : SVM"
   ]
  },
  {
   "cell_type": "markdown",
   "metadata": {},
   "source": [
    "--- \n",
    "\n",
    "We are going to deal with a linear model, that realize predictions with a linear functions of the input features.\n",
    "We know that linear models are good for very large datasets, with large dimensions, that is our case.\n",
    "\n",
    "We have chosen SVM, one of these linear models, the one we've seen the most detail of in class."
   ]
  },
  {
   "cell_type": "markdown",
   "metadata": {},
   "source": [
    "* For this model small=0: we work with all the data because it is faster than KNN\n",
    "* Here, the standardization of our data is very important. \n",
    "\n",
    "---"
   ]
  },
  {
   "cell_type": "code",
   "execution_count": 17,
   "metadata": {},
   "outputs": [],
   "source": [
    "#Standardization of the data\n",
    "\n",
    "mean_on_train=X_train.mean(axis=0)\n",
    "std_on_train=X_train.std(axis=0)\n",
    "\n",
    "X_train_scaled=(X_train-mean_on_train)/std_on_train\n",
    "X_test_scaled=(X_test-mean_on_train)/std_on_train\n",
    "X_exam_scaled=(X_exam-mean_on_train)/std_on_train"
   ]
  },
  {
   "cell_type": "code",
   "execution_count": 35,
   "metadata": {},
   "outputs": [
    {
     "name": "stderr",
     "output_type": "stream",
     "text": [
      "/home/paul/.local/lib/python3.6/site-packages/sklearn/svm/_base.py:947: ConvergenceWarning: Liblinear failed to converge, increase the number of iterations.\n",
      "  \"the number of iterations.\", ConvergenceWarning)\n"
     ]
    },
    {
     "data": {
      "text/plain": [
       "LinearSVC(C=1.0, class_weight=None, dual=True, fit_intercept=True,\n",
       "          intercept_scaling=1, loss='squared_hinge', max_iter=1000,\n",
       "          multi_class='ovr', penalty='l2', random_state=None, tol=0.0001,\n",
       "          verbose=0)"
      ]
     },
     "execution_count": 35,
     "metadata": {},
     "output_type": "execute_result"
    }
   ],
   "source": [
    "#Default parameters \n",
    "\n",
    "svm1=LinearSVC()\n",
    "svm1.fit(X_train_scaled,y_train)"
   ]
  },
  {
   "cell_type": "code",
   "execution_count": 36,
   "metadata": {},
   "outputs": [
    {
     "data": {
      "text/plain": [
       "0.9981030790742244"
      ]
     },
     "execution_count": 36,
     "metadata": {},
     "output_type": "execute_result"
    }
   ],
   "source": [
    "svm1.score(X_train_scaled,y_train)"
   ]
  },
  {
   "cell_type": "code",
   "execution_count": 37,
   "metadata": {},
   "outputs": [],
   "source": [
    "s2=svm1.score(X_test_scaled,y_test)"
   ]
  },
  {
   "cell_type": "code",
   "execution_count": 38,
   "metadata": {},
   "outputs": [
    {
     "name": "stdout",
     "output_type": "stream",
     "text": [
      "The score on the test set is : 99.80544912608089 %.\n"
     ]
    }
   ],
   "source": [
    "print(\"The score on the test set is :\",s2*100,\"%.\")"
   ]
  },
  {
   "cell_type": "code",
   "execution_count": 39,
   "metadata": {},
   "outputs": [
    {
     "name": "stdout",
     "output_type": "stream",
     "text": [
      "Normalized confusion matrix\n",
      "[[9.99301814e-01 6.98186189e-04]\n",
      " [3.41289146e-02 9.65871085e-01]]\n"
     ]
    },
    {
     "data": {
      "image/png": "[encoded data removed]",
      "text/plain": [
       "<Figure size 432x288 with 2 Axes>"
      ]
     },
     "metadata": {},
     "output_type": "display_data"
    }
   ],
   "source": [
    "#Confusion matrix to analyse the faults \n",
    "y_pred=svm1.predict(X_test_scaled)\n",
    "\n",
    "# Compute confusion matrix\n",
    "cnf_matrix = confusion_matrix(y_test, y_pred)\n",
    "\n",
    "# Plot normalized confusion matrix\n",
    "plt.figure()\n",
    "plot_confusion_matrix(cnf_matrix, classes= classes_name ,normalize=True)\n",
    "plt.title(\"Confusion matrix : SVM\")\n",
    "plt.show()"
   ]
  },
  {
   "cell_type": "markdown",
   "metadata": {},
   "source": [
    "Bilan : \n",
    "\n",
    "Dataset| Scores \n",
    "- |-: \n",
    "training set  | 99,81%\n",
    "test set | 99,80% "
   ]
  },
  {
   "cell_type": "markdown",
   "metadata": {},
   "source": [
    "--- \n",
    "\n",
    "With default parameters, we were already getting very interesting scores.It's again a perfect for label 0, and we have improved our prediction of label 1.\n",
    "\n",
    "We quickly understood that a sufficiently complex model was able to obtain scores higher than 99% on the test set, we would have to go for scores higher than 99.8% to stay in the competition. \n",
    "\n",
    "---"
   ]
  },
  {
   "cell_type": "markdown",
   "metadata": {},
   "source": [
    "### Searching the best hyper-parameters"
   ]
  },
  {
   "cell_type": "markdown",
   "metadata": {},
   "source": [
    "---\n",
    "\n",
    "For the first time, we're going to go deeper into this model,by looking for the best hyper-parameters.\n",
    "\n",
    "We are going to play on two parameters : \n",
    " * C : Regularization parameter. The strength of the regularization is inversely proportional to C.\n",
    " * class-weight : Set the parameter C of class i to class_weight[i]*C for SVC. We see if we change stg by giving more weight to the minority class.\n",
    " \n",
    "--- "
   ]
  },
  {
   "cell_type": "code",
   "execution_count": 95,
   "metadata": {},
   "outputs": [],
   "source": [
    "parameters={'C':[0.01,0.1,1],\n",
    "           'class_weight': [{0:1,1:1},{0:1,1:5},{0:1,1:15}]}"
   ]
  },
  {
   "cell_type": "markdown",
   "metadata": {},
   "source": [
    "Then, we search the best combination of these two parameters by doing a GridSearch with cross-validation :"
   ]
  },
  {
   "cell_type": "code",
   "execution_count": 96,
   "metadata": {},
   "outputs": [
    {
     "name": "stderr",
     "output_type": "stream",
     "text": [
      "/home/paul/.local/lib/python3.6/site-packages/sklearn/svm/_base.py:947: ConvergenceWarning: Liblinear failed to converge, increase the number of iterations.\n",
      "  \"the number of iterations.\", ConvergenceWarning)\n",
      "/home/paul/.local/lib/python3.6/site-packages/sklearn/svm/_base.py:947: ConvergenceWarning: Liblinear failed to converge, increase the number of iterations.\n",
      "  \"the number of iterations.\", ConvergenceWarning)\n",
      "/home/paul/.local/lib/python3.6/site-packages/sklearn/svm/_base.py:947: ConvergenceWarning: Liblinear failed to converge, increase the number of iterations.\n",
      "  \"the number of iterations.\", ConvergenceWarning)\n",
      "/home/paul/.local/lib/python3.6/site-packages/sklearn/svm/_base.py:947: ConvergenceWarning: Liblinear failed to converge, increase the number of iterations.\n",
      "  \"the number of iterations.\", ConvergenceWarning)\n",
      "/home/paul/.local/lib/python3.6/site-packages/sklearn/svm/_base.py:947: ConvergenceWarning: Liblinear failed to converge, increase the number of iterations.\n",
      "  \"the number of iterations.\", ConvergenceWarning)\n",
      "/home/paul/.local/lib/python3.6/site-packages/sklearn/svm/_base.py:947: ConvergenceWarning: Liblinear failed to converge, increase the number of iterations.\n",
      "  \"the number of iterations.\", ConvergenceWarning)\n",
      "/home/paul/.local/lib/python3.6/site-packages/sklearn/svm/_base.py:947: ConvergenceWarning: Liblinear failed to converge, increase the number of iterations.\n",
      "  \"the number of iterations.\", ConvergenceWarning)\n",
      "/home/paul/.local/lib/python3.6/site-packages/sklearn/svm/_base.py:947: ConvergenceWarning: Liblinear failed to converge, increase the number of iterations.\n",
      "  \"the number of iterations.\", ConvergenceWarning)\n",
      "/home/paul/.local/lib/python3.6/site-packages/sklearn/svm/_base.py:947: ConvergenceWarning: Liblinear failed to converge, increase the number of iterations.\n",
      "  \"the number of iterations.\", ConvergenceWarning)\n",
      "/home/paul/.local/lib/python3.6/site-packages/sklearn/svm/_base.py:947: ConvergenceWarning: Liblinear failed to converge, increase the number of iterations.\n",
      "  \"the number of iterations.\", ConvergenceWarning)\n",
      "/home/paul/.local/lib/python3.6/site-packages/sklearn/svm/_base.py:947: ConvergenceWarning: Liblinear failed to converge, increase the number of iterations.\n",
      "  \"the number of iterations.\", ConvergenceWarning)\n",
      "/home/paul/.local/lib/python3.6/site-packages/sklearn/svm/_base.py:947: ConvergenceWarning: Liblinear failed to converge, increase the number of iterations.\n",
      "  \"the number of iterations.\", ConvergenceWarning)\n",
      "/home/paul/.local/lib/python3.6/site-packages/sklearn/svm/_base.py:947: ConvergenceWarning: Liblinear failed to converge, increase the number of iterations.\n",
      "  \"the number of iterations.\", ConvergenceWarning)\n",
      "/home/paul/.local/lib/python3.6/site-packages/sklearn/svm/_base.py:947: ConvergenceWarning: Liblinear failed to converge, increase the number of iterations.\n",
      "  \"the number of iterations.\", ConvergenceWarning)\n",
      "/home/paul/.local/lib/python3.6/site-packages/sklearn/svm/_base.py:947: ConvergenceWarning: Liblinear failed to converge, increase the number of iterations.\n",
      "  \"the number of iterations.\", ConvergenceWarning)\n",
      "/home/paul/.local/lib/python3.6/site-packages/sklearn/svm/_base.py:947: ConvergenceWarning: Liblinear failed to converge, increase the number of iterations.\n",
      "  \"the number of iterations.\", ConvergenceWarning)\n",
      "/home/paul/.local/lib/python3.6/site-packages/sklearn/svm/_base.py:947: ConvergenceWarning: Liblinear failed to converge, increase the number of iterations.\n",
      "  \"the number of iterations.\", ConvergenceWarning)\n",
      "/home/paul/.local/lib/python3.6/site-packages/sklearn/svm/_base.py:947: ConvergenceWarning: Liblinear failed to converge, increase the number of iterations.\n",
      "  \"the number of iterations.\", ConvergenceWarning)\n",
      "/home/paul/.local/lib/python3.6/site-packages/sklearn/svm/_base.py:947: ConvergenceWarning: Liblinear failed to converge, increase the number of iterations.\n",
      "  \"the number of iterations.\", ConvergenceWarning)\n",
      "/home/paul/.local/lib/python3.6/site-packages/sklearn/svm/_base.py:947: ConvergenceWarning: Liblinear failed to converge, increase the number of iterations.\n",
      "  \"the number of iterations.\", ConvergenceWarning)\n",
      "/home/paul/.local/lib/python3.6/site-packages/sklearn/svm/_base.py:947: ConvergenceWarning: Liblinear failed to converge, increase the number of iterations.\n",
      "  \"the number of iterations.\", ConvergenceWarning)\n",
      "/home/paul/.local/lib/python3.6/site-packages/sklearn/svm/_base.py:947: ConvergenceWarning: Liblinear failed to converge, increase the number of iterations.\n",
      "  \"the number of iterations.\", ConvergenceWarning)\n",
      "/home/paul/.local/lib/python3.6/site-packages/sklearn/svm/_base.py:947: ConvergenceWarning: Liblinear failed to converge, increase the number of iterations.\n",
      "  \"the number of iterations.\", ConvergenceWarning)\n",
      "/home/paul/.local/lib/python3.6/site-packages/sklearn/svm/_base.py:947: ConvergenceWarning: Liblinear failed to converge, increase the number of iterations.\n",
      "  \"the number of iterations.\", ConvergenceWarning)\n",
      "/home/paul/.local/lib/python3.6/site-packages/sklearn/svm/_base.py:947: ConvergenceWarning: Liblinear failed to converge, increase the number of iterations.\n",
      "  \"the number of iterations.\", ConvergenceWarning)\n",
      "/home/paul/.local/lib/python3.6/site-packages/sklearn/svm/_base.py:947: ConvergenceWarning: Liblinear failed to converge, increase the number of iterations.\n",
      "  \"the number of iterations.\", ConvergenceWarning)\n",
      "/home/paul/.local/lib/python3.6/site-packages/sklearn/svm/_base.py:947: ConvergenceWarning: Liblinear failed to converge, increase the number of iterations.\n",
      "  \"the number of iterations.\", ConvergenceWarning)\n",
      "/home/paul/.local/lib/python3.6/site-packages/sklearn/svm/_base.py:947: ConvergenceWarning: Liblinear failed to converge, increase the number of iterations.\n",
      "  \"the number of iterations.\", ConvergenceWarning)\n",
      "/home/paul/.local/lib/python3.6/site-packages/sklearn/svm/_base.py:947: ConvergenceWarning: Liblinear failed to converge, increase the number of iterations.\n",
      "  \"the number of iterations.\", ConvergenceWarning)\n",
      "/home/paul/.local/lib/python3.6/site-packages/sklearn/svm/_base.py:947: ConvergenceWarning: Liblinear failed to converge, increase the number of iterations.\n",
      "  \"the number of iterations.\", ConvergenceWarning)\n",
      "/home/paul/.local/lib/python3.6/site-packages/sklearn/svm/_base.py:947: ConvergenceWarning: Liblinear failed to converge, increase the number of iterations.\n",
      "  \"the number of iterations.\", ConvergenceWarning)\n",
      "/home/paul/.local/lib/python3.6/site-packages/sklearn/svm/_base.py:947: ConvergenceWarning: Liblinear failed to converge, increase the number of iterations.\n",
      "  \"the number of iterations.\", ConvergenceWarning)\n",
      "/home/paul/.local/lib/python3.6/site-packages/sklearn/svm/_base.py:947: ConvergenceWarning: Liblinear failed to converge, increase the number of iterations.\n",
      "  \"the number of iterations.\", ConvergenceWarning)\n",
      "/home/paul/.local/lib/python3.6/site-packages/sklearn/svm/_base.py:947: ConvergenceWarning: Liblinear failed to converge, increase the number of iterations.\n",
      "  \"the number of iterations.\", ConvergenceWarning)\n",
      "/home/paul/.local/lib/python3.6/site-packages/sklearn/svm/_base.py:947: ConvergenceWarning: Liblinear failed to converge, increase the number of iterations.\n",
      "  \"the number of iterations.\", ConvergenceWarning)\n",
      "/home/paul/.local/lib/python3.6/site-packages/sklearn/svm/_base.py:947: ConvergenceWarning: Liblinear failed to converge, increase the number of iterations.\n",
      "  \"the number of iterations.\", ConvergenceWarning)\n",
      "/home/paul/.local/lib/python3.6/site-packages/sklearn/svm/_base.py:947: ConvergenceWarning: Liblinear failed to converge, increase the number of iterations.\n",
      "  \"the number of iterations.\", ConvergenceWarning)\n",
      "/home/paul/.local/lib/python3.6/site-packages/sklearn/svm/_base.py:947: ConvergenceWarning: Liblinear failed to converge, increase the number of iterations.\n",
      "  \"the number of iterations.\", ConvergenceWarning)\n",
      "/home/paul/.local/lib/python3.6/site-packages/sklearn/svm/_base.py:947: ConvergenceWarning: Liblinear failed to converge, increase the number of iterations.\n",
      "  \"the number of iterations.\", ConvergenceWarning)\n",
      "/home/paul/.local/lib/python3.6/site-packages/sklearn/svm/_base.py:947: ConvergenceWarning: Liblinear failed to converge, increase the number of iterations.\n",
      "  \"the number of iterations.\", ConvergenceWarning)\n"
     ]
    },
    {
     "data": {
      "text/plain": [
       "GridSearchCV(cv=None, error_score=nan,\n",
       "             estimator=LinearSVC(C=1.0, class_weight=None, dual=True,\n",
       "                                 fit_intercept=True, intercept_scaling=1,\n",
       "                                 loss='squared_hinge', max_iter=1000,\n",
       "                                 multi_class='ovr', penalty='l2',\n",
       "                                 random_state=None, tol=0.0001, verbose=0),\n",
       "             iid='deprecated', n_jobs=None,\n",
       "             param_grid={'C': [0.01, 0.1, 1],\n",
       "                         'class_weight': [{0: 1, 1: 1}, {0: 1, 1: 5},\n",
       "                                          {0: 1, 1: 15}]},\n",
       "             pre_dispatch='2*n_jobs', refit=True, return_train_score=False,\n",
       "             scoring=None, verbose=0)"
      ]
     },
     "execution_count": 96,
     "metadata": {},
     "output_type": "execute_result"
    }
   ],
   "source": [
    "grid = GridSearchCV(LinearSVC(), parameters)\n",
    "grid.fit(X_train_scaled,y_train)"
   ]
  },
  {
   "cell_type": "markdown",
   "metadata": {},
   "source": [
    "Best parameters : "
   ]
  },
  {
   "cell_type": "code",
   "execution_count": 97,
   "metadata": {},
   "outputs": [
    {
     "data": {
      "text/plain": [
       "{'C': 0.1, 'class_weight': {0: 1, 1: 1}}"
      ]
     },
     "execution_count": 97,
     "metadata": {},
     "output_type": "execute_result"
    }
   ],
   "source": [
    "grid.best_params_"
   ]
  },
  {
   "cell_type": "markdown",
   "metadata": {},
   "source": [
    "Corresponding score : "
   ]
  },
  {
   "cell_type": "code",
   "execution_count": 98,
   "metadata": {},
   "outputs": [
    {
     "data": {
      "text/plain": [
       "0.9977985661648525"
      ]
     },
     "execution_count": 98,
     "metadata": {},
     "output_type": "execute_result"
    }
   ],
   "source": [
    "grid.best_score_"
   ]
  },
  {
   "cell_type": "markdown",
   "metadata": {},
   "source": [
    "--- \n",
    "\n",
    "It's weird but our best score is inferior to the score we get without doing the gridsearch. With this model, tuning the parameters doesn't change a lot our scores. Also, the best parameter 'class_weights\" is {0:1,1:1}, ie equal weights for each class. It means that we don't really need to adapt our algorithm to the fact that the class are unbalanced. Both class must be sufficiently weel separated. \n",
    "\n",
    "The big advantage of linear models is that they are very fast in terms of prediction and training. They are also able to adapt to large datasets like ours. \n",
    "\n",
    "So we managed to improve our score over KNN. \n",
    "However, we are still far from the 0.9985 we are now aiming for. \n",
    "In order not to waste time, and because we are eager to train more complex models, we will move directly to the next step.\n",
    "\n",
    "Idea we could have done to improve this step: \n",
    "- do some regularization with Ridge and LASSO (but it seems useless because we don't really overfit)\n",
    "- try SVM with kernels\n",
    "\n",
    "---"
   ]
  },
  {
   "cell_type": "code",
   "execution_count": 41,
   "metadata": {},
   "outputs": [],
   "source": [
    "#TO SUBMIT : \n",
    "submit(model=svm1,X_exam=X_exam_scaled)"
   ]
  },
  {
   "cell_type": "markdown",
   "metadata": {},
   "source": [
    "## 3- Neural Networks"
   ]
  },
  {
   "cell_type": "markdown",
   "metadata": {},
   "source": [
    "--- \n",
    "\n",
    "We need a more complex classifier so that our score goes up to 0,9985.\n",
    "For our neural network, we chose to use the sklearn.neural_network library and the MLPClassifier model, that is very quick.\n",
    "\n",
    "Let's do a first try without taking care of the parameters : \n",
    "\n",
    "(Again we work with the scaled version of our data)\n",
    "\n",
    "---"
   ]
  },
  {
   "cell_type": "code",
   "execution_count": 43,
   "metadata": {},
   "outputs": [],
   "source": [
    "mlp=MLPClassifier(hidden_layer_sizes=(15,),verbose=1,max_iter=500,random_state=0)"
   ]
  },
  {
   "cell_type": "code",
   "execution_count": 44,
   "metadata": {},
   "outputs": [
    {
     "name": "stdout",
     "output_type": "stream",
     "text": [
      "Iteration 1, loss = 0.03063585\n",
      "Iteration 2, loss = 0.00673447\n",
      "Iteration 3, loss = 0.00594956\n",
      "Iteration 4, loss = 0.00560891\n",
      "Iteration 5, loss = 0.00536448\n",
      "Iteration 6, loss = 0.00522307\n",
      "Iteration 7, loss = 0.00510961\n",
      "Iteration 8, loss = 0.00505204\n",
      "Iteration 9, loss = 0.00499033\n",
      "Iteration 10, loss = 0.00494338\n",
      "Iteration 11, loss = 0.00488052\n",
      "Iteration 12, loss = 0.00484259\n",
      "Iteration 13, loss = 0.00480436\n",
      "Iteration 14, loss = 0.00478234\n",
      "Iteration 15, loss = 0.00473177\n",
      "Iteration 16, loss = 0.00469255\n",
      "Iteration 17, loss = 0.00464473\n",
      "Iteration 18, loss = 0.00461066\n",
      "Training loss did not improve more than tol=0.000100 for 10 consecutive epochs. Stopping.\n"
     ]
    },
    {
     "data": {
      "text/plain": [
       "MLPClassifier(activation='relu', alpha=0.0001, batch_size='auto', beta_1=0.9,\n",
       "              beta_2=0.999, early_stopping=False, epsilon=1e-08,\n",
       "              hidden_layer_sizes=(15,), learning_rate='constant',\n",
       "              learning_rate_init=0.001, max_fun=15000, max_iter=500,\n",
       "              momentum=0.9, n_iter_no_change=10, nesterovs_momentum=True,\n",
       "              power_t=0.5, random_state=0, shuffle=True, solver='adam',\n",
       "              tol=0.0001, validation_fraction=0.1, verbose=1, warm_start=False)"
      ]
     },
     "execution_count": 44,
     "metadata": {},
     "output_type": "execute_result"
    }
   ],
   "source": [
    "mlp.fit(X_train_scaled,y_train)"
   ]
  },
  {
   "cell_type": "code",
   "execution_count": 45,
   "metadata": {},
   "outputs": [
    {
     "data": {
      "text/plain": [
       "0.9984550850192137"
      ]
     },
     "execution_count": 45,
     "metadata": {},
     "output_type": "execute_result"
    }
   ],
   "source": [
    "mlp.score(X_train_scaled,y_train)"
   ]
  },
  {
   "cell_type": "code",
   "execution_count": 46,
   "metadata": {},
   "outputs": [],
   "source": [
    "s2=mlp.score(X_test_scaled,y_test)"
   ]
  },
  {
   "cell_type": "code",
   "execution_count": 47,
   "metadata": {},
   "outputs": [
    {
     "name": "stdout",
     "output_type": "stream",
     "text": [
      "The score on the test set is : 99.82359964493047 %.\n"
     ]
    }
   ],
   "source": [
    "print(\"The score on the test set is :\",s2*100,\"%.\")"
   ]
  },
  {
   "cell_type": "code",
   "execution_count": 49,
   "metadata": {},
   "outputs": [
    {
     "name": "stdout",
     "output_type": "stream",
     "text": [
      "Normalized confusion matrix\n",
      "[[9.99540434e-01 4.59565593e-04]\n",
      " [3.54211006e-02 9.64578899e-01]]\n"
     ]
    },
    {
     "data": {
      "image/png": "[encoded data removed]",
      "text/plain": [
       "<Figure size 432x288 with 2 Axes>"
      ]
     },
     "metadata": {},
     "output_type": "display_data"
    }
   ],
   "source": [
    "#Confusion matrix to analyse the faults \n",
    "y_pred=mlp.predict(X_test_scaled)\n",
    "\n",
    "# Compute confusion matrix\n",
    "cnf_matrix = confusion_matrix(y_test, y_pred)\n",
    "\n",
    "# Plot normalized confusion matrix\n",
    "plt.figure()\n",
    "plot_confusion_matrix(cnf_matrix, classes= classes_name ,normalize=True)\n",
    "plt.title(\"Confusion matrix : MLP Classifier\")\n",
    "plt.show()"
   ]
  },
  {
   "cell_type": "markdown",
   "metadata": {},
   "source": [
    "Bilan : \n",
    "\n",
    "Dataset| Scores \n",
    "- |-: \n",
    "training set  | 99,84%\n",
    "test set | 99,82% "
   ]
  },
  {
   "cell_type": "markdown",
   "metadata": {},
   "source": [
    "Without doing any gridsearch, just by testing a MLP with one layer and 15 neurons, we reach very good scores.\n",
    "\n",
    "\n",
    "So we thought it was a model to dig. \n",
    "The big advantage of this model compared to the models we'll see later is that the training was very fast. "
   ]
  },
  {
   "cell_type": "markdown",
   "metadata": {},
   "source": [
    "So we have tested various parameters. \n",
    "We played with: \n",
    "- hidden_layer_sizes : the number of layer and neurons per layer\n",
    "- the learning rate : constant or invscaling (gradually decreases the learning rate at each epoch)\n",
    "- tol: stopping criterion, if the score has not increased by at least tol, the training stops (we change it by hand, we expect to improve the training with a very small tol)\n",
    "\n",
    "The problem is that the parameter tuning didn't change much. \n",
    "The few times we got a score on the test set, above 99.86%, we got \"only\" 99.80 when submitting our model. \n",
    "Another defect is that the tol parameter can't be as small as we want. The training lasts a maximum of 70 epochs. We can't get an accuracy as small as we want to the thousandth, while every decimal place is important in this project. \n",
    "\n",
    "Paradoxically, the best score we submitted comes from a model whose parameters were obtained \"by hand\", i.e. without gridsearch."
   ]
  },
  {
   "cell_type": "code",
   "execution_count": 17,
   "metadata": {},
   "outputs": [
    {
     "name": "stdout",
     "output_type": "stream",
     "text": [
      "Fitting 5 folds for each of 50 candidates, totalling 250 fits\n"
     ]
    },
    {
     "name": "stderr",
     "output_type": "stream",
     "text": [
      "[Parallel(n_jobs=-1)]: Using backend LokyBackend with 8 concurrent workers.\n",
      "[Parallel(n_jobs=-1)]: Done  34 tasks      | elapsed:  6.1min\n",
      "[Parallel(n_jobs=-1)]: Done 184 tasks      | elapsed: 30.2min\n",
      "[Parallel(n_jobs=-1)]: Done 250 out of 250 | elapsed: 40.9min finished\n"
     ]
    },
    {
     "name": "stdout",
     "output_type": "stream",
     "text": [
      "The best hidden_layer_sizes is  (130, 50)  with an average validation score equal to  0.9980443993179756\n",
      "It s better to work with leatning rate = invscaling\n",
      "The test score is 0.9977765677466195\n"
     ]
    }
   ],
   "source": [
    "res=[]\n",
    "for i in range(10,200,20):\n",
    "    for j in range(10,100,10):\n",
    "        res.append((i,j))\n",
    "    res.append((i,))\n",
    "\n",
    "param = {\n",
    "    'hidden_layer_sizes': res,\n",
    "    'learning_rate':['constant','invscaling'],\n",
    "    }\n",
    "\n",
    "model = MLPClassifier(tol=0.00001,max_iter=300)\n",
    "\n",
    "grid = RandomizedSearchCV(model, param, n_iter=50, cv=5, n_jobs=-1,verbose=1)\n",
    "grid.fit(X_train_scaled, y_train)\n",
    "\n",
    "print('The best hidden_layer_sizes is ', grid.best_params_.get('hidden_layer_sizes'),' with an average validation score equal to ', grid.best_score_)\n",
    "print('It s better to work with leatning rate =', grid.best_params_.get('learning_rate'))\n",
    "\n",
    "# Let's now use the best model to assess the test score\n",
    "BestModel=grid.best_estimator_\n",
    "print('The test score is', BestModel.score(X_test_scaled, y_test))"
   ]
  },
  {
   "cell_type": "code",
   "execution_count": 18,
   "metadata": {},
   "outputs": [],
   "source": [
    "mlp=MLPClassifier(hidden_layer_sizes=(130,5),learning_rate='invscaling',verbose=1,max_iter=500,random_state=0)"
   ]
  },
  {
   "cell_type": "code",
   "execution_count": 20,
   "metadata": {},
   "outputs": [
    {
     "name": "stdout",
     "output_type": "stream",
     "text": [
      "Iteration 1, loss = 0.04328032\n",
      "Iteration 2, loss = 0.00828405\n",
      "Iteration 3, loss = 0.00686279\n",
      "Iteration 4, loss = 0.00601021\n",
      "Iteration 5, loss = 0.00533653\n",
      "Iteration 6, loss = 0.00511262\n",
      "Iteration 7, loss = 0.00446764\n",
      "Iteration 8, loss = 0.00445541\n",
      "Iteration 9, loss = 0.00431391\n",
      "Iteration 10, loss = 0.00373403\n",
      "Iteration 11, loss = 0.00337345\n",
      "Iteration 12, loss = 0.00317996\n",
      "Iteration 13, loss = 0.00285204\n",
      "Iteration 14, loss = 0.00268906\n",
      "Iteration 15, loss = 0.00245521\n",
      "Iteration 16, loss = 0.00252386\n",
      "Iteration 17, loss = 0.00236168\n",
      "Iteration 18, loss = 0.00235667\n",
      "Iteration 19, loss = 0.00172009\n",
      "Iteration 20, loss = 0.00166245\n",
      "Iteration 21, loss = 0.00134417\n",
      "Iteration 22, loss = 0.00124160\n",
      "Iteration 23, loss = 0.00113403\n",
      "Iteration 24, loss = 0.00100340\n",
      "Iteration 25, loss = 0.00096585\n",
      "Iteration 26, loss = 0.00090362\n",
      "Iteration 27, loss = 0.00077585\n",
      "Iteration 28, loss = 0.00059776\n",
      "Iteration 29, loss = 0.00145707\n",
      "Iteration 30, loss = 0.00182690\n",
      "Iteration 31, loss = 0.00089151\n",
      "Iteration 32, loss = 0.00055783\n",
      "Iteration 33, loss = 0.00040079\n",
      "Iteration 34, loss = 0.00032481\n",
      "Iteration 35, loss = 0.00025980\n",
      "Iteration 36, loss = 0.00032639\n",
      "Iteration 37, loss = 0.00060468\n",
      "Iteration 38, loss = 0.00098223\n",
      "Iteration 39, loss = 0.00035871\n",
      "Iteration 40, loss = 0.00030996\n",
      "Iteration 41, loss = 0.00033949\n",
      "Iteration 42, loss = 0.00018705\n",
      "Iteration 43, loss = 0.00015245\n",
      "Iteration 44, loss = 0.00118321\n",
      "Training loss did not improve more than tol=0.000100 for 10 consecutive epochs. Stopping.\n"
     ]
    },
    {
     "data": {
      "text/plain": [
       "MLPClassifier(activation='relu', alpha=0.0001, batch_size='auto', beta_1=0.9,\n",
       "              beta_2=0.999, early_stopping=False, epsilon=1e-08,\n",
       "              hidden_layer_sizes=(130, 5), learning_rate='invscaling',\n",
       "              learning_rate_init=0.001, max_fun=15000, max_iter=500,\n",
       "              momentum=0.9, n_iter_no_change=10, nesterovs_momentum=True,\n",
       "              power_t=0.5, random_state=0, shuffle=True, solver='adam',\n",
       "              tol=0.0001, validation_fraction=0.1, verbose=1, warm_start=False)"
      ]
     },
     "execution_count": 20,
     "metadata": {},
     "output_type": "execute_result"
    }
   ],
   "source": [
    "mlp.fit(X_train_scaled,y_train)"
   ]
  },
  {
   "cell_type": "code",
   "execution_count": 22,
   "metadata": {},
   "outputs": [
    {
     "data": {
      "text/plain": [
       "0.9996535809670678"
      ]
     },
     "execution_count": 22,
     "metadata": {},
     "output_type": "execute_result"
    }
   ],
   "source": [
    "mlp.score(X_train_scaled,y_train)"
   ]
  },
  {
   "cell_type": "code",
   "execution_count": 23,
   "metadata": {},
   "outputs": [
    {
     "data": {
      "text/plain": [
       "0.9978219439150559"
      ]
     },
     "execution_count": 23,
     "metadata": {},
     "output_type": "execute_result"
    }
   ],
   "source": [
    "mlp.score(X_test_scaled,y_test)"
   ]
  },
  {
   "cell_type": "code",
   "execution_count": 24,
   "metadata": {},
   "outputs": [],
   "source": [
    "y_pred=mlp.predict(X_test_scaled)"
   ]
  },
  {
   "cell_type": "code",
   "execution_count": 25,
   "metadata": {},
   "outputs": [
    {
     "name": "stdout",
     "output_type": "stream",
     "text": [
      "Normalized confusion matrix\n",
      "[[9.99175073e-01 8.24926935e-04]\n",
      " [3.70145631e-02 9.62985437e-01]]\n"
     ]
    },
    {
     "data": {
      "image/png": "[encoded data removed]",
      "text/plain": [
       "<Figure size 432x288 with 2 Axes>"
      ]
     },
     "metadata": {},
     "output_type": "display_data"
    }
   ],
   "source": [
    "# Compute confusion matrix\n",
    "cnf_matrix = confusion_matrix(y_test, y_pred)\n",
    "\n",
    "# Plot normalized confusion matrix\n",
    "plt.figure()\n",
    "plot_confusion_matrix(cnf_matrix, classes= classes_name ,normalize=True)\n",
    "plt.show()"
   ]
  },
  {
   "cell_type": "markdown",
   "metadata": {},
   "source": [
    "---\n",
    "\n",
    "The problem is that the parameter tuning didn't change much. \n",
    "\n",
    "The few times we got a score on the test set above 99.86%, we got \"only\" 99.80 when submitting our model. \n",
    "Another defect is that the tol parameter can't be as small as we want. The training lasts a maximum of 70 epochs. We can't get an accuracy as small as we want to the thousandth, while every decimal place is important in this project. \n",
    "\n",
    "Paradoxically, the best score we submitted comes from a model whose parameters were obtained \"by hand\", i.e. without gridsearch.\n",
    "\n",
    "In an attempt to further improve our score, we decided to learn more about the models that frequently win machine learning competitions. \n",
    "That's how we found a model that frequently seemed to be above the others, called xgboost. \n",
    "\n",
    "---"
   ]
  },
  {
   "cell_type": "code",
   "execution_count": 50,
   "metadata": {},
   "outputs": [],
   "source": [
    "#TO SUBMIT : \n",
    "submit(model=mlp,X_exam=X_exam_scaled)"
   ]
  },
  {
   "cell_type": "markdown",
   "metadata": {},
   "source": [
    "## 4- XGBOOST"
   ]
  },
  {
   "cell_type": "markdown",
   "metadata": {},
   "source": [
    "---\n",
    "\n",
    "***What is XGBoost?***\n",
    "\n",
    "XGBoost is a decision-tree-based ensemble Machine Learning algorithm that uses a gradient boosting framework.\n",
    "\n",
    "It’s in fact an optimized gradient boosting algorithm through parallel processing, tree-pruning, handling missing values and regularization to avoid overfitting. XGBoost algorithm was developed as a research project at the University of Washington by Tianqi Chen and Carlos Guestrin. \n",
    "\n",
    "---"
   ]
  },
  {
   "cell_type": "markdown",
   "metadata": {},
   "source": [
    "First we gonna test it with default parameters. We don't need to have our data scaled here, so we use X_train and not X_train scaled. "
   ]
  },
  {
   "cell_type": "code",
   "execution_count": 51,
   "metadata": {},
   "outputs": [
    {
     "name": "stdout",
     "output_type": "stream",
     "text": [
      "Classification done in 69.51561117172241s\n"
     ]
    }
   ],
   "source": [
    "t0 = time()\n",
    "boost = XGBClassifier()\n",
    "boost.fit(X_train,y_train)\n",
    "print(\"Classification done in \"+str(time() - t0)+\"s\")"
   ]
  },
  {
   "cell_type": "code",
   "execution_count": 52,
   "metadata": {},
   "outputs": [
    {
     "data": {
      "text/plain": [
       "0.9999804441141673"
      ]
     },
     "execution_count": 52,
     "metadata": {},
     "output_type": "execute_result"
    }
   ],
   "source": [
    "boost.score(X_train,y_train)"
   ]
  },
  {
   "cell_type": "code",
   "execution_count": 55,
   "metadata": {},
   "outputs": [],
   "source": [
    "s2=boost.score(X_test,y_test)"
   ]
  },
  {
   "cell_type": "code",
   "execution_count": 56,
   "metadata": {},
   "outputs": [
    {
     "name": "stdout",
     "output_type": "stream",
     "text": [
      "The score on the test set is : 99.8896788776173 %.\n"
     ]
    }
   ],
   "source": [
    "print(\"The score on the test set is :\",s2*100,\"%.\")"
   ]
  },
  {
   "cell_type": "markdown",
   "metadata": {},
   "source": [
    "This score is the best we've had since the beginning so we'll try to submit it right away and see what it says about the data to predict."
   ]
  },
  {
   "cell_type": "code",
   "execution_count": 54,
   "metadata": {},
   "outputs": [],
   "source": [
    "#TO SUBMIT\n",
    "submit(model=boost,X_exam=X_exam)"
   ]
  },
  {
   "cell_type": "markdown",
   "metadata": {},
   "source": [
    "SCORE OBTAINED : ***0.998423889852***. \n",
    "\n",
    "This is good but we can do better. "
   ]
  },
  {
   "cell_type": "code",
   "execution_count": 57,
   "metadata": {},
   "outputs": [
    {
     "name": "stdout",
     "output_type": "stream",
     "text": [
      "Normalized confusion matrix\n",
      "[[9.99578732e-01 4.21268460e-04]\n",
      " [1.86986926e-02 9.81301307e-01]]\n"
     ]
    },
    {
     "data": {
      "image/png": "[encoded data removed]",
      "text/plain": [
       "<Figure size 432x288 with 2 Axes>"
      ]
     },
     "metadata": {},
     "output_type": "display_data"
    }
   ],
   "source": [
    "#Confusion matrix to analyse the faults \n",
    "y_pred=boost.predict(X_test)\n",
    "\n",
    "# Compute confusion matrix\n",
    "cnf_matrix = confusion_matrix(y_test, y_pred)\n",
    "\n",
    "# Plot normalized confusion matrix\n",
    "plt.figure()\n",
    "plot_confusion_matrix(cnf_matrix, classes= classes_name ,normalize=True)\n",
    "plt.show()"
   ]
  },
  {
   "cell_type": "markdown",
   "metadata": {},
   "source": [
    "As expected, this model, winner in many Kaggle competitions, allowed us to get good scores directly. It's the first time we achieve such score on the test sets, and especially the first time our prediction on label 1 reach 0.98.\n",
    "\n",
    "\n",
    "However, xgboost has two major drawbacks: \n",
    "\n",
    "- its training time: on our computers, a training on all training observations could take up to 10 minutes. \n",
    "\n",
    "- its number of hyper-parameters to be adjusted : \n",
    "By reading on the internet tips for tuning the hyper-parameters of the xgboost, we have seen that the number of parameters to play with is 6. \n",
    "\n",
    "source : https://towardsdatascience.com/fine-tuning-xgboost-in-python-like-a-boss-b4543ed8b1e"
   ]
  },
  {
   "cell_type": "markdown",
   "metadata": {},
   "source": [
    "Here is the list of parameter that we are going to examine : \n",
    "\n",
    "* max_depth : Maximum depth of a tree. Increasing this value will make the model more complex and more likely to overfit.\n",
    "\n",
    "* gamma : Minimum loss reduction required to make a further partition on a leaf node of the tree. \n",
    "\n",
    "* n_estimators : very important. The number of boosting stages to perform.\n",
    "\n",
    "* learning_rate : learning rate shrinks the contribution of each tree by learning_rate.\n",
    "\n",
    "* subsample : Subsample ratio of the training instance.\n",
    "\n",
    "* colsample_bytree : subsample ratio of columns when constructing each tree."
   ]
  },
  {
   "cell_type": "code",
   "execution_count": 10,
   "metadata": {},
   "outputs": [],
   "source": [
    "params_fixed={'objective':'binary:logistic','silent':0}"
   ]
  },
  {
   "cell_type": "code",
   "execution_count": 11,
   "metadata": {},
   "outputs": [],
   "source": [
    "params_dist_grid={\n",
    "    'max_depth':range(3,10,2),\n",
    "    'gamma':[0,0.5,1],\n",
    "    'n_estimators':randint(30,500),\n",
    "    'learning_rate':uniform(),\n",
    "    'subsample':uniform(),\n",
    "    'colsample_bytree':uniform()\n",
    "}"
   ]
  },
  {
   "cell_type": "markdown",
   "metadata": {},
   "source": [
    "By testing 6 values for each of the parameters, we obtain 6⁶=46,656 possibilities. If we count 5 minutes per iteration, we get 233,280 minutes, 3888 hours, 162 days. And still, we did not take into account that the cross validation practiced in the gridsearch took even more time than a simple training. "
   ]
  },
  {
   "cell_type": "markdown",
   "metadata": {},
   "source": [
    "In other words, it was totally impossible to test all possible parameters. \n",
    "That's why we chose to use a RandomizedGridSearchCV. With this type of approach, we choose the number of possibilities we will test. \n",
    "These will be randomly selected among the possibilities that we have entered as input. \n",
    "So we are not sure to get a maximum overall score, but the best combination of parameters will probably give a very good score. \n",
    "In terms of the number of possibilities to test, we've chosen to test 50, which is enough to keep the training running for a long afternoon."
   ]
  },
  {
   "cell_type": "markdown",
   "metadata": {},
   "source": [
    "Here is the correspondig code. It take one night to make the 50 iterations."
   ]
  },
  {
   "cell_type": "code",
   "execution_count": 23,
   "metadata": {},
   "outputs": [],
   "source": [
    "rd_grid=RandomizedSearchCV(\n",
    "    estimator=XGBClassifier(**params_fixed,seed=seed),param_distributions=params_dist_grid,\n",
    "n_iter=50,\n",
    "cv=3,\n",
    "scoring='accuracy',\n",
    "random_state=seed,\n",
    "verbose=10\n",
    ")"
   ]
  },
  {
   "cell_type": "code",
   "execution_count": 24,
   "metadata": {},
   "outputs": [
    {
     "name": "stdout",
     "output_type": "stream",
     "text": [
      "Fitting 3 folds for each of 50 candidates, totalling 150 fits\n",
      "[CV] colsample_bytree=0.06503439684192913, gamma=0, learning_rate=0.24756150723102166, max_depth=7, n_estimators=34, subsample=0.11848249237448605 \n"
     ]
    },
    {
     "name": "stderr",
     "output_type": "stream",
     "text": [
      "[Parallel(n_jobs=1)]: Using backend SequentialBackend with 1 concurrent workers.\n"
     ]
    },
    {
     "name": "stdout",
     "output_type": "stream",
     "text": [
      "[CV]  colsample_bytree=0.06503439684192913, gamma=0, learning_rate=0.24756150723102166, max_depth=7, n_estimators=34, subsample=0.11848249237448605, score=0.997, total=   4.3s\n",
      "[CV] colsample_bytree=0.06503439684192913, gamma=0, learning_rate=0.24756150723102166, max_depth=7, n_estimators=34, subsample=0.11848249237448605 \n"
     ]
    },
    {
     "name": "stderr",
     "output_type": "stream",
     "text": [
      "[Parallel(n_jobs=1)]: Done   1 out of   1 | elapsed:    4.3s remaining:    0.0s\n"
     ]
    },
    {
     "name": "stdout",
     "output_type": "stream",
     "text": [
      "[CV]  colsample_bytree=0.06503439684192913, gamma=0, learning_rate=0.24756150723102166, max_depth=7, n_estimators=34, subsample=0.11848249237448605, score=0.996, total=   4.2s\n",
      "[CV] colsample_bytree=0.06503439684192913, gamma=0, learning_rate=0.24756150723102166, max_depth=7, n_estimators=34, subsample=0.11848249237448605 \n"
     ]
    },
    {
     "name": "stderr",
     "output_type": "stream",
     "text": [
      "[Parallel(n_jobs=1)]: Done   2 out of   2 | elapsed:    8.5s remaining:    0.0s\n"
     ]
    },
    {
     "name": "stdout",
     "output_type": "stream",
     "text": [
      "[CV]  colsample_bytree=0.06503439684192913, gamma=0, learning_rate=0.24756150723102166, max_depth=7, n_estimators=34, subsample=0.11848249237448605, score=0.997, total=   4.2s\n",
      "[CV] colsample_bytree=0.13214054942810016, gamma=0, learning_rate=0.4325346125891868, max_depth=3, n_estimators=457, subsample=0.8942723823370169 \n"
     ]
    },
    {
     "name": "stderr",
     "output_type": "stream",
     "text": [
      "[Parallel(n_jobs=1)]: Done   3 out of   3 | elapsed:   12.6s remaining:    0.0s\n"
     ]
    },
    {
     "name": "stdout",
     "output_type": "stream",
     "text": [
      "[CV]  colsample_bytree=0.13214054942810016, gamma=0, learning_rate=0.4325346125891868, max_depth=3, n_estimators=457, subsample=0.8942723823370169, score=0.999, total=  39.4s\n",
      "[CV] colsample_bytree=0.13214054942810016, gamma=0, learning_rate=0.4325346125891868, max_depth=3, n_estimators=457, subsample=0.8942723823370169 \n"
     ]
    },
    {
     "name": "stderr",
     "output_type": "stream",
     "text": [
      "[Parallel(n_jobs=1)]: Done   4 out of   4 | elapsed:   52.0s remaining:    0.0s\n"
     ]
    },
    {
     "name": "stdout",
     "output_type": "stream",
     "text": [
      "[CV]  colsample_bytree=0.13214054942810016, gamma=0, learning_rate=0.4325346125891868, max_depth=3, n_estimators=457, subsample=0.8942723823370169, score=0.999, total=  39.7s\n",
      "[CV] colsample_bytree=0.13214054942810016, gamma=0, learning_rate=0.4325346125891868, max_depth=3, n_estimators=457, subsample=0.8942723823370169 \n"
     ]
    },
    {
     "name": "stderr",
     "output_type": "stream",
     "text": [
      "[Parallel(n_jobs=1)]: Done   5 out of   5 | elapsed:  1.5min remaining:    0.0s\n"
     ]
    },
    {
     "name": "stdout",
     "output_type": "stream",
     "text": [
      "[CV]  colsample_bytree=0.13214054942810016, gamma=0, learning_rate=0.4325346125891868, max_depth=3, n_estimators=457, subsample=0.8942723823370169, score=0.999, total=  40.0s\n",
      "[CV] colsample_bytree=0.1523931947190449, gamma=1, learning_rate=0.23096728629607655, max_depth=7, n_estimators=91, subsample=0.7099300190073073 \n"
     ]
    },
    {
     "name": "stderr",
     "output_type": "stream",
     "text": [
      "[Parallel(n_jobs=1)]: Done   6 out of   6 | elapsed:  2.2min remaining:    0.0s\n"
     ]
    },
    {
     "name": "stdout",
     "output_type": "stream",
     "text": [
      "[CV]  colsample_bytree=0.1523931947190449, gamma=1, learning_rate=0.23096728629607655, max_depth=7, n_estimators=91, subsample=0.7099300190073073, score=0.998, total=  16.0s\n",
      "[CV] colsample_bytree=0.1523931947190449, gamma=1, learning_rate=0.23096728629607655, max_depth=7, n_estimators=91, subsample=0.7099300190073073 \n"
     ]
    },
    {
     "name": "stderr",
     "output_type": "stream",
     "text": [
      "[Parallel(n_jobs=1)]: Done   7 out of   7 | elapsed:  2.5min remaining:    0.0s\n"
     ]
    },
    {
     "name": "stdout",
     "output_type": "stream",
     "text": [
      "[CV]  colsample_bytree=0.1523931947190449, gamma=1, learning_rate=0.23096728629607655, max_depth=7, n_estimators=91, subsample=0.7099300190073073, score=0.999, total=  16.0s\n",
      "[CV] colsample_bytree=0.1523931947190449, gamma=1, learning_rate=0.23096728629607655, max_depth=7, n_estimators=91, subsample=0.7099300190073073 \n"
     ]
    },
    {
     "name": "stderr",
     "output_type": "stream",
     "text": [
      "[Parallel(n_jobs=1)]: Done   8 out of   8 | elapsed:  2.7min remaining:    0.0s\n"
     ]
    },
    {
     "name": "stdout",
     "output_type": "stream",
     "text": [
      "[CV]  colsample_bytree=0.1523931947190449, gamma=1, learning_rate=0.23096728629607655, max_depth=7, n_estimators=91, subsample=0.7099300190073073, score=0.999, total=  20.3s\n",
      "[CV] colsample_bytree=0.22187963515640408, gamma=1, learning_rate=0.3807697564898246, max_depth=7, n_estimators=142, subsample=0.8058014316376573 \n"
     ]
    },
    {
     "name": "stderr",
     "output_type": "stream",
     "text": [
      "[Parallel(n_jobs=1)]: Done   9 out of   9 | elapsed:  3.1min remaining:    0.0s\n"
     ]
    },
    {
     "name": "stdout",
     "output_type": "stream",
     "text": [
      "[CV]  colsample_bytree=0.22187963515640408, gamma=1, learning_rate=0.3807697564898246, max_depth=7, n_estimators=142, subsample=0.8058014316376573, score=0.999, total=  31.6s\n",
      "[CV] colsample_bytree=0.22187963515640408, gamma=1, learning_rate=0.3807697564898246, max_depth=7, n_estimators=142, subsample=0.8058014316376573 \n",
      "[CV]  colsample_bytree=0.22187963515640408, gamma=1, learning_rate=0.3807697564898246, max_depth=7, n_estimators=142, subsample=0.8058014316376573, score=0.999, total=  28.2s\n",
      "[CV] colsample_bytree=0.22187963515640408, gamma=1, learning_rate=0.3807697564898246, max_depth=7, n_estimators=142, subsample=0.8058014316376573 \n",
      "[CV]  colsample_bytree=0.22187963515640408, gamma=1, learning_rate=0.3807697564898246, max_depth=7, n_estimators=142, subsample=0.8058014316376573, score=0.999, total=  29.0s\n",
      "[CV] colsample_bytree=0.4636309538821305, gamma=0, learning_rate=0.7652628330253548, max_depth=3, n_estimators=217, subsample=0.005635524386628399 \n",
      "[CV]  colsample_bytree=0.4636309538821305, gamma=0, learning_rate=0.7652628330253548, max_depth=3, n_estimators=217, subsample=0.005635524386628399, score=0.997, total=  14.6s\n",
      "[CV] colsample_bytree=0.4636309538821305, gamma=0, learning_rate=0.7652628330253548, max_depth=3, n_estimators=217, subsample=0.005635524386628399 \n",
      "[CV]  colsample_bytree=0.4636309538821305, gamma=0, learning_rate=0.7652628330253548, max_depth=3, n_estimators=217, subsample=0.005635524386628399, score=0.997, total=  14.4s\n",
      "[CV] colsample_bytree=0.4636309538821305, gamma=0, learning_rate=0.7652628330253548, max_depth=3, n_estimators=217, subsample=0.005635524386628399 \n",
      "[CV]  colsample_bytree=0.4636309538821305, gamma=0, learning_rate=0.7652628330253548, max_depth=3, n_estimators=217, subsample=0.005635524386628399, score=0.997, total=  14.8s\n",
      "[CV] colsample_bytree=0.3484693847948471, gamma=0.5, learning_rate=0.501367277763467, max_depth=3, n_estimators=344, subsample=0.7446963541453213 \n",
      "[CV]  colsample_bytree=0.3484693847948471, gamma=0.5, learning_rate=0.501367277763467, max_depth=3, n_estimators=344, subsample=0.7446963541453213, score=0.999, total=  42.1s\n",
      "[CV] colsample_bytree=0.3484693847948471, gamma=0.5, learning_rate=0.501367277763467, max_depth=3, n_estimators=344, subsample=0.7446963541453213 \n",
      "[CV]  colsample_bytree=0.3484693847948471, gamma=0.5, learning_rate=0.501367277763467, max_depth=3, n_estimators=344, subsample=0.7446963541453213, score=0.999, total=  41.1s\n",
      "[CV] colsample_bytree=0.3484693847948471, gamma=0.5, learning_rate=0.501367277763467, max_depth=3, n_estimators=344, subsample=0.7446963541453213 \n",
      "[CV]  colsample_bytree=0.3484693847948471, gamma=0.5, learning_rate=0.501367277763467, max_depth=3, n_estimators=344, subsample=0.7446963541453213, score=0.999, total=  41.6s\n",
      "[CV] colsample_bytree=0.027059952336016435, gamma=0.5, learning_rate=0.32181898059099534, max_depth=7, n_estimators=106, subsample=0.1430695313368998 \n",
      "[CV]  colsample_bytree=0.027059952336016435, gamma=0.5, learning_rate=0.32181898059099534, max_depth=7, n_estimators=106, subsample=0.1430695313368998, score=0.997, total=   9.7s\n",
      "[CV] colsample_bytree=0.027059952336016435, gamma=0.5, learning_rate=0.32181898059099534, max_depth=7, n_estimators=106, subsample=0.1430695313368998 \n",
      "[CV]  colsample_bytree=0.027059952336016435, gamma=0.5, learning_rate=0.32181898059099534, max_depth=7, n_estimators=106, subsample=0.1430695313368998, score=0.997, total=   9.7s\n",
      "[CV] colsample_bytree=0.027059952336016435, gamma=0.5, learning_rate=0.32181898059099534, max_depth=7, n_estimators=106, subsample=0.1430695313368998 \n",
      "[CV]  colsample_bytree=0.027059952336016435, gamma=0.5, learning_rate=0.32181898059099534, max_depth=7, n_estimators=106, subsample=0.1430695313368998, score=0.998, total=   9.7s\n",
      "[CV] colsample_bytree=0.6052416274824561, gamma=0, learning_rate=0.6050492440098373, max_depth=7, n_estimators=304, subsample=0.7395162785706926 \n",
      "[CV]  colsample_bytree=0.6052416274824561, gamma=0, learning_rate=0.6050492440098373, max_depth=7, n_estimators=304, subsample=0.7395162785706926, score=0.999, total= 1.2min\n",
      "[CV] colsample_bytree=0.6052416274824561, gamma=0, learning_rate=0.6050492440098373, max_depth=7, n_estimators=304, subsample=0.7395162785706926 \n",
      "[CV]  colsample_bytree=0.6052416274824561, gamma=0, learning_rate=0.6050492440098373, max_depth=7, n_estimators=304, subsample=0.7395162785706926, score=0.999, total= 1.3min\n",
      "[CV] colsample_bytree=0.6052416274824561, gamma=0, learning_rate=0.6050492440098373, max_depth=7, n_estimators=304, subsample=0.7395162785706926 \n",
      "[CV]  colsample_bytree=0.6052416274824561, gamma=0, learning_rate=0.6050492440098373, max_depth=7, n_estimators=304, subsample=0.7395162785706926, score=0.999, total= 1.3min\n",
      "[CV] colsample_bytree=0.3798729645059653, gamma=0, learning_rate=0.2244110761611232, max_depth=9, n_estimators=212, subsample=0.38626895174139364 \n",
      "[CV]  colsample_bytree=0.3798729645059653, gamma=0, learning_rate=0.2244110761611232, max_depth=9, n_estimators=212, subsample=0.38626895174139364, score=0.999, total=  55.1s\n",
      "[CV] colsample_bytree=0.3798729645059653, gamma=0, learning_rate=0.2244110761611232, max_depth=9, n_estimators=212, subsample=0.38626895174139364 \n",
      "[CV]  colsample_bytree=0.3798729645059653, gamma=0, learning_rate=0.2244110761611232, max_depth=9, n_estimators=212, subsample=0.38626895174139364, score=0.999, total=  53.9s\n",
      "[CV] colsample_bytree=0.3798729645059653, gamma=0, learning_rate=0.2244110761611232, max_depth=9, n_estimators=212, subsample=0.38626895174139364 \n",
      "[CV]  colsample_bytree=0.3798729645059653, gamma=0, learning_rate=0.2244110761611232, max_depth=9, n_estimators=212, subsample=0.38626895174139364, score=0.999, total=  55.1s\n",
      "[CV] colsample_bytree=0.6081741773955259, gamma=0, learning_rate=0.3242569496604357, max_depth=3, n_estimators=487, subsample=0.16575363219645556 \n",
      "[CV]  colsample_bytree=0.6081741773955259, gamma=0, learning_rate=0.3242569496604357, max_depth=3, n_estimators=487, subsample=0.16575363219645556, score=0.998, total=  58.0s\n",
      "[CV] colsample_bytree=0.6081741773955259, gamma=0, learning_rate=0.3242569496604357, max_depth=3, n_estimators=487, subsample=0.16575363219645556 \n",
      "[CV]  colsample_bytree=0.6081741773955259, gamma=0, learning_rate=0.3242569496604357, max_depth=3, n_estimators=487, subsample=0.16575363219645556, score=0.998, total=  57.6s\n",
      "[CV] colsample_bytree=0.6081741773955259, gamma=0, learning_rate=0.3242569496604357, max_depth=3, n_estimators=487, subsample=0.16575363219645556 \n",
      "[CV]  colsample_bytree=0.6081741773955259, gamma=0, learning_rate=0.3242569496604357, max_depth=3, n_estimators=487, subsample=0.16575363219645556, score=0.998, total=  59.0s\n",
      "[CV] colsample_bytree=0.34825342627224587, gamma=0, learning_rate=0.4185815141367779, max_depth=3, n_estimators=488, subsample=0.8780483709609663 \n",
      "[CV]  colsample_bytree=0.34825342627224587, gamma=0, learning_rate=0.4185815141367779, max_depth=3, n_estimators=488, subsample=0.8780483709609663, score=0.999, total=  56.9s\n",
      "[CV] colsample_bytree=0.34825342627224587, gamma=0, learning_rate=0.4185815141367779, max_depth=3, n_estimators=488, subsample=0.8780483709609663 \n",
      "[CV]  colsample_bytree=0.34825342627224587, gamma=0, learning_rate=0.4185815141367779, max_depth=3, n_estimators=488, subsample=0.8780483709609663, score=0.999, total=  56.8s\n",
      "[CV] colsample_bytree=0.34825342627224587, gamma=0, learning_rate=0.4185815141367779, max_depth=3, n_estimators=488, subsample=0.8780483709609663 \n",
      "[CV]  colsample_bytree=0.34825342627224587, gamma=0, learning_rate=0.4185815141367779, max_depth=3, n_estimators=488, subsample=0.8780483709609663, score=0.999, total=  56.9s\n",
      "[CV] colsample_bytree=0.4288656296016934, gamma=0.5, learning_rate=0.6730164898324128, max_depth=5, n_estimators=410, subsample=0.7248087016755762 \n",
      "[CV]  colsample_bytree=0.4288656296016934, gamma=0.5, learning_rate=0.6730164898324128, max_depth=5, n_estimators=410, subsample=0.7248087016755762, score=0.999, total= 1.3min\n",
      "[CV] colsample_bytree=0.4288656296016934, gamma=0.5, learning_rate=0.6730164898324128, max_depth=5, n_estimators=410, subsample=0.7248087016755762 \n",
      "[CV]  colsample_bytree=0.4288656296016934, gamma=0.5, learning_rate=0.6730164898324128, max_depth=5, n_estimators=410, subsample=0.7248087016755762, score=0.999, total= 1.3min\n",
      "[CV] colsample_bytree=0.4288656296016934, gamma=0.5, learning_rate=0.6730164898324128, max_depth=5, n_estimators=410, subsample=0.7248087016755762 \n"
     ]
    },
    {
     "name": "stdout",
     "output_type": "stream",
     "text": [
      "[CV]  colsample_bytree=0.4288656296016934, gamma=0.5, learning_rate=0.6730164898324128, max_depth=5, n_estimators=410, subsample=0.7248087016755762, score=0.999, total= 1.3min\n",
      "[CV] colsample_bytree=0.0017306007327145823, gamma=0.5, learning_rate=0.05315918465055469, max_depth=9, n_estimators=205, subsample=0.8061810315662579 \n",
      "[CV]  colsample_bytree=0.0017306007327145823, gamma=0.5, learning_rate=0.05315918465055469, max_depth=9, n_estimators=205, subsample=0.8061810315662579, score=0.997, total=  23.7s\n",
      "[CV] colsample_bytree=0.0017306007327145823, gamma=0.5, learning_rate=0.05315918465055469, max_depth=9, n_estimators=205, subsample=0.8061810315662579 \n",
      "[CV]  colsample_bytree=0.0017306007327145823, gamma=0.5, learning_rate=0.05315918465055469, max_depth=9, n_estimators=205, subsample=0.8061810315662579, score=0.997, total=  23.8s\n",
      "[CV] colsample_bytree=0.0017306007327145823, gamma=0.5, learning_rate=0.05315918465055469, max_depth=9, n_estimators=205, subsample=0.8061810315662579 \n",
      "[CV]  colsample_bytree=0.0017306007327145823, gamma=0.5, learning_rate=0.05315918465055469, max_depth=9, n_estimators=205, subsample=0.8061810315662579, score=0.997, total=  24.1s\n",
      "[CV] colsample_bytree=0.0652058663329057, gamma=0.5, learning_rate=0.3009542371416952, max_depth=5, n_estimators=215, subsample=0.7182879010530241 \n",
      "[CV]  colsample_bytree=0.0652058663329057, gamma=0.5, learning_rate=0.3009542371416952, max_depth=5, n_estimators=215, subsample=0.7182879010530241, score=0.998, total=  23.1s\n",
      "[CV] colsample_bytree=0.0652058663329057, gamma=0.5, learning_rate=0.3009542371416952, max_depth=5, n_estimators=215, subsample=0.7182879010530241 \n",
      "[CV]  colsample_bytree=0.0652058663329057, gamma=0.5, learning_rate=0.3009542371416952, max_depth=5, n_estimators=215, subsample=0.7182879010530241, score=0.998, total=  23.0s\n",
      "[CV] colsample_bytree=0.0652058663329057, gamma=0.5, learning_rate=0.3009542371416952, max_depth=5, n_estimators=215, subsample=0.7182879010530241 \n",
      "[CV]  colsample_bytree=0.0652058663329057, gamma=0.5, learning_rate=0.3009542371416952, max_depth=5, n_estimators=215, subsample=0.7182879010530241, score=0.999, total=  23.0s\n",
      "[CV] colsample_bytree=0.03736425297203316, gamma=1, learning_rate=0.34508603000232396, max_depth=3, n_estimators=149, subsample=0.3515989871516927 \n",
      "[CV]  colsample_bytree=0.03736425297203316, gamma=1, learning_rate=0.34508603000232396, max_depth=3, n_estimators=149, subsample=0.3515989871516927, score=0.998, total=  10.8s\n",
      "[CV] colsample_bytree=0.03736425297203316, gamma=1, learning_rate=0.34508603000232396, max_depth=3, n_estimators=149, subsample=0.3515989871516927 \n",
      "[CV]  colsample_bytree=0.03736425297203316, gamma=1, learning_rate=0.34508603000232396, max_depth=3, n_estimators=149, subsample=0.3515989871516927, score=0.998, total=  10.9s\n",
      "[CV] colsample_bytree=0.03736425297203316, gamma=1, learning_rate=0.34508603000232396, max_depth=3, n_estimators=149, subsample=0.3515989871516927 \n",
      "[CV]  colsample_bytree=0.03736425297203316, gamma=1, learning_rate=0.34508603000232396, max_depth=3, n_estimators=149, subsample=0.3515989871516927, score=0.998, total=16.1min\n",
      "[CV] colsample_bytree=0.28640275096467005, gamma=0.5, learning_rate=0.13625268915862287, max_depth=5, n_estimators=375, subsample=0.7122370715991608 \n",
      "[CV]  colsample_bytree=0.28640275096467005, gamma=0.5, learning_rate=0.13625268915862287, max_depth=5, n_estimators=375, subsample=0.7122370715991608, score=0.999, total= 1.2min\n",
      "[CV] colsample_bytree=0.28640275096467005, gamma=0.5, learning_rate=0.13625268915862287, max_depth=5, n_estimators=375, subsample=0.7122370715991608 \n",
      "[CV]  colsample_bytree=0.28640275096467005, gamma=0.5, learning_rate=0.13625268915862287, max_depth=5, n_estimators=375, subsample=0.7122370715991608, score=0.999, total= 1.1min\n",
      "[CV] colsample_bytree=0.28640275096467005, gamma=0.5, learning_rate=0.13625268915862287, max_depth=5, n_estimators=375, subsample=0.7122370715991608 \n",
      "[CV]  colsample_bytree=0.28640275096467005, gamma=0.5, learning_rate=0.13625268915862287, max_depth=5, n_estimators=375, subsample=0.7122370715991608, score=0.999, total= 1.1min\n",
      "[CV] colsample_bytree=0.11584888265940785, gamma=0, learning_rate=0.4908537989581572, max_depth=7, n_estimators=217, subsample=0.21808623249143 \n",
      "[CV]  colsample_bytree=0.11584888265940785, gamma=0, learning_rate=0.4908537989581572, max_depth=7, n_estimators=217, subsample=0.21808623249143, score=0.998, total=  28.9s\n",
      "[CV] colsample_bytree=0.11584888265940785, gamma=0, learning_rate=0.4908537989581572, max_depth=7, n_estimators=217, subsample=0.21808623249143 \n",
      "[CV]  colsample_bytree=0.11584888265940785, gamma=0, learning_rate=0.4908537989581572, max_depth=7, n_estimators=217, subsample=0.21808623249143, score=0.998, total=  28.7s\n",
      "[CV] colsample_bytree=0.11584888265940785, gamma=0, learning_rate=0.4908537989581572, max_depth=7, n_estimators=217, subsample=0.21808623249143 \n",
      "[CV]  colsample_bytree=0.11584888265940785, gamma=0, learning_rate=0.4908537989581572, max_depth=7, n_estimators=217, subsample=0.21808623249143, score=0.998, total=  29.4s\n",
      "[CV] colsample_bytree=0.6104278565642697, gamma=1, learning_rate=0.19229938260169954, max_depth=3, n_estimators=384, subsample=0.9695258738383024 \n",
      "[CV]  colsample_bytree=0.6104278565642697, gamma=1, learning_rate=0.19229938260169954, max_depth=3, n_estimators=384, subsample=0.9695258738383024, score=0.999, total=  57.8s\n",
      "[CV] colsample_bytree=0.6104278565642697, gamma=1, learning_rate=0.19229938260169954, max_depth=3, n_estimators=384, subsample=0.9695258738383024 \n",
      "[CV]  colsample_bytree=0.6104278565642697, gamma=1, learning_rate=0.19229938260169954, max_depth=3, n_estimators=384, subsample=0.9695258738383024, score=0.999, total=  56.9s\n",
      "[CV] colsample_bytree=0.6104278565642697, gamma=1, learning_rate=0.19229938260169954, max_depth=3, n_estimators=384, subsample=0.9695258738383024 \n",
      "[CV]  colsample_bytree=0.6104278565642697, gamma=1, learning_rate=0.19229938260169954, max_depth=3, n_estimators=384, subsample=0.9695258738383024, score=0.999, total=  57.1s\n",
      "[CV] colsample_bytree=0.4418555802707862, gamma=1, learning_rate=0.838802169791344, max_depth=9, n_estimators=483, subsample=0.34916312744720013 \n",
      "[CV]  colsample_bytree=0.4418555802707862, gamma=1, learning_rate=0.838802169791344, max_depth=9, n_estimators=483, subsample=0.34916312744720013, score=0.998, total= 1.6min\n",
      "[CV] colsample_bytree=0.4418555802707862, gamma=1, learning_rate=0.838802169791344, max_depth=9, n_estimators=483, subsample=0.34916312744720013 \n",
      "[CV]  colsample_bytree=0.4418555802707862, gamma=1, learning_rate=0.838802169791344, max_depth=9, n_estimators=483, subsample=0.34916312744720013, score=0.998, total= 1.6min\n",
      "[CV] colsample_bytree=0.4418555802707862, gamma=1, learning_rate=0.838802169791344, max_depth=9, n_estimators=483, subsample=0.34916312744720013 \n",
      "[CV]  colsample_bytree=0.4418555802707862, gamma=1, learning_rate=0.838802169791344, max_depth=9, n_estimators=483, subsample=0.34916312744720013, score=0.998, total= 1.6min\n",
      "[CV] colsample_bytree=0.6468232104916526, gamma=0.5, learning_rate=0.5599867682778354, max_depth=7, n_estimators=376, subsample=0.8247083447312324 \n",
      "[CV]  colsample_bytree=0.6468232104916526, gamma=0.5, learning_rate=0.5599867682778354, max_depth=7, n_estimators=376, subsample=0.8247083447312324, score=0.999, total= 2.0min\n",
      "[CV] colsample_bytree=0.6468232104916526, gamma=0.5, learning_rate=0.5599867682778354, max_depth=7, n_estimators=376, subsample=0.8247083447312324 \n",
      "[CV]  colsample_bytree=0.6468232104916526, gamma=0.5, learning_rate=0.5599867682778354, max_depth=7, n_estimators=376, subsample=0.8247083447312324, score=0.999, total= 2.0min\n",
      "[CV] colsample_bytree=0.6468232104916526, gamma=0.5, learning_rate=0.5599867682778354, max_depth=7, n_estimators=376, subsample=0.8247083447312324 \n",
      "[CV]  colsample_bytree=0.6468232104916526, gamma=0.5, learning_rate=0.5599867682778354, max_depth=7, n_estimators=376, subsample=0.8247083447312324, score=0.999, total= 2.0min\n",
      "[CV] colsample_bytree=0.4697145869577216, gamma=0.5, learning_rate=0.39720907308977726, max_depth=3, n_estimators=312, subsample=0.9607885510753981 \n",
      "[CV]  colsample_bytree=0.4697145869577216, gamma=0.5, learning_rate=0.39720907308977726, max_depth=3, n_estimators=312, subsample=0.9607885510753981, score=0.999, total=  42.4s\n",
      "[CV] colsample_bytree=0.4697145869577216, gamma=0.5, learning_rate=0.39720907308977726, max_depth=3, n_estimators=312, subsample=0.9607885510753981 \n"
     ]
    },
    {
     "name": "stdout",
     "output_type": "stream",
     "text": [
      "[CV]  colsample_bytree=0.4697145869577216, gamma=0.5, learning_rate=0.39720907308977726, max_depth=3, n_estimators=312, subsample=0.9607885510753981, score=0.999, total=  42.5s\n",
      "[CV] colsample_bytree=0.4697145869577216, gamma=0.5, learning_rate=0.39720907308977726, max_depth=3, n_estimators=312, subsample=0.9607885510753981 \n",
      "[CV]  colsample_bytree=0.4697145869577216, gamma=0.5, learning_rate=0.39720907308977726, max_depth=3, n_estimators=312, subsample=0.9607885510753981, score=0.999, total=  43.5s\n",
      "[CV] colsample_bytree=0.1807105983444972, gamma=0.5, learning_rate=0.7116905005504024, max_depth=7, n_estimators=43, subsample=0.12476164013176438 \n",
      "[CV]  colsample_bytree=0.1807105983444972, gamma=0.5, learning_rate=0.7116905005504024, max_depth=7, n_estimators=43, subsample=0.12476164013176438, score=0.997, total=   6.4s\n",
      "[CV] colsample_bytree=0.1807105983444972, gamma=0.5, learning_rate=0.7116905005504024, max_depth=7, n_estimators=43, subsample=0.12476164013176438 \n",
      "[CV]  colsample_bytree=0.1807105983444972, gamma=0.5, learning_rate=0.7116905005504024, max_depth=7, n_estimators=43, subsample=0.12476164013176438, score=0.997, total=   6.4s\n",
      "[CV] colsample_bytree=0.1807105983444972, gamma=0.5, learning_rate=0.7116905005504024, max_depth=7, n_estimators=43, subsample=0.12476164013176438 \n",
      "[CV]  colsample_bytree=0.1807105983444972, gamma=0.5, learning_rate=0.7116905005504024, max_depth=7, n_estimators=43, subsample=0.12476164013176438, score=0.997, total=   6.5s\n",
      "[CV] colsample_bytree=0.04489508721875779, gamma=0.5, learning_rate=0.3573079777273209, max_depth=7, n_estimators=104, subsample=0.5565968240145037 \n",
      "[CV]  colsample_bytree=0.04489508721875779, gamma=0.5, learning_rate=0.3573079777273209, max_depth=7, n_estimators=104, subsample=0.5565968240145037, score=0.998, total=  11.9s\n",
      "[CV] colsample_bytree=0.04489508721875779, gamma=0.5, learning_rate=0.3573079777273209, max_depth=7, n_estimators=104, subsample=0.5565968240145037 \n",
      "[CV]  colsample_bytree=0.04489508721875779, gamma=0.5, learning_rate=0.3573079777273209, max_depth=7, n_estimators=104, subsample=0.5565968240145037, score=0.998, total=  11.8s\n",
      "[CV] colsample_bytree=0.04489508721875779, gamma=0.5, learning_rate=0.3573079777273209, max_depth=7, n_estimators=104, subsample=0.5565968240145037 \n",
      "[CV]  colsample_bytree=0.04489508721875779, gamma=0.5, learning_rate=0.3573079777273209, max_depth=7, n_estimators=104, subsample=0.5565968240145037, score=0.998, total=  11.7s\n",
      "[CV] colsample_bytree=0.5378305425082532, gamma=0.5, learning_rate=0.07486337619698258, max_depth=5, n_estimators=50, subsample=0.419807612168166 \n",
      "[CV]  colsample_bytree=0.5378305425082532, gamma=0.5, learning_rate=0.07486337619698258, max_depth=5, n_estimators=50, subsample=0.419807612168166, score=0.998, total=  11.4s\n",
      "[CV] colsample_bytree=0.5378305425082532, gamma=0.5, learning_rate=0.07486337619698258, max_depth=5, n_estimators=50, subsample=0.419807612168166 \n",
      "[CV]  colsample_bytree=0.5378305425082532, gamma=0.5, learning_rate=0.07486337619698258, max_depth=5, n_estimators=50, subsample=0.419807612168166, score=0.998, total=  11.3s\n",
      "[CV] colsample_bytree=0.5378305425082532, gamma=0.5, learning_rate=0.07486337619698258, max_depth=5, n_estimators=50, subsample=0.419807612168166 \n",
      "[CV]  colsample_bytree=0.5378305425082532, gamma=0.5, learning_rate=0.07486337619698258, max_depth=5, n_estimators=50, subsample=0.419807612168166, score=0.998, total=  11.4s\n",
      "[CV] colsample_bytree=0.08027764806449922, gamma=0, learning_rate=0.5816739095805397, max_depth=3, n_estimators=431, subsample=0.43419038829354917 \n",
      "[CV]  colsample_bytree=0.08027764806449922, gamma=0, learning_rate=0.5816739095805397, max_depth=3, n_estimators=431, subsample=0.43419038829354917, score=0.998, total=  34.5s\n",
      "[CV] colsample_bytree=0.08027764806449922, gamma=0, learning_rate=0.5816739095805397, max_depth=3, n_estimators=431, subsample=0.43419038829354917 \n",
      "[CV]  colsample_bytree=0.08027764806449922, gamma=0, learning_rate=0.5816739095805397, max_depth=3, n_estimators=431, subsample=0.43419038829354917, score=0.998, total=  34.5s\n",
      "[CV] colsample_bytree=0.08027764806449922, gamma=0, learning_rate=0.5816739095805397, max_depth=3, n_estimators=431, subsample=0.43419038829354917 \n",
      "[CV]  colsample_bytree=0.08027764806449922, gamma=0, learning_rate=0.5816739095805397, max_depth=3, n_estimators=431, subsample=0.43419038829354917, score=0.998, total=  34.4s\n",
      "[CV] colsample_bytree=0.8443575182198271, gamma=0, learning_rate=0.7856293762743507, max_depth=7, n_estimators=192, subsample=0.7530818233092769 \n",
      "[CV]  colsample_bytree=0.8443575182198271, gamma=0, learning_rate=0.7856293762743507, max_depth=7, n_estimators=192, subsample=0.7530818233092769, score=0.999, total= 1.0min\n",
      "[CV] colsample_bytree=0.8443575182198271, gamma=0, learning_rate=0.7856293762743507, max_depth=7, n_estimators=192, subsample=0.7530818233092769 \n",
      "[CV]  colsample_bytree=0.8443575182198271, gamma=0, learning_rate=0.7856293762743507, max_depth=7, n_estimators=192, subsample=0.7530818233092769, score=0.999, total= 1.1min\n",
      "[CV] colsample_bytree=0.8443575182198271, gamma=0, learning_rate=0.7856293762743507, max_depth=7, n_estimators=192, subsample=0.7530818233092769 \n",
      "[CV]  colsample_bytree=0.8443575182198271, gamma=0, learning_rate=0.7856293762743507, max_depth=7, n_estimators=192, subsample=0.7530818233092769, score=0.999, total= 1.1min\n",
      "[CV] colsample_bytree=0.42208030371369953, gamma=0, learning_rate=0.6831122329710866, max_depth=3, n_estimators=120, subsample=0.49261723921786116 \n",
      "[CV]  colsample_bytree=0.42208030371369953, gamma=0, learning_rate=0.6831122329710866, max_depth=3, n_estimators=120, subsample=0.49261723921786116, score=0.998, total=  16.0s\n",
      "[CV] colsample_bytree=0.42208030371369953, gamma=0, learning_rate=0.6831122329710866, max_depth=3, n_estimators=120, subsample=0.49261723921786116 \n",
      "[CV]  colsample_bytree=0.42208030371369953, gamma=0, learning_rate=0.6831122329710866, max_depth=3, n_estimators=120, subsample=0.49261723921786116, score=0.998, total=  16.0s\n",
      "[CV] colsample_bytree=0.42208030371369953, gamma=0, learning_rate=0.6831122329710866, max_depth=3, n_estimators=120, subsample=0.49261723921786116 \n",
      "[CV]  colsample_bytree=0.42208030371369953, gamma=0, learning_rate=0.6831122329710866, max_depth=3, n_estimators=120, subsample=0.49261723921786116, score=0.998, total=  16.0s\n",
      "[CV] colsample_bytree=0.8239347020567251, gamma=0, learning_rate=0.46000569578319994, max_depth=7, n_estimators=239, subsample=0.3321379188544956 \n",
      "[CV]  colsample_bytree=0.8239347020567251, gamma=0, learning_rate=0.46000569578319994, max_depth=7, n_estimators=239, subsample=0.3321379188544956, score=0.999, total= 1.2min\n",
      "[CV] colsample_bytree=0.8239347020567251, gamma=0, learning_rate=0.46000569578319994, max_depth=7, n_estimators=239, subsample=0.3321379188544956 \n",
      "[CV]  colsample_bytree=0.8239347020567251, gamma=0, learning_rate=0.46000569578319994, max_depth=7, n_estimators=239, subsample=0.3321379188544956, score=0.999, total= 1.2min\n",
      "[CV] colsample_bytree=0.8239347020567251, gamma=0, learning_rate=0.46000569578319994, max_depth=7, n_estimators=239, subsample=0.3321379188544956 \n",
      "[CV]  colsample_bytree=0.8239347020567251, gamma=0, learning_rate=0.46000569578319994, max_depth=7, n_estimators=239, subsample=0.3321379188544956, score=0.999, total= 1.2min\n",
      "[CV] colsample_bytree=0.7392011452227608, gamma=0, learning_rate=0.7943107818388505, max_depth=7, n_estimators=108, subsample=0.5403080029773456 \n",
      "[CV]  colsample_bytree=0.7392011452227608, gamma=0, learning_rate=0.7943107818388505, max_depth=7, n_estimators=108, subsample=0.5403080029773456, score=0.998, total=  36.2s\n",
      "[CV] colsample_bytree=0.7392011452227608, gamma=0, learning_rate=0.7943107818388505, max_depth=7, n_estimators=108, subsample=0.5403080029773456 \n",
      "[CV]  colsample_bytree=0.7392011452227608, gamma=0, learning_rate=0.7943107818388505, max_depth=7, n_estimators=108, subsample=0.5403080029773456, score=0.999, total=12.5min\n",
      "[CV] colsample_bytree=0.7392011452227608, gamma=0, learning_rate=0.7943107818388505, max_depth=7, n_estimators=108, subsample=0.5403080029773456 \n",
      "[CV]  colsample_bytree=0.7392011452227608, gamma=0, learning_rate=0.7943107818388505, max_depth=7, n_estimators=108, subsample=0.5403080029773456, score=0.999, total=  38.1s\n",
      "[CV] colsample_bytree=0.7494207571997938, gamma=1, learning_rate=0.5669082329780527, max_depth=3, n_estimators=35, subsample=0.8936616121288703 \n"
     ]
    },
    {
     "name": "stdout",
     "output_type": "stream",
     "text": [
      "[CV]  colsample_bytree=0.7494207571997938, gamma=1, learning_rate=0.5669082329780527, max_depth=3, n_estimators=35, subsample=0.8936616121288703, score=0.998, total=   6.6s\n",
      "[CV] colsample_bytree=0.7494207571997938, gamma=1, learning_rate=0.5669082329780527, max_depth=3, n_estimators=35, subsample=0.8936616121288703 \n",
      "[CV]  colsample_bytree=0.7494207571997938, gamma=1, learning_rate=0.5669082329780527, max_depth=3, n_estimators=35, subsample=0.8936616121288703, score=0.998, total=   6.7s\n",
      "[CV] colsample_bytree=0.7494207571997938, gamma=1, learning_rate=0.5669082329780527, max_depth=3, n_estimators=35, subsample=0.8936616121288703 \n",
      "[CV]  colsample_bytree=0.7494207571997938, gamma=1, learning_rate=0.5669082329780527, max_depth=3, n_estimators=35, subsample=0.8936616121288703, score=0.999, total=   6.6s\n",
      "[CV] colsample_bytree=0.1233781606164811, gamma=0.5, learning_rate=0.09772802614862519, max_depth=3, n_estimators=295, subsample=0.32162421002224917 \n",
      "[CV]  colsample_bytree=0.1233781606164811, gamma=0.5, learning_rate=0.09772802614862519, max_depth=3, n_estimators=295, subsample=0.32162421002224917, score=0.998, total=  24.5s\n",
      "[CV] colsample_bytree=0.1233781606164811, gamma=0.5, learning_rate=0.09772802614862519, max_depth=3, n_estimators=295, subsample=0.32162421002224917 \n",
      "[CV]  colsample_bytree=0.1233781606164811, gamma=0.5, learning_rate=0.09772802614862519, max_depth=3, n_estimators=295, subsample=0.32162421002224917, score=0.998, total=  24.1s\n",
      "[CV] colsample_bytree=0.1233781606164811, gamma=0.5, learning_rate=0.09772802614862519, max_depth=3, n_estimators=295, subsample=0.32162421002224917 \n",
      "[CV]  colsample_bytree=0.1233781606164811, gamma=0.5, learning_rate=0.09772802614862519, max_depth=3, n_estimators=295, subsample=0.32162421002224917, score=0.999, total=  24.3s\n",
      "[CV] colsample_bytree=0.1473000060656997, gamma=0.5, learning_rate=0.13448222256392894, max_depth=5, n_estimators=106, subsample=0.23774042930082184 \n",
      "[CV]  colsample_bytree=0.1473000060656997, gamma=0.5, learning_rate=0.13448222256392894, max_depth=5, n_estimators=106, subsample=0.23774042930082184, score=0.998, total=  12.1s\n",
      "[CV] colsample_bytree=0.1473000060656997, gamma=0.5, learning_rate=0.13448222256392894, max_depth=5, n_estimators=106, subsample=0.23774042930082184 \n",
      "[CV]  colsample_bytree=0.1473000060656997, gamma=0.5, learning_rate=0.13448222256392894, max_depth=5, n_estimators=106, subsample=0.23774042930082184, score=0.998, total=  12.0s\n",
      "[CV] colsample_bytree=0.1473000060656997, gamma=0.5, learning_rate=0.13448222256392894, max_depth=5, n_estimators=106, subsample=0.23774042930082184 \n",
      "[CV]  colsample_bytree=0.1473000060656997, gamma=0.5, learning_rate=0.13448222256392894, max_depth=5, n_estimators=106, subsample=0.23774042930082184, score=0.998, total=  12.3s\n",
      "[CV] colsample_bytree=0.9670359633400014, gamma=0, learning_rate=0.7056816909331856, max_depth=5, n_estimators=61, subsample=0.01977714403091213 \n",
      "[CV]  colsample_bytree=0.9670359633400014, gamma=0, learning_rate=0.7056816909331856, max_depth=5, n_estimators=61, subsample=0.01977714403091213, score=0.997, total=  11.1s\n",
      "[CV] colsample_bytree=0.9670359633400014, gamma=0, learning_rate=0.7056816909331856, max_depth=5, n_estimators=61, subsample=0.01977714403091213 \n",
      "[CV]  colsample_bytree=0.9670359633400014, gamma=0, learning_rate=0.7056816909331856, max_depth=5, n_estimators=61, subsample=0.01977714403091213, score=0.997, total=  11.1s\n",
      "[CV] colsample_bytree=0.9670359633400014, gamma=0, learning_rate=0.7056816909331856, max_depth=5, n_estimators=61, subsample=0.01977714403091213 \n",
      "[CV]  colsample_bytree=0.9670359633400014, gamma=0, learning_rate=0.7056816909331856, max_depth=5, n_estimators=61, subsample=0.01977714403091213, score=0.997, total=  11.4s\n",
      "[CV] colsample_bytree=0.2180407029928415, gamma=0.5, learning_rate=0.07812750650828248, max_depth=9, n_estimators=415, subsample=0.518517898052102 \n",
      "[CV]  colsample_bytree=0.2180407029928415, gamma=0.5, learning_rate=0.07812750650828248, max_depth=9, n_estimators=415, subsample=0.518517898052102, score=0.999, total= 1.5min\n",
      "[CV] colsample_bytree=0.2180407029928415, gamma=0.5, learning_rate=0.07812750650828248, max_depth=9, n_estimators=415, subsample=0.518517898052102 \n",
      "[CV]  colsample_bytree=0.2180407029928415, gamma=0.5, learning_rate=0.07812750650828248, max_depth=9, n_estimators=415, subsample=0.518517898052102, score=0.999, total= 1.5min\n",
      "[CV] colsample_bytree=0.2180407029928415, gamma=0.5, learning_rate=0.07812750650828248, max_depth=9, n_estimators=415, subsample=0.518517898052102 \n",
      "[CV]  colsample_bytree=0.2180407029928415, gamma=0.5, learning_rate=0.07812750650828248, max_depth=9, n_estimators=415, subsample=0.518517898052102, score=0.999, total= 1.5min\n",
      "[CV] colsample_bytree=0.41559925955532984, gamma=1, learning_rate=0.7698928944238359, max_depth=9, n_estimators=328, subsample=0.22604362169550185 \n",
      "[CV]  colsample_bytree=0.41559925955532984, gamma=1, learning_rate=0.7698928944238359, max_depth=9, n_estimators=328, subsample=0.22604362169550185, score=0.998, total= 1.1min\n",
      "[CV] colsample_bytree=0.41559925955532984, gamma=1, learning_rate=0.7698928944238359, max_depth=9, n_estimators=328, subsample=0.22604362169550185 \n",
      "[CV]  colsample_bytree=0.41559925955532984, gamma=1, learning_rate=0.7698928944238359, max_depth=9, n_estimators=328, subsample=0.22604362169550185, score=0.998, total= 1.1min\n",
      "[CV] colsample_bytree=0.41559925955532984, gamma=1, learning_rate=0.7698928944238359, max_depth=9, n_estimators=328, subsample=0.22604362169550185 \n",
      "[CV]  colsample_bytree=0.41559925955532984, gamma=1, learning_rate=0.7698928944238359, max_depth=9, n_estimators=328, subsample=0.22604362169550185, score=0.998, total= 1.1min\n",
      "[CV] colsample_bytree=0.5642240482168264, gamma=0.5, learning_rate=0.09939965650812232, max_depth=9, n_estimators=123, subsample=0.28602526178423104 \n",
      "[CV]  colsample_bytree=0.5642240482168264, gamma=0.5, learning_rate=0.09939965650812232, max_depth=9, n_estimators=123, subsample=0.28602526178423104, score=0.999, total=  38.5s\n",
      "[CV] colsample_bytree=0.5642240482168264, gamma=0.5, learning_rate=0.09939965650812232, max_depth=9, n_estimators=123, subsample=0.28602526178423104 \n",
      "[CV]  colsample_bytree=0.5642240482168264, gamma=0.5, learning_rate=0.09939965650812232, max_depth=9, n_estimators=123, subsample=0.28602526178423104, score=0.999, total=  38.3s\n",
      "[CV] colsample_bytree=0.5642240482168264, gamma=0.5, learning_rate=0.09939965650812232, max_depth=9, n_estimators=123, subsample=0.28602526178423104 \n",
      "[CV]  colsample_bytree=0.5642240482168264, gamma=0.5, learning_rate=0.09939965650812232, max_depth=9, n_estimators=123, subsample=0.28602526178423104, score=0.999, total=  39.2s\n",
      "[CV] colsample_bytree=0.6895767510518857, gamma=0.5, learning_rate=0.0011319754648878577, max_depth=5, n_estimators=329, subsample=0.37315429901325914 \n",
      "[CV]  colsample_bytree=0.6895767510518857, gamma=0.5, learning_rate=0.0011319754648878577, max_depth=5, n_estimators=329, subsample=0.37315429901325914, score=0.998, total= 1.3min\n",
      "[CV] colsample_bytree=0.6895767510518857, gamma=0.5, learning_rate=0.0011319754648878577, max_depth=5, n_estimators=329, subsample=0.37315429901325914 \n",
      "[CV]  colsample_bytree=0.6895767510518857, gamma=0.5, learning_rate=0.0011319754648878577, max_depth=5, n_estimators=329, subsample=0.37315429901325914, score=0.998, total= 1.3min\n",
      "[CV] colsample_bytree=0.6895767510518857, gamma=0.5, learning_rate=0.0011319754648878577, max_depth=5, n_estimators=329, subsample=0.37315429901325914 \n",
      "[CV]  colsample_bytree=0.6895767510518857, gamma=0.5, learning_rate=0.0011319754648878577, max_depth=5, n_estimators=329, subsample=0.37315429901325914, score=0.998, total= 1.3min\n",
      "[CV] colsample_bytree=0.45294600144107167, gamma=1, learning_rate=0.08303834961595746, max_depth=7, n_estimators=187, subsample=0.6069127728741993 \n",
      "[CV]  colsample_bytree=0.45294600144107167, gamma=1, learning_rate=0.08303834961595746, max_depth=7, n_estimators=187, subsample=0.6069127728741993, score=0.999, total=  51.4s\n",
      "[CV] colsample_bytree=0.45294600144107167, gamma=1, learning_rate=0.08303834961595746, max_depth=7, n_estimators=187, subsample=0.6069127728741993 \n",
      "[CV]  colsample_bytree=0.45294600144107167, gamma=1, learning_rate=0.08303834961595746, max_depth=7, n_estimators=187, subsample=0.6069127728741993, score=0.999, total=  51.9s\n",
      "[CV] colsample_bytree=0.45294600144107167, gamma=1, learning_rate=0.08303834961595746, max_depth=7, n_estimators=187, subsample=0.6069127728741993 \n"
     ]
    },
    {
     "name": "stdout",
     "output_type": "stream",
     "text": [
      "[CV]  colsample_bytree=0.45294600144107167, gamma=1, learning_rate=0.08303834961595746, max_depth=7, n_estimators=187, subsample=0.6069127728741993, score=0.999, total=  51.9s\n",
      "[CV] colsample_bytree=0.7327546305008223, gamma=0.5, learning_rate=0.692803142146249, max_depth=7, n_estimators=180, subsample=0.705851693379962 \n",
      "[CV]  colsample_bytree=0.7327546305008223, gamma=0.5, learning_rate=0.692803142146249, max_depth=7, n_estimators=180, subsample=0.705851693379962, score=0.998, total=66.2min\n",
      "[CV] colsample_bytree=0.7327546305008223, gamma=0.5, learning_rate=0.692803142146249, max_depth=7, n_estimators=180, subsample=0.705851693379962 \n",
      "[CV]  colsample_bytree=0.7327546305008223, gamma=0.5, learning_rate=0.692803142146249, max_depth=7, n_estimators=180, subsample=0.705851693379962, score=0.999, total= 1.1min\n",
      "[CV] colsample_bytree=0.7327546305008223, gamma=0.5, learning_rate=0.692803142146249, max_depth=7, n_estimators=180, subsample=0.705851693379962 \n",
      "[CV]  colsample_bytree=0.7327546305008223, gamma=0.5, learning_rate=0.692803142146249, max_depth=7, n_estimators=180, subsample=0.705851693379962, score=0.999, total= 1.1min\n",
      "[CV] colsample_bytree=0.05362154980326561, gamma=0, learning_rate=0.7980698940293289, max_depth=3, n_estimators=158, subsample=0.17004133125997645 \n",
      "[CV]  colsample_bytree=0.05362154980326561, gamma=0, learning_rate=0.7980698940293289, max_depth=3, n_estimators=158, subsample=0.17004133125997645, score=0.997, total=  10.5s\n",
      "[CV] colsample_bytree=0.05362154980326561, gamma=0, learning_rate=0.7980698940293289, max_depth=3, n_estimators=158, subsample=0.17004133125997645 \n",
      "[CV]  colsample_bytree=0.05362154980326561, gamma=0, learning_rate=0.7980698940293289, max_depth=3, n_estimators=158, subsample=0.17004133125997645, score=0.997, total=  10.4s\n",
      "[CV] colsample_bytree=0.05362154980326561, gamma=0, learning_rate=0.7980698940293289, max_depth=3, n_estimators=158, subsample=0.17004133125997645 \n",
      "[CV]  colsample_bytree=0.05362154980326561, gamma=0, learning_rate=0.7980698940293289, max_depth=3, n_estimators=158, subsample=0.17004133125997645, score=0.997, total=  10.5s\n",
      "[CV] colsample_bytree=0.07134898268568757, gamma=0.5, learning_rate=0.35233232505199596, max_depth=5, n_estimators=458, subsample=0.22387461076329174 \n",
      "[CV]  colsample_bytree=0.07134898268568757, gamma=0.5, learning_rate=0.35233232505199596, max_depth=5, n_estimators=458, subsample=0.22387461076329174, score=0.998, total=  41.6s\n",
      "[CV] colsample_bytree=0.07134898268568757, gamma=0.5, learning_rate=0.35233232505199596, max_depth=5, n_estimators=458, subsample=0.22387461076329174 \n",
      "[CV]  colsample_bytree=0.07134898268568757, gamma=0.5, learning_rate=0.35233232505199596, max_depth=5, n_estimators=458, subsample=0.22387461076329174, score=0.998, total=  41.6s\n",
      "[CV] colsample_bytree=0.07134898268568757, gamma=0.5, learning_rate=0.35233232505199596, max_depth=5, n_estimators=458, subsample=0.22387461076329174 \n",
      "[CV]  colsample_bytree=0.07134898268568757, gamma=0.5, learning_rate=0.35233232505199596, max_depth=5, n_estimators=458, subsample=0.22387461076329174, score=0.998, total=  42.0s\n",
      "[CV] colsample_bytree=0.5830420267513081, gamma=0, learning_rate=0.1407773526305579, max_depth=3, n_estimators=114, subsample=0.06530708638295535 \n",
      "[CV]  colsample_bytree=0.5830420267513081, gamma=0, learning_rate=0.1407773526305579, max_depth=3, n_estimators=114, subsample=0.06530708638295535, score=0.998, total=  12.5s\n",
      "[CV] colsample_bytree=0.5830420267513081, gamma=0, learning_rate=0.1407773526305579, max_depth=3, n_estimators=114, subsample=0.06530708638295535 \n",
      "[CV]  colsample_bytree=0.5830420267513081, gamma=0, learning_rate=0.1407773526305579, max_depth=3, n_estimators=114, subsample=0.06530708638295535, score=0.998, total=  12.6s\n",
      "[CV] colsample_bytree=0.5830420267513081, gamma=0, learning_rate=0.1407773526305579, max_depth=3, n_estimators=114, subsample=0.06530708638295535 \n",
      "[CV]  colsample_bytree=0.5830420267513081, gamma=0, learning_rate=0.1407773526305579, max_depth=3, n_estimators=114, subsample=0.06530708638295535, score=0.998, total=  13.0s\n",
      "[CV] colsample_bytree=0.1272012299182168, gamma=0.5, learning_rate=0.7365916997846382, max_depth=5, n_estimators=259, subsample=0.5938153837167053 \n",
      "[CV]  colsample_bytree=0.1272012299182168, gamma=0.5, learning_rate=0.7365916997846382, max_depth=5, n_estimators=259, subsample=0.5938153837167053, score=0.998, total=  31.8s\n",
      "[CV] colsample_bytree=0.1272012299182168, gamma=0.5, learning_rate=0.7365916997846382, max_depth=5, n_estimators=259, subsample=0.5938153837167053 \n",
      "[CV]  colsample_bytree=0.1272012299182168, gamma=0.5, learning_rate=0.7365916997846382, max_depth=5, n_estimators=259, subsample=0.5938153837167053, score=0.998, total=  34.5s\n",
      "[CV] colsample_bytree=0.1272012299182168, gamma=0.5, learning_rate=0.7365916997846382, max_depth=5, n_estimators=259, subsample=0.5938153837167053 \n",
      "[CV]  colsample_bytree=0.1272012299182168, gamma=0.5, learning_rate=0.7365916997846382, max_depth=5, n_estimators=259, subsample=0.5938153837167053, score=0.999, total=  32.2s\n",
      "[CV] colsample_bytree=0.5213285655977811, gamma=1, learning_rate=0.12245745743134928, max_depth=5, n_estimators=448, subsample=0.48831719352338554 \n",
      "[CV]  colsample_bytree=0.5213285655977811, gamma=1, learning_rate=0.12245745743134928, max_depth=5, n_estimators=448, subsample=0.48831719352338554, score=0.999, total= 1.6min\n",
      "[CV] colsample_bytree=0.5213285655977811, gamma=1, learning_rate=0.12245745743134928, max_depth=5, n_estimators=448, subsample=0.48831719352338554 \n",
      "[CV]  colsample_bytree=0.5213285655977811, gamma=1, learning_rate=0.12245745743134928, max_depth=5, n_estimators=448, subsample=0.48831719352338554, score=0.999, total= 1.7min\n",
      "[CV] colsample_bytree=0.5213285655977811, gamma=1, learning_rate=0.12245745743134928, max_depth=5, n_estimators=448, subsample=0.48831719352338554 \n",
      "[CV]  colsample_bytree=0.5213285655977811, gamma=1, learning_rate=0.12245745743134928, max_depth=5, n_estimators=448, subsample=0.48831719352338554, score=0.999, total= 1.7min\n",
      "[CV] colsample_bytree=0.5241718165563152, gamma=0.5, learning_rate=0.019013169365516558, max_depth=3, n_estimators=463, subsample=0.6098711368955574 \n",
      "[CV]  colsample_bytree=0.5241718165563152, gamma=0.5, learning_rate=0.019013169365516558, max_depth=3, n_estimators=463, subsample=0.6098711368955574, score=0.998, total= 1.2min\n",
      "[CV] colsample_bytree=0.5241718165563152, gamma=0.5, learning_rate=0.019013169365516558, max_depth=3, n_estimators=463, subsample=0.6098711368955574 \n",
      "[CV]  colsample_bytree=0.5241718165563152, gamma=0.5, learning_rate=0.019013169365516558, max_depth=3, n_estimators=463, subsample=0.6098711368955574, score=0.998, total= 1.3min\n",
      "[CV] colsample_bytree=0.5241718165563152, gamma=0.5, learning_rate=0.019013169365516558, max_depth=3, n_estimators=463, subsample=0.6098711368955574 \n",
      "[CV]  colsample_bytree=0.5241718165563152, gamma=0.5, learning_rate=0.019013169365516558, max_depth=3, n_estimators=463, subsample=0.6098711368955574, score=0.998, total= 1.2min\n",
      "[CV] colsample_bytree=0.671301928197165, gamma=0.5, learning_rate=0.5467452756716188, max_depth=3, n_estimators=140, subsample=0.5648319298748983 \n",
      "[CV]  colsample_bytree=0.671301928197165, gamma=0.5, learning_rate=0.5467452756716188, max_depth=3, n_estimators=140, subsample=0.5648319298748983, score=0.998, total=  24.6s\n",
      "[CV] colsample_bytree=0.671301928197165, gamma=0.5, learning_rate=0.5467452756716188, max_depth=3, n_estimators=140, subsample=0.5648319298748983 \n",
      "[CV]  colsample_bytree=0.671301928197165, gamma=0.5, learning_rate=0.5467452756716188, max_depth=3, n_estimators=140, subsample=0.5648319298748983, score=0.998, total=  24.8s\n",
      "[CV] colsample_bytree=0.671301928197165, gamma=0.5, learning_rate=0.5467452756716188, max_depth=3, n_estimators=140, subsample=0.5648319298748983 \n",
      "[CV]  colsample_bytree=0.671301928197165, gamma=0.5, learning_rate=0.5467452756716188, max_depth=3, n_estimators=140, subsample=0.5648319298748983, score=0.999, total=  25.1s\n",
      "[CV] colsample_bytree=0.919421811544759, gamma=1, learning_rate=0.9622594737743404, max_depth=5, n_estimators=158, subsample=0.6372091818441632 \n",
      "[CV]  colsample_bytree=0.919421811544759, gamma=1, learning_rate=0.9622594737743404, max_depth=5, n_estimators=158, subsample=0.6372091818441632, score=0.998, total=  54.5s\n",
      "[CV] colsample_bytree=0.919421811544759, gamma=1, learning_rate=0.9622594737743404, max_depth=5, n_estimators=158, subsample=0.6372091818441632 \n"
     ]
    },
    {
     "name": "stdout",
     "output_type": "stream",
     "text": [
      "[CV]  colsample_bytree=0.919421811544759, gamma=1, learning_rate=0.9622594737743404, max_depth=5, n_estimators=158, subsample=0.6372091818441632, score=0.998, total=  55.1s\n",
      "[CV] colsample_bytree=0.919421811544759, gamma=1, learning_rate=0.9622594737743404, max_depth=5, n_estimators=158, subsample=0.6372091818441632 \n",
      "[CV]  colsample_bytree=0.919421811544759, gamma=1, learning_rate=0.9622594737743404, max_depth=5, n_estimators=158, subsample=0.6372091818441632, score=0.998, total=  55.6s\n",
      "[CV] colsample_bytree=0.6754086694441321, gamma=0, learning_rate=0.22800333163252395, max_depth=9, n_estimators=165, subsample=0.4357666773827713 \n",
      "[CV]  colsample_bytree=0.6754086694441321, gamma=0, learning_rate=0.22800333163252395, max_depth=9, n_estimators=165, subsample=0.4357666773827713, score=0.999, total= 1.0min\n",
      "[CV] colsample_bytree=0.6754086694441321, gamma=0, learning_rate=0.22800333163252395, max_depth=9, n_estimators=165, subsample=0.4357666773827713 \n",
      "[CV]  colsample_bytree=0.6754086694441321, gamma=0, learning_rate=0.22800333163252395, max_depth=9, n_estimators=165, subsample=0.4357666773827713, score=0.999, total= 1.1min\n",
      "[CV] colsample_bytree=0.6754086694441321, gamma=0, learning_rate=0.22800333163252395, max_depth=9, n_estimators=165, subsample=0.4357666773827713 \n",
      "[CV]  colsample_bytree=0.6754086694441321, gamma=0, learning_rate=0.22800333163252395, max_depth=9, n_estimators=165, subsample=0.4357666773827713, score=0.999, total= 1.1min\n",
      "[CV] colsample_bytree=0.15852842041802295, gamma=0.5, learning_rate=0.643530100011603, max_depth=3, n_estimators=221, subsample=0.10669012117628052 \n",
      "[CV]  colsample_bytree=0.15852842041802295, gamma=0.5, learning_rate=0.643530100011603, max_depth=3, n_estimators=221, subsample=0.10669012117628052, score=0.998, total=  17.4s\n",
      "[CV] colsample_bytree=0.15852842041802295, gamma=0.5, learning_rate=0.643530100011603, max_depth=3, n_estimators=221, subsample=0.10669012117628052 \n",
      "[CV]  colsample_bytree=0.15852842041802295, gamma=0.5, learning_rate=0.643530100011603, max_depth=3, n_estimators=221, subsample=0.10669012117628052, score=0.998, total=  17.4s\n",
      "[CV] colsample_bytree=0.15852842041802295, gamma=0.5, learning_rate=0.643530100011603, max_depth=3, n_estimators=221, subsample=0.10669012117628052 \n",
      "[CV]  colsample_bytree=0.15852842041802295, gamma=0.5, learning_rate=0.643530100011603, max_depth=3, n_estimators=221, subsample=0.10669012117628052, score=0.997, total=  17.4s\n",
      "[CV] colsample_bytree=0.025980915983675024, gamma=0, learning_rate=0.4832152000966258, max_depth=7, n_estimators=450, subsample=0.4628262226680707 \n",
      "[CV]  colsample_bytree=0.025980915983675024, gamma=0, learning_rate=0.4832152000966258, max_depth=7, n_estimators=450, subsample=0.4628262226680707, score=0.998, total=  48.7s\n",
      "[CV] colsample_bytree=0.025980915983675024, gamma=0, learning_rate=0.4832152000966258, max_depth=7, n_estimators=450, subsample=0.4628262226680707 \n",
      "[CV]  colsample_bytree=0.025980915983675024, gamma=0, learning_rate=0.4832152000966258, max_depth=7, n_estimators=450, subsample=0.4628262226680707, score=0.998, total=  49.5s\n",
      "[CV] colsample_bytree=0.025980915983675024, gamma=0, learning_rate=0.4832152000966258, max_depth=7, n_estimators=450, subsample=0.4628262226680707 \n",
      "[CV]  colsample_bytree=0.025980915983675024, gamma=0, learning_rate=0.4832152000966258, max_depth=7, n_estimators=450, subsample=0.4628262226680707, score=0.998, total=  50.3s\n"
     ]
    },
    {
     "name": "stderr",
     "output_type": "stream",
     "text": [
      "[Parallel(n_jobs=1)]: Done 150 out of 150 | elapsed: 199.4min finished\n"
     ]
    },
    {
     "data": {
      "text/plain": [
       "RandomizedSearchCV(cv=3, error_score=nan,\n",
       "                   estimator=XGBClassifier(base_score=None, booster=None,\n",
       "                                           colsample_bylevel=None,\n",
       "                                           colsample_bynode=None,\n",
       "                                           colsample_bytree=None, gamma=None,\n",
       "                                           gpu_id=None, importance_type='gain',\n",
       "                                           interaction_constraints=None,\n",
       "                                           learning_rate=None,\n",
       "                                           max_delta_step=None, max_depth=None,\n",
       "                                           min_child_weight=None, missing=nan,\n",
       "                                           monotone_constraints=None,\n",
       "                                           n...\n",
       "                                        'learning_rate': <scipy.stats._distn_infrastructure.rv_frozen object at 0x7f049e0eccf8>,\n",
       "                                        'max_depth': range(3, 10, 2),\n",
       "                                        'n_estimators': <scipy.stats._distn_infrastructure.rv_frozen object at 0x7f049e0ecba8>,\n",
       "                                        'subsample': <scipy.stats._distn_infrastructure.rv_frozen object at 0x7f049e0ecf28>},\n",
       "                   pre_dispatch='2*n_jobs', random_state=342, refit=True,\n",
       "                   return_train_score=False, scoring='accuracy', verbose=10)"
      ]
     },
     "execution_count": 24,
     "metadata": {},
     "output_type": "execute_result"
    }
   ],
   "source": [
    "rd_grid.fit(X_train,y_train)"
   ]
  },
  {
   "cell_type": "code",
   "execution_count": 25,
   "metadata": {},
   "outputs": [
    {
     "data": {
      "text/plain": [
       "0.9988126784811241"
      ]
     },
     "execution_count": 25,
     "metadata": {},
     "output_type": "execute_result"
    }
   ],
   "source": [
    "rd_grid.best_score_"
   ]
  },
  {
   "cell_type": "markdown",
   "metadata": {},
   "source": [
    "The best parameters found are : "
   ]
  },
  {
   "cell_type": "code",
   "execution_count": 26,
   "metadata": {},
   "outputs": [
    {
     "data": {
      "text/plain": [
       "{'colsample_bytree': 0.5213285655977811,\n",
       " 'gamma': 1,\n",
       " 'learning_rate': 0.12245745743134928,\n",
       " 'max_depth': 5,\n",
       " 'n_estimators': 448,\n",
       " 'subsample': 0.48831719352338554}"
      ]
     },
     "execution_count": 26,
     "metadata": {},
     "output_type": "execute_result"
    }
   ],
   "source": [
    "rd_grid.best_params_"
   ]
  },
  {
   "cell_type": "markdown",
   "metadata": {},
   "source": [
    "Then, we test this model, considered to be the best one : "
   ]
  },
  {
   "cell_type": "code",
   "execution_count": 59,
   "metadata": {},
   "outputs": [],
   "source": [
    "clf=XGBClassifier(colsample_bytree= 0.5213285655977811,\n",
    " gamma= 1,\n",
    " learning_rate= 0.12245745743134928,\n",
    " max_depth= 5,\n",
    " n_estimators= 448,\n",
    " subsample= 0.48831719352338554,objective='binary:logistic')"
   ]
  },
  {
   "cell_type": "code",
   "execution_count": 60,
   "metadata": {},
   "outputs": [
    {
     "data": {
      "text/plain": [
       "XGBClassifier(base_score=0.5, booster=None, colsample_bylevel=1,\n",
       "              colsample_bynode=1, colsample_bytree=0.5213285655977811, gamma=1,\n",
       "              gpu_id=-1, importance_type='gain', interaction_constraints=None,\n",
       "              learning_rate=0.12245745743134928, max_delta_step=0, max_depth=5,\n",
       "              min_child_weight=1, missing=nan, monotone_constraints=None,\n",
       "              n_estimators=448, n_jobs=0, num_parallel_tree=1,\n",
       "              objective='binary:logistic', random_state=0, reg_alpha=0,\n",
       "              reg_lambda=1, scale_pos_weight=1, subsample=0.48831719352338554,\n",
       "              tree_method=None, validate_parameters=False, verbosity=None)"
      ]
     },
     "execution_count": 60,
     "metadata": {},
     "output_type": "execute_result"
    }
   ],
   "source": [
    "clf.fit(X,Y)"
   ]
  },
  {
   "cell_type": "code",
   "execution_count": 61,
   "metadata": {},
   "outputs": [
    {
     "data": {
      "text/plain": [
       "0.9999319357473455"
      ]
     },
     "execution_count": 61,
     "metadata": {},
     "output_type": "execute_result"
    }
   ],
   "source": [
    "clf.score(X_test,y_test)"
   ]
  },
  {
   "cell_type": "code",
   "execution_count": 62,
   "metadata": {},
   "outputs": [],
   "source": [
    "#TO SUBMIT : \n",
    "submit(model=clf,X_exam=X_exam)"
   ]
  },
  {
   "cell_type": "markdown",
   "metadata": {},
   "source": [
    "We wanted to improve again this score, so we try the RandomizedSearchCV another night with twice more iterations."
   ]
  },
  {
   "cell_type": "code",
   "execution_count": 14,
   "metadata": {},
   "outputs": [],
   "source": [
    "rd_grid=RandomizedSearchCV(\n",
    "    estimator=XGBClassifier(**params_fixed,seed=seed),param_distributions=params_dist_grid,\n",
    "n_iter=100,\n",
    "cv=3,\n",
    "scoring='accuracy',\n",
    "random_state=seed,\n",
    "verbose=10\n",
    ")"
   ]
  },
  {
   "cell_type": "code",
   "execution_count": 15,
   "metadata": {},
   "outputs": [
    {
     "name": "stdout",
     "output_type": "stream",
     "text": [
      "Fitting 3 folds for each of 100 candidates, totalling 300 fits\n",
      "[CV] colsample_bytree=0.06503439684192913, gamma=0, learning_rate=0.24756150723102166, max_depth=7, n_estimators=34, subsample=0.11848249237448605 \n"
     ]
    },
    {
     "name": "stderr",
     "output_type": "stream",
     "text": [
      "[Parallel(n_jobs=1)]: Using backend SequentialBackend with 1 concurrent workers.\n"
     ]
    },
    {
     "name": "stdout",
     "output_type": "stream",
     "text": [
      "[CV]  colsample_bytree=0.06503439684192913, gamma=0, learning_rate=0.24756150723102166, max_depth=7, n_estimators=34, subsample=0.11848249237448605, score=0.997, total=   3.3s\n",
      "[CV] colsample_bytree=0.06503439684192913, gamma=0, learning_rate=0.24756150723102166, max_depth=7, n_estimators=34, subsample=0.11848249237448605 \n"
     ]
    },
    {
     "name": "stderr",
     "output_type": "stream",
     "text": [
      "[Parallel(n_jobs=1)]: Done   1 out of   1 | elapsed:    3.3s remaining:    0.0s\n"
     ]
    },
    {
     "name": "stdout",
     "output_type": "stream",
     "text": [
      "[CV]  colsample_bytree=0.06503439684192913, gamma=0, learning_rate=0.24756150723102166, max_depth=7, n_estimators=34, subsample=0.11848249237448605, score=0.997, total=   3.3s\n",
      "[CV] colsample_bytree=0.06503439684192913, gamma=0, learning_rate=0.24756150723102166, max_depth=7, n_estimators=34, subsample=0.11848249237448605 \n"
     ]
    },
    {
     "name": "stderr",
     "output_type": "stream",
     "text": [
      "[Parallel(n_jobs=1)]: Done   2 out of   2 | elapsed:    6.6s remaining:    0.0s\n"
     ]
    },
    {
     "name": "stdout",
     "output_type": "stream",
     "text": [
      "[CV]  colsample_bytree=0.06503439684192913, gamma=0, learning_rate=0.24756150723102166, max_depth=7, n_estimators=34, subsample=0.11848249237448605, score=0.997, total=   3.3s\n",
      "[CV] colsample_bytree=0.13214054942810016, gamma=0, learning_rate=0.4325346125891868, max_depth=3, n_estimators=457, subsample=0.8942723823370169 \n"
     ]
    },
    {
     "name": "stderr",
     "output_type": "stream",
     "text": [
      "[Parallel(n_jobs=1)]: Done   3 out of   3 | elapsed:    9.9s remaining:    0.0s\n"
     ]
    },
    {
     "name": "stdout",
     "output_type": "stream",
     "text": [
      "[CV]  colsample_bytree=0.13214054942810016, gamma=0, learning_rate=0.4325346125891868, max_depth=3, n_estimators=457, subsample=0.8942723823370169, score=0.999, total=  36.6s\n",
      "[CV] colsample_bytree=0.13214054942810016, gamma=0, learning_rate=0.4325346125891868, max_depth=3, n_estimators=457, subsample=0.8942723823370169 \n"
     ]
    },
    {
     "name": "stderr",
     "output_type": "stream",
     "text": [
      "[Parallel(n_jobs=1)]: Done   4 out of   4 | elapsed:   46.5s remaining:    0.0s\n"
     ]
    },
    {
     "name": "stdout",
     "output_type": "stream",
     "text": [
      "[CV]  colsample_bytree=0.13214054942810016, gamma=0, learning_rate=0.4325346125891868, max_depth=3, n_estimators=457, subsample=0.8942723823370169, score=0.999, total=  38.5s\n",
      "[CV] colsample_bytree=0.13214054942810016, gamma=0, learning_rate=0.4325346125891868, max_depth=3, n_estimators=457, subsample=0.8942723823370169 \n"
     ]
    },
    {
     "name": "stderr",
     "output_type": "stream",
     "text": [
      "[Parallel(n_jobs=1)]: Done   5 out of   5 | elapsed:  1.4min remaining:    0.0s\n"
     ]
    },
    {
     "name": "stdout",
     "output_type": "stream",
     "text": [
      "[CV]  colsample_bytree=0.13214054942810016, gamma=0, learning_rate=0.4325346125891868, max_depth=3, n_estimators=457, subsample=0.8942723823370169, score=0.999, total=  38.5s\n",
      "[CV] colsample_bytree=0.1523931947190449, gamma=1, learning_rate=0.23096728629607655, max_depth=7, n_estimators=91, subsample=0.7099300190073073 \n"
     ]
    },
    {
     "name": "stderr",
     "output_type": "stream",
     "text": [
      "[Parallel(n_jobs=1)]: Done   6 out of   6 | elapsed:  2.1min remaining:    0.0s\n"
     ]
    },
    {
     "name": "stdout",
     "output_type": "stream",
     "text": [
      "[CV]  colsample_bytree=0.1523931947190449, gamma=1, learning_rate=0.23096728629607655, max_depth=7, n_estimators=91, subsample=0.7099300190073073, score=0.998, total=  16.4s\n",
      "[CV] colsample_bytree=0.1523931947190449, gamma=1, learning_rate=0.23096728629607655, max_depth=7, n_estimators=91, subsample=0.7099300190073073 \n"
     ]
    },
    {
     "name": "stderr",
     "output_type": "stream",
     "text": [
      "[Parallel(n_jobs=1)]: Done   7 out of   7 | elapsed:  2.3min remaining:    0.0s\n"
     ]
    },
    {
     "name": "stdout",
     "output_type": "stream",
     "text": [
      "[CV]  colsample_bytree=0.1523931947190449, gamma=1, learning_rate=0.23096728629607655, max_depth=7, n_estimators=91, subsample=0.7099300190073073, score=0.999, total=  15.8s\n",
      "[CV] colsample_bytree=0.1523931947190449, gamma=1, learning_rate=0.23096728629607655, max_depth=7, n_estimators=91, subsample=0.7099300190073073 \n"
     ]
    },
    {
     "name": "stderr",
     "output_type": "stream",
     "text": [
      "[Parallel(n_jobs=1)]: Done   8 out of   8 | elapsed:  2.6min remaining:    0.0s\n"
     ]
    },
    {
     "name": "stdout",
     "output_type": "stream",
     "text": [
      "[CV]  colsample_bytree=0.1523931947190449, gamma=1, learning_rate=0.23096728629607655, max_depth=7, n_estimators=91, subsample=0.7099300190073073, score=0.999, total=  15.9s\n",
      "[CV] colsample_bytree=0.22187963515640408, gamma=1, learning_rate=0.3807697564898246, max_depth=7, n_estimators=142, subsample=0.8058014316376573 \n"
     ]
    },
    {
     "name": "stderr",
     "output_type": "stream",
     "text": [
      "[Parallel(n_jobs=1)]: Done   9 out of   9 | elapsed:  2.9min remaining:    0.0s\n"
     ]
    },
    {
     "name": "stdout",
     "output_type": "stream",
     "text": [
      "[CV]  colsample_bytree=0.22187963515640408, gamma=1, learning_rate=0.3807697564898246, max_depth=7, n_estimators=142, subsample=0.8058014316376573, score=0.999, total=  27.5s\n",
      "[CV] colsample_bytree=0.22187963515640408, gamma=1, learning_rate=0.3807697564898246, max_depth=7, n_estimators=142, subsample=0.8058014316376573 \n",
      "[CV]  colsample_bytree=0.22187963515640408, gamma=1, learning_rate=0.3807697564898246, max_depth=7, n_estimators=142, subsample=0.8058014316376573, score=0.999, total=  27.8s\n",
      "[CV] colsample_bytree=0.22187963515640408, gamma=1, learning_rate=0.3807697564898246, max_depth=7, n_estimators=142, subsample=0.8058014316376573 \n",
      "[CV]  colsample_bytree=0.22187963515640408, gamma=1, learning_rate=0.3807697564898246, max_depth=7, n_estimators=142, subsample=0.8058014316376573, score=0.999, total=  28.5s\n",
      "[CV] colsample_bytree=0.4636309538821305, gamma=0, learning_rate=0.7652628330253548, max_depth=3, n_estimators=217, subsample=0.005635524386628399 \n",
      "[CV]  colsample_bytree=0.4636309538821305, gamma=0, learning_rate=0.7652628330253548, max_depth=3, n_estimators=217, subsample=0.005635524386628399, score=0.997, total=  14.6s\n",
      "[CV] colsample_bytree=0.4636309538821305, gamma=0, learning_rate=0.7652628330253548, max_depth=3, n_estimators=217, subsample=0.005635524386628399 \n",
      "[CV]  colsample_bytree=0.4636309538821305, gamma=0, learning_rate=0.7652628330253548, max_depth=3, n_estimators=217, subsample=0.005635524386628399, score=0.997, total=  15.0s\n",
      "[CV] colsample_bytree=0.4636309538821305, gamma=0, learning_rate=0.7652628330253548, max_depth=3, n_estimators=217, subsample=0.005635524386628399 \n",
      "[CV]  colsample_bytree=0.4636309538821305, gamma=0, learning_rate=0.7652628330253548, max_depth=3, n_estimators=217, subsample=0.005635524386628399, score=0.997, total=  15.4s\n",
      "[CV] colsample_bytree=0.3484693847948471, gamma=0.5, learning_rate=0.501367277763467, max_depth=3, n_estimators=344, subsample=0.7446963541453213 \n",
      "[CV]  colsample_bytree=0.3484693847948471, gamma=0.5, learning_rate=0.501367277763467, max_depth=3, n_estimators=344, subsample=0.7446963541453213, score=0.999, total=  45.9s\n",
      "[CV] colsample_bytree=0.3484693847948471, gamma=0.5, learning_rate=0.501367277763467, max_depth=3, n_estimators=344, subsample=0.7446963541453213 \n",
      "[CV]  colsample_bytree=0.3484693847948471, gamma=0.5, learning_rate=0.501367277763467, max_depth=3, n_estimators=344, subsample=0.7446963541453213, score=0.999, total=  43.9s\n",
      "[CV] colsample_bytree=0.3484693847948471, gamma=0.5, learning_rate=0.501367277763467, max_depth=3, n_estimators=344, subsample=0.7446963541453213 \n",
      "[CV]  colsample_bytree=0.3484693847948471, gamma=0.5, learning_rate=0.501367277763467, max_depth=3, n_estimators=344, subsample=0.7446963541453213, score=0.999, total=  43.9s\n",
      "[CV] colsample_bytree=0.027059952336016435, gamma=0.5, learning_rate=0.32181898059099534, max_depth=7, n_estimators=106, subsample=0.1430695313368998 \n",
      "[CV]  colsample_bytree=0.027059952336016435, gamma=0.5, learning_rate=0.32181898059099534, max_depth=7, n_estimators=106, subsample=0.1430695313368998, score=0.998, total=  10.3s\n",
      "[CV] colsample_bytree=0.027059952336016435, gamma=0.5, learning_rate=0.32181898059099534, max_depth=7, n_estimators=106, subsample=0.1430695313368998 \n",
      "[CV]  colsample_bytree=0.027059952336016435, gamma=0.5, learning_rate=0.32181898059099534, max_depth=7, n_estimators=106, subsample=0.1430695313368998, score=0.997, total=  10.2s\n",
      "[CV] colsample_bytree=0.027059952336016435, gamma=0.5, learning_rate=0.32181898059099534, max_depth=7, n_estimators=106, subsample=0.1430695313368998 \n",
      "[CV]  colsample_bytree=0.027059952336016435, gamma=0.5, learning_rate=0.32181898059099534, max_depth=7, n_estimators=106, subsample=0.1430695313368998, score=0.998, total=  10.1s\n",
      "[CV] colsample_bytree=0.6052416274824561, gamma=0, learning_rate=0.6050492440098373, max_depth=7, n_estimators=304, subsample=0.7395162785706926 \n",
      "[CV]  colsample_bytree=0.6052416274824561, gamma=0, learning_rate=0.6050492440098373, max_depth=7, n_estimators=304, subsample=0.7395162785706926, score=0.999, total= 1.3min\n",
      "[CV] colsample_bytree=0.6052416274824561, gamma=0, learning_rate=0.6050492440098373, max_depth=7, n_estimators=304, subsample=0.7395162785706926 \n",
      "[CV]  colsample_bytree=0.6052416274824561, gamma=0, learning_rate=0.6050492440098373, max_depth=7, n_estimators=304, subsample=0.7395162785706926, score=0.999, total= 1.3min\n",
      "[CV] colsample_bytree=0.6052416274824561, gamma=0, learning_rate=0.6050492440098373, max_depth=7, n_estimators=304, subsample=0.7395162785706926 \n",
      "[CV]  colsample_bytree=0.6052416274824561, gamma=0, learning_rate=0.6050492440098373, max_depth=7, n_estimators=304, subsample=0.7395162785706926, score=0.999, total= 1.3min\n",
      "[CV] colsample_bytree=0.3798729645059653, gamma=0, learning_rate=0.2244110761611232, max_depth=9, n_estimators=212, subsample=0.38626895174139364 \n",
      "[CV]  colsample_bytree=0.3798729645059653, gamma=0, learning_rate=0.2244110761611232, max_depth=9, n_estimators=212, subsample=0.38626895174139364, score=0.999, total=  56.1s\n",
      "[CV] colsample_bytree=0.3798729645059653, gamma=0, learning_rate=0.2244110761611232, max_depth=9, n_estimators=212, subsample=0.38626895174139364 \n",
      "[CV]  colsample_bytree=0.3798729645059653, gamma=0, learning_rate=0.2244110761611232, max_depth=9, n_estimators=212, subsample=0.38626895174139364, score=0.999, total=  55.6s\n",
      "[CV] colsample_bytree=0.3798729645059653, gamma=0, learning_rate=0.2244110761611232, max_depth=9, n_estimators=212, subsample=0.38626895174139364 \n",
      "[CV]  colsample_bytree=0.3798729645059653, gamma=0, learning_rate=0.2244110761611232, max_depth=9, n_estimators=212, subsample=0.38626895174139364, score=0.999, total=  55.9s\n",
      "[CV] colsample_bytree=0.6081741773955259, gamma=0, learning_rate=0.3242569496604357, max_depth=3, n_estimators=487, subsample=0.16575363219645556 \n",
      "[CV]  colsample_bytree=0.6081741773955259, gamma=0, learning_rate=0.3242569496604357, max_depth=3, n_estimators=487, subsample=0.16575363219645556, score=0.998, total= 1.0min\n",
      "[CV] colsample_bytree=0.6081741773955259, gamma=0, learning_rate=0.3242569496604357, max_depth=3, n_estimators=487, subsample=0.16575363219645556 \n",
      "[CV]  colsample_bytree=0.6081741773955259, gamma=0, learning_rate=0.3242569496604357, max_depth=3, n_estimators=487, subsample=0.16575363219645556, score=0.998, total= 1.0min\n",
      "[CV] colsample_bytree=0.6081741773955259, gamma=0, learning_rate=0.3242569496604357, max_depth=3, n_estimators=487, subsample=0.16575363219645556 \n",
      "[CV]  colsample_bytree=0.6081741773955259, gamma=0, learning_rate=0.3242569496604357, max_depth=3, n_estimators=487, subsample=0.16575363219645556, score=0.998, total= 1.0min\n",
      "[CV] colsample_bytree=0.34825342627224587, gamma=0, learning_rate=0.4185815141367779, max_depth=3, n_estimators=488, subsample=0.8780483709609663 \n",
      "[CV]  colsample_bytree=0.34825342627224587, gamma=0, learning_rate=0.4185815141367779, max_depth=3, n_estimators=488, subsample=0.8780483709609663, score=0.999, total= 1.0min\n",
      "[CV] colsample_bytree=0.34825342627224587, gamma=0, learning_rate=0.4185815141367779, max_depth=3, n_estimators=488, subsample=0.8780483709609663 \n",
      "[CV]  colsample_bytree=0.34825342627224587, gamma=0, learning_rate=0.4185815141367779, max_depth=3, n_estimators=488, subsample=0.8780483709609663, score=0.999, total= 1.0min\n",
      "[CV] colsample_bytree=0.34825342627224587, gamma=0, learning_rate=0.4185815141367779, max_depth=3, n_estimators=488, subsample=0.8780483709609663 \n",
      "[CV]  colsample_bytree=0.34825342627224587, gamma=0, learning_rate=0.4185815141367779, max_depth=3, n_estimators=488, subsample=0.8780483709609663, score=0.999, total= 1.0min\n",
      "[CV] colsample_bytree=0.4288656296016934, gamma=0.5, learning_rate=0.6730164898324128, max_depth=5, n_estimators=410, subsample=0.7248087016755762 \n",
      "[CV]  colsample_bytree=0.4288656296016934, gamma=0.5, learning_rate=0.6730164898324128, max_depth=5, n_estimators=410, subsample=0.7248087016755762, score=0.999, total= 1.3min\n",
      "[CV] colsample_bytree=0.4288656296016934, gamma=0.5, learning_rate=0.6730164898324128, max_depth=5, n_estimators=410, subsample=0.7248087016755762 \n",
      "[CV]  colsample_bytree=0.4288656296016934, gamma=0.5, learning_rate=0.6730164898324128, max_depth=5, n_estimators=410, subsample=0.7248087016755762, score=0.999, total= 1.3min\n",
      "[CV] colsample_bytree=0.4288656296016934, gamma=0.5, learning_rate=0.6730164898324128, max_depth=5, n_estimators=410, subsample=0.7248087016755762 \n"
     ]
    },
    {
     "name": "stdout",
     "output_type": "stream",
     "text": [
      "[CV]  colsample_bytree=0.4288656296016934, gamma=0.5, learning_rate=0.6730164898324128, max_depth=5, n_estimators=410, subsample=0.7248087016755762, score=0.999, total= 1.3min\n",
      "[CV] colsample_bytree=0.0017306007327145823, gamma=0.5, learning_rate=0.05315918465055469, max_depth=9, n_estimators=205, subsample=0.8061810315662579 \n",
      "[CV]  colsample_bytree=0.0017306007327145823, gamma=0.5, learning_rate=0.05315918465055469, max_depth=9, n_estimators=205, subsample=0.8061810315662579, score=0.997, total=  24.7s\n",
      "[CV] colsample_bytree=0.0017306007327145823, gamma=0.5, learning_rate=0.05315918465055469, max_depth=9, n_estimators=205, subsample=0.8061810315662579 \n",
      "[CV]  colsample_bytree=0.0017306007327145823, gamma=0.5, learning_rate=0.05315918465055469, max_depth=9, n_estimators=205, subsample=0.8061810315662579, score=0.997, total=  24.9s\n",
      "[CV] colsample_bytree=0.0017306007327145823, gamma=0.5, learning_rate=0.05315918465055469, max_depth=9, n_estimators=205, subsample=0.8061810315662579 \n",
      "[CV]  colsample_bytree=0.0017306007327145823, gamma=0.5, learning_rate=0.05315918465055469, max_depth=9, n_estimators=205, subsample=0.8061810315662579, score=0.997, total=  25.2s\n",
      "[CV] colsample_bytree=0.0652058663329057, gamma=0.5, learning_rate=0.3009542371416952, max_depth=5, n_estimators=215, subsample=0.7182879010530241 \n",
      "[CV]  colsample_bytree=0.0652058663329057, gamma=0.5, learning_rate=0.3009542371416952, max_depth=5, n_estimators=215, subsample=0.7182879010530241, score=0.998, total=  24.4s\n",
      "[CV] colsample_bytree=0.0652058663329057, gamma=0.5, learning_rate=0.3009542371416952, max_depth=5, n_estimators=215, subsample=0.7182879010530241 \n",
      "[CV]  colsample_bytree=0.0652058663329057, gamma=0.5, learning_rate=0.3009542371416952, max_depth=5, n_estimators=215, subsample=0.7182879010530241, score=0.999, total=  24.5s\n",
      "[CV] colsample_bytree=0.0652058663329057, gamma=0.5, learning_rate=0.3009542371416952, max_depth=5, n_estimators=215, subsample=0.7182879010530241 \n",
      "[CV]  colsample_bytree=0.0652058663329057, gamma=0.5, learning_rate=0.3009542371416952, max_depth=5, n_estimators=215, subsample=0.7182879010530241, score=0.999, total=  24.5s\n",
      "[CV] colsample_bytree=0.03736425297203316, gamma=1, learning_rate=0.34508603000232396, max_depth=3, n_estimators=149, subsample=0.3515989871516927 \n",
      "[CV]  colsample_bytree=0.03736425297203316, gamma=1, learning_rate=0.34508603000232396, max_depth=3, n_estimators=149, subsample=0.3515989871516927, score=0.998, total=  11.7s\n",
      "[CV] colsample_bytree=0.03736425297203316, gamma=1, learning_rate=0.34508603000232396, max_depth=3, n_estimators=149, subsample=0.3515989871516927 \n",
      "[CV]  colsample_bytree=0.03736425297203316, gamma=1, learning_rate=0.34508603000232396, max_depth=3, n_estimators=149, subsample=0.3515989871516927, score=0.998, total=  11.8s\n",
      "[CV] colsample_bytree=0.03736425297203316, gamma=1, learning_rate=0.34508603000232396, max_depth=3, n_estimators=149, subsample=0.3515989871516927 \n",
      "[CV]  colsample_bytree=0.03736425297203316, gamma=1, learning_rate=0.34508603000232396, max_depth=3, n_estimators=149, subsample=0.3515989871516927, score=0.998, total=  11.7s\n",
      "[CV] colsample_bytree=0.28640275096467005, gamma=0.5, learning_rate=0.13625268915862287, max_depth=5, n_estimators=375, subsample=0.7122370715991608 \n",
      "[CV]  colsample_bytree=0.28640275096467005, gamma=0.5, learning_rate=0.13625268915862287, max_depth=5, n_estimators=375, subsample=0.7122370715991608, score=0.999, total= 1.1min\n",
      "[CV] colsample_bytree=0.28640275096467005, gamma=0.5, learning_rate=0.13625268915862287, max_depth=5, n_estimators=375, subsample=0.7122370715991608 \n",
      "[CV]  colsample_bytree=0.28640275096467005, gamma=0.5, learning_rate=0.13625268915862287, max_depth=5, n_estimators=375, subsample=0.7122370715991608, score=0.999, total= 1.1min\n",
      "[CV] colsample_bytree=0.28640275096467005, gamma=0.5, learning_rate=0.13625268915862287, max_depth=5, n_estimators=375, subsample=0.7122370715991608 \n",
      "[CV]  colsample_bytree=0.28640275096467005, gamma=0.5, learning_rate=0.13625268915862287, max_depth=5, n_estimators=375, subsample=0.7122370715991608, score=0.999, total= 1.1min\n",
      "[CV] colsample_bytree=0.11584888265940785, gamma=0, learning_rate=0.4908537989581572, max_depth=7, n_estimators=217, subsample=0.21808623249143 \n",
      "[CV]  colsample_bytree=0.11584888265940785, gamma=0, learning_rate=0.4908537989581572, max_depth=7, n_estimators=217, subsample=0.21808623249143, score=0.998, total=  28.6s\n",
      "[CV] colsample_bytree=0.11584888265940785, gamma=0, learning_rate=0.4908537989581572, max_depth=7, n_estimators=217, subsample=0.21808623249143 \n",
      "[CV]  colsample_bytree=0.11584888265940785, gamma=0, learning_rate=0.4908537989581572, max_depth=7, n_estimators=217, subsample=0.21808623249143, score=0.998, total=  28.5s\n",
      "[CV] colsample_bytree=0.11584888265940785, gamma=0, learning_rate=0.4908537989581572, max_depth=7, n_estimators=217, subsample=0.21808623249143 \n",
      "[CV]  colsample_bytree=0.11584888265940785, gamma=0, learning_rate=0.4908537989581572, max_depth=7, n_estimators=217, subsample=0.21808623249143, score=0.998, total=  28.7s\n",
      "[CV] colsample_bytree=0.6104278565642697, gamma=1, learning_rate=0.19229938260169954, max_depth=3, n_estimators=384, subsample=0.9695258738383024 \n",
      "[CV]  colsample_bytree=0.6104278565642697, gamma=1, learning_rate=0.19229938260169954, max_depth=3, n_estimators=384, subsample=0.9695258738383024, score=0.999, total= 1.0min\n",
      "[CV] colsample_bytree=0.6104278565642697, gamma=1, learning_rate=0.19229938260169954, max_depth=3, n_estimators=384, subsample=0.9695258738383024 \n",
      "[CV]  colsample_bytree=0.6104278565642697, gamma=1, learning_rate=0.19229938260169954, max_depth=3, n_estimators=384, subsample=0.9695258738383024, score=0.999, total= 1.0min\n",
      "[CV] colsample_bytree=0.6104278565642697, gamma=1, learning_rate=0.19229938260169954, max_depth=3, n_estimators=384, subsample=0.9695258738383024 \n",
      "[CV]  colsample_bytree=0.6104278565642697, gamma=1, learning_rate=0.19229938260169954, max_depth=3, n_estimators=384, subsample=0.9695258738383024, score=0.999, total= 1.0min\n",
      "[CV] colsample_bytree=0.4418555802707862, gamma=1, learning_rate=0.838802169791344, max_depth=9, n_estimators=483, subsample=0.34916312744720013 \n",
      "[CV]  colsample_bytree=0.4418555802707862, gamma=1, learning_rate=0.838802169791344, max_depth=9, n_estimators=483, subsample=0.34916312744720013, score=0.998, total= 1.6min\n",
      "[CV] colsample_bytree=0.4418555802707862, gamma=1, learning_rate=0.838802169791344, max_depth=9, n_estimators=483, subsample=0.34916312744720013 \n",
      "[CV]  colsample_bytree=0.4418555802707862, gamma=1, learning_rate=0.838802169791344, max_depth=9, n_estimators=483, subsample=0.34916312744720013, score=0.998, total= 1.6min\n",
      "[CV] colsample_bytree=0.4418555802707862, gamma=1, learning_rate=0.838802169791344, max_depth=9, n_estimators=483, subsample=0.34916312744720013 \n",
      "[CV]  colsample_bytree=0.4418555802707862, gamma=1, learning_rate=0.838802169791344, max_depth=9, n_estimators=483, subsample=0.34916312744720013, score=0.998, total= 1.6min\n",
      "[CV] colsample_bytree=0.6468232104916526, gamma=0.5, learning_rate=0.5599867682778354, max_depth=7, n_estimators=376, subsample=0.8247083447312324 \n",
      "[CV]  colsample_bytree=0.6468232104916526, gamma=0.5, learning_rate=0.5599867682778354, max_depth=7, n_estimators=376, subsample=0.8247083447312324, score=0.999, total= 2.0min\n",
      "[CV] colsample_bytree=0.6468232104916526, gamma=0.5, learning_rate=0.5599867682778354, max_depth=7, n_estimators=376, subsample=0.8247083447312324 \n",
      "[CV]  colsample_bytree=0.6468232104916526, gamma=0.5, learning_rate=0.5599867682778354, max_depth=7, n_estimators=376, subsample=0.8247083447312324, score=0.999, total= 2.0min\n",
      "[CV] colsample_bytree=0.6468232104916526, gamma=0.5, learning_rate=0.5599867682778354, max_depth=7, n_estimators=376, subsample=0.8247083447312324 \n",
      "[CV]  colsample_bytree=0.6468232104916526, gamma=0.5, learning_rate=0.5599867682778354, max_depth=7, n_estimators=376, subsample=0.8247083447312324, score=0.999, total= 2.0min\n",
      "[CV] colsample_bytree=0.4697145869577216, gamma=0.5, learning_rate=0.39720907308977726, max_depth=3, n_estimators=312, subsample=0.9607885510753981 \n",
      "[CV]  colsample_bytree=0.4697145869577216, gamma=0.5, learning_rate=0.39720907308977726, max_depth=3, n_estimators=312, subsample=0.9607885510753981, score=0.999, total=  43.7s\n",
      "[CV] colsample_bytree=0.4697145869577216, gamma=0.5, learning_rate=0.39720907308977726, max_depth=3, n_estimators=312, subsample=0.9607885510753981 \n"
     ]
    },
    {
     "name": "stdout",
     "output_type": "stream",
     "text": [
      "[CV]  colsample_bytree=0.4697145869577216, gamma=0.5, learning_rate=0.39720907308977726, max_depth=3, n_estimators=312, subsample=0.9607885510753981, score=0.999, total=  43.7s\n",
      "[CV] colsample_bytree=0.4697145869577216, gamma=0.5, learning_rate=0.39720907308977726, max_depth=3, n_estimators=312, subsample=0.9607885510753981 \n",
      "[CV]  colsample_bytree=0.4697145869577216, gamma=0.5, learning_rate=0.39720907308977726, max_depth=3, n_estimators=312, subsample=0.9607885510753981, score=0.999, total=  43.5s\n",
      "[CV] colsample_bytree=0.1807105983444972, gamma=0.5, learning_rate=0.7116905005504024, max_depth=7, n_estimators=43, subsample=0.12476164013176438 \n",
      "[CV]  colsample_bytree=0.1807105983444972, gamma=0.5, learning_rate=0.7116905005504024, max_depth=7, n_estimators=43, subsample=0.12476164013176438, score=0.997, total=   6.5s\n",
      "[CV] colsample_bytree=0.1807105983444972, gamma=0.5, learning_rate=0.7116905005504024, max_depth=7, n_estimators=43, subsample=0.12476164013176438 \n",
      "[CV]  colsample_bytree=0.1807105983444972, gamma=0.5, learning_rate=0.7116905005504024, max_depth=7, n_estimators=43, subsample=0.12476164013176438, score=0.998, total=   6.4s\n",
      "[CV] colsample_bytree=0.1807105983444972, gamma=0.5, learning_rate=0.7116905005504024, max_depth=7, n_estimators=43, subsample=0.12476164013176438 \n",
      "[CV]  colsample_bytree=0.1807105983444972, gamma=0.5, learning_rate=0.7116905005504024, max_depth=7, n_estimators=43, subsample=0.12476164013176438, score=0.997, total=   6.5s\n",
      "[CV] colsample_bytree=0.04489508721875779, gamma=0.5, learning_rate=0.3573079777273209, max_depth=7, n_estimators=104, subsample=0.5565968240145037 \n",
      "[CV]  colsample_bytree=0.04489508721875779, gamma=0.5, learning_rate=0.3573079777273209, max_depth=7, n_estimators=104, subsample=0.5565968240145037, score=0.998, total=  12.3s\n",
      "[CV] colsample_bytree=0.04489508721875779, gamma=0.5, learning_rate=0.3573079777273209, max_depth=7, n_estimators=104, subsample=0.5565968240145037 \n",
      "[CV]  colsample_bytree=0.04489508721875779, gamma=0.5, learning_rate=0.3573079777273209, max_depth=7, n_estimators=104, subsample=0.5565968240145037, score=0.998, total=  12.2s\n",
      "[CV] colsample_bytree=0.04489508721875779, gamma=0.5, learning_rate=0.3573079777273209, max_depth=7, n_estimators=104, subsample=0.5565968240145037 \n",
      "[CV]  colsample_bytree=0.04489508721875779, gamma=0.5, learning_rate=0.3573079777273209, max_depth=7, n_estimators=104, subsample=0.5565968240145037, score=0.998, total=  12.4s\n",
      "[CV] colsample_bytree=0.5378305425082532, gamma=0.5, learning_rate=0.07486337619698258, max_depth=5, n_estimators=50, subsample=0.419807612168166 \n",
      "[CV]  colsample_bytree=0.5378305425082532, gamma=0.5, learning_rate=0.07486337619698258, max_depth=5, n_estimators=50, subsample=0.419807612168166, score=0.998, total=  11.9s\n",
      "[CV] colsample_bytree=0.5378305425082532, gamma=0.5, learning_rate=0.07486337619698258, max_depth=5, n_estimators=50, subsample=0.419807612168166 \n",
      "[CV]  colsample_bytree=0.5378305425082532, gamma=0.5, learning_rate=0.07486337619698258, max_depth=5, n_estimators=50, subsample=0.419807612168166, score=0.998, total=  11.8s\n",
      "[CV] colsample_bytree=0.5378305425082532, gamma=0.5, learning_rate=0.07486337619698258, max_depth=5, n_estimators=50, subsample=0.419807612168166 \n",
      "[CV]  colsample_bytree=0.5378305425082532, gamma=0.5, learning_rate=0.07486337619698258, max_depth=5, n_estimators=50, subsample=0.419807612168166, score=0.998, total=  11.8s\n",
      "[CV] colsample_bytree=0.08027764806449922, gamma=0, learning_rate=0.5816739095805397, max_depth=3, n_estimators=431, subsample=0.43419038829354917 \n",
      "[CV]  colsample_bytree=0.08027764806449922, gamma=0, learning_rate=0.5816739095805397, max_depth=3, n_estimators=431, subsample=0.43419038829354917, score=0.998, total=  36.3s\n",
      "[CV] colsample_bytree=0.08027764806449922, gamma=0, learning_rate=0.5816739095805397, max_depth=3, n_estimators=431, subsample=0.43419038829354917 \n",
      "[CV]  colsample_bytree=0.08027764806449922, gamma=0, learning_rate=0.5816739095805397, max_depth=3, n_estimators=431, subsample=0.43419038829354917, score=0.998, total=  36.3s\n",
      "[CV] colsample_bytree=0.08027764806449922, gamma=0, learning_rate=0.5816739095805397, max_depth=3, n_estimators=431, subsample=0.43419038829354917 \n",
      "[CV]  colsample_bytree=0.08027764806449922, gamma=0, learning_rate=0.5816739095805397, max_depth=3, n_estimators=431, subsample=0.43419038829354917, score=0.998, total=  36.6s\n",
      "[CV] colsample_bytree=0.8443575182198271, gamma=0, learning_rate=0.7856293762743507, max_depth=7, n_estimators=192, subsample=0.7530818233092769 \n",
      "[CV]  colsample_bytree=0.8443575182198271, gamma=0, learning_rate=0.7856293762743507, max_depth=7, n_estimators=192, subsample=0.7530818233092769, score=0.999, total= 1.1min\n",
      "[CV] colsample_bytree=0.8443575182198271, gamma=0, learning_rate=0.7856293762743507, max_depth=7, n_estimators=192, subsample=0.7530818233092769 \n",
      "[CV]  colsample_bytree=0.8443575182198271, gamma=0, learning_rate=0.7856293762743507, max_depth=7, n_estimators=192, subsample=0.7530818233092769, score=0.999, total= 1.1min\n",
      "[CV] colsample_bytree=0.8443575182198271, gamma=0, learning_rate=0.7856293762743507, max_depth=7, n_estimators=192, subsample=0.7530818233092769 \n",
      "[CV]  colsample_bytree=0.8443575182198271, gamma=0, learning_rate=0.7856293762743507, max_depth=7, n_estimators=192, subsample=0.7530818233092769, score=0.999, total= 1.1min\n",
      "[CV] colsample_bytree=0.42208030371369953, gamma=0, learning_rate=0.6831122329710866, max_depth=3, n_estimators=120, subsample=0.49261723921786116 \n",
      "[CV]  colsample_bytree=0.42208030371369953, gamma=0, learning_rate=0.6831122329710866, max_depth=3, n_estimators=120, subsample=0.49261723921786116, score=0.998, total=  16.9s\n",
      "[CV] colsample_bytree=0.42208030371369953, gamma=0, learning_rate=0.6831122329710866, max_depth=3, n_estimators=120, subsample=0.49261723921786116 \n",
      "[CV]  colsample_bytree=0.42208030371369953, gamma=0, learning_rate=0.6831122329710866, max_depth=3, n_estimators=120, subsample=0.49261723921786116, score=0.999, total=  16.8s\n",
      "[CV] colsample_bytree=0.42208030371369953, gamma=0, learning_rate=0.6831122329710866, max_depth=3, n_estimators=120, subsample=0.49261723921786116 \n",
      "[CV]  colsample_bytree=0.42208030371369953, gamma=0, learning_rate=0.6831122329710866, max_depth=3, n_estimators=120, subsample=0.49261723921786116, score=0.999, total=  16.8s\n",
      "[CV] colsample_bytree=0.8239347020567251, gamma=0, learning_rate=0.46000569578319994, max_depth=7, n_estimators=239, subsample=0.3321379188544956 \n",
      "[CV]  colsample_bytree=0.8239347020567251, gamma=0, learning_rate=0.46000569578319994, max_depth=7, n_estimators=239, subsample=0.3321379188544956, score=0.998, total= 1.2min\n",
      "[CV] colsample_bytree=0.8239347020567251, gamma=0, learning_rate=0.46000569578319994, max_depth=7, n_estimators=239, subsample=0.3321379188544956 \n",
      "[CV]  colsample_bytree=0.8239347020567251, gamma=0, learning_rate=0.46000569578319994, max_depth=7, n_estimators=239, subsample=0.3321379188544956, score=0.998, total= 1.2min\n",
      "[CV] colsample_bytree=0.8239347020567251, gamma=0, learning_rate=0.46000569578319994, max_depth=7, n_estimators=239, subsample=0.3321379188544956 \n",
      "[CV]  colsample_bytree=0.8239347020567251, gamma=0, learning_rate=0.46000569578319994, max_depth=7, n_estimators=239, subsample=0.3321379188544956, score=0.999, total= 1.2min\n",
      "[CV] colsample_bytree=0.7392011452227608, gamma=0, learning_rate=0.7943107818388505, max_depth=7, n_estimators=108, subsample=0.5403080029773456 \n",
      "[CV]  colsample_bytree=0.7392011452227608, gamma=0, learning_rate=0.7943107818388505, max_depth=7, n_estimators=108, subsample=0.5403080029773456, score=0.998, total=  37.7s\n",
      "[CV] colsample_bytree=0.7392011452227608, gamma=0, learning_rate=0.7943107818388505, max_depth=7, n_estimators=108, subsample=0.5403080029773456 \n",
      "[CV]  colsample_bytree=0.7392011452227608, gamma=0, learning_rate=0.7943107818388505, max_depth=7, n_estimators=108, subsample=0.5403080029773456, score=0.999, total=  38.9s\n",
      "[CV] colsample_bytree=0.7392011452227608, gamma=0, learning_rate=0.7943107818388505, max_depth=7, n_estimators=108, subsample=0.5403080029773456 \n",
      "[CV]  colsample_bytree=0.7392011452227608, gamma=0, learning_rate=0.7943107818388505, max_depth=7, n_estimators=108, subsample=0.5403080029773456, score=0.999, total=  38.7s\n",
      "[CV] colsample_bytree=0.7494207571997938, gamma=1, learning_rate=0.5669082329780527, max_depth=3, n_estimators=35, subsample=0.8936616121288703 \n"
     ]
    },
    {
     "name": "stdout",
     "output_type": "stream",
     "text": [
      "[CV]  colsample_bytree=0.7494207571997938, gamma=1, learning_rate=0.5669082329780527, max_depth=3, n_estimators=35, subsample=0.8936616121288703, score=0.998, total=   7.1s\n",
      "[CV] colsample_bytree=0.7494207571997938, gamma=1, learning_rate=0.5669082329780527, max_depth=3, n_estimators=35, subsample=0.8936616121288703 \n",
      "[CV]  colsample_bytree=0.7494207571997938, gamma=1, learning_rate=0.5669082329780527, max_depth=3, n_estimators=35, subsample=0.8936616121288703, score=0.998, total=   7.1s\n",
      "[CV] colsample_bytree=0.7494207571997938, gamma=1, learning_rate=0.5669082329780527, max_depth=3, n_estimators=35, subsample=0.8936616121288703 \n",
      "[CV]  colsample_bytree=0.7494207571997938, gamma=1, learning_rate=0.5669082329780527, max_depth=3, n_estimators=35, subsample=0.8936616121288703, score=0.999, total=   7.1s\n",
      "[CV] colsample_bytree=0.1233781606164811, gamma=0.5, learning_rate=0.09772802614862519, max_depth=3, n_estimators=295, subsample=0.32162421002224917 \n",
      "[CV]  colsample_bytree=0.1233781606164811, gamma=0.5, learning_rate=0.09772802614862519, max_depth=3, n_estimators=295, subsample=0.32162421002224917, score=0.998, total=  26.0s\n",
      "[CV] colsample_bytree=0.1233781606164811, gamma=0.5, learning_rate=0.09772802614862519, max_depth=3, n_estimators=295, subsample=0.32162421002224917 \n",
      "[CV]  colsample_bytree=0.1233781606164811, gamma=0.5, learning_rate=0.09772802614862519, max_depth=3, n_estimators=295, subsample=0.32162421002224917, score=0.998, total=  26.9s\n",
      "[CV] colsample_bytree=0.1233781606164811, gamma=0.5, learning_rate=0.09772802614862519, max_depth=3, n_estimators=295, subsample=0.32162421002224917 \n",
      "[CV]  colsample_bytree=0.1233781606164811, gamma=0.5, learning_rate=0.09772802614862519, max_depth=3, n_estimators=295, subsample=0.32162421002224917, score=0.999, total=  25.9s\n",
      "[CV] colsample_bytree=0.1473000060656997, gamma=0.5, learning_rate=0.13448222256392894, max_depth=5, n_estimators=106, subsample=0.23774042930082184 \n",
      "[CV]  colsample_bytree=0.1473000060656997, gamma=0.5, learning_rate=0.13448222256392894, max_depth=5, n_estimators=106, subsample=0.23774042930082184, score=0.998, total=  13.1s\n",
      "[CV] colsample_bytree=0.1473000060656997, gamma=0.5, learning_rate=0.13448222256392894, max_depth=5, n_estimators=106, subsample=0.23774042930082184 \n",
      "[CV]  colsample_bytree=0.1473000060656997, gamma=0.5, learning_rate=0.13448222256392894, max_depth=5, n_estimators=106, subsample=0.23774042930082184, score=0.998, total=  12.8s\n",
      "[CV] colsample_bytree=0.1473000060656997, gamma=0.5, learning_rate=0.13448222256392894, max_depth=5, n_estimators=106, subsample=0.23774042930082184 \n",
      "[CV]  colsample_bytree=0.1473000060656997, gamma=0.5, learning_rate=0.13448222256392894, max_depth=5, n_estimators=106, subsample=0.23774042930082184, score=0.998, total=  12.8s\n",
      "[CV] colsample_bytree=0.9670359633400014, gamma=0, learning_rate=0.7056816909331856, max_depth=5, n_estimators=61, subsample=0.01977714403091213 \n",
      "[CV]  colsample_bytree=0.9670359633400014, gamma=0, learning_rate=0.7056816909331856, max_depth=5, n_estimators=61, subsample=0.01977714403091213, score=0.997, total=  11.2s\n",
      "[CV] colsample_bytree=0.9670359633400014, gamma=0, learning_rate=0.7056816909331856, max_depth=5, n_estimators=61, subsample=0.01977714403091213 \n",
      "[CV]  colsample_bytree=0.9670359633400014, gamma=0, learning_rate=0.7056816909331856, max_depth=5, n_estimators=61, subsample=0.01977714403091213, score=0.996, total=  11.2s\n",
      "[CV] colsample_bytree=0.9670359633400014, gamma=0, learning_rate=0.7056816909331856, max_depth=5, n_estimators=61, subsample=0.01977714403091213 \n",
      "[CV]  colsample_bytree=0.9670359633400014, gamma=0, learning_rate=0.7056816909331856, max_depth=5, n_estimators=61, subsample=0.01977714403091213, score=0.997, total=  11.0s\n",
      "[CV] colsample_bytree=0.2180407029928415, gamma=0.5, learning_rate=0.07812750650828248, max_depth=9, n_estimators=415, subsample=0.518517898052102 \n",
      "[CV]  colsample_bytree=0.2180407029928415, gamma=0.5, learning_rate=0.07812750650828248, max_depth=9, n_estimators=415, subsample=0.518517898052102, score=0.999, total= 1.6min\n",
      "[CV] colsample_bytree=0.2180407029928415, gamma=0.5, learning_rate=0.07812750650828248, max_depth=9, n_estimators=415, subsample=0.518517898052102 \n",
      "[CV]  colsample_bytree=0.2180407029928415, gamma=0.5, learning_rate=0.07812750650828248, max_depth=9, n_estimators=415, subsample=0.518517898052102, score=0.999, total= 1.5min\n",
      "[CV] colsample_bytree=0.2180407029928415, gamma=0.5, learning_rate=0.07812750650828248, max_depth=9, n_estimators=415, subsample=0.518517898052102 \n",
      "[CV]  colsample_bytree=0.2180407029928415, gamma=0.5, learning_rate=0.07812750650828248, max_depth=9, n_estimators=415, subsample=0.518517898052102, score=0.999, total= 1.5min\n",
      "[CV] colsample_bytree=0.41559925955532984, gamma=1, learning_rate=0.7698928944238359, max_depth=9, n_estimators=328, subsample=0.22604362169550185 \n",
      "[CV]  colsample_bytree=0.41559925955532984, gamma=1, learning_rate=0.7698928944238359, max_depth=9, n_estimators=328, subsample=0.22604362169550185, score=0.998, total= 1.1min\n",
      "[CV] colsample_bytree=0.41559925955532984, gamma=1, learning_rate=0.7698928944238359, max_depth=9, n_estimators=328, subsample=0.22604362169550185 \n",
      "[CV]  colsample_bytree=0.41559925955532984, gamma=1, learning_rate=0.7698928944238359, max_depth=9, n_estimators=328, subsample=0.22604362169550185, score=0.998, total= 1.1min\n",
      "[CV] colsample_bytree=0.41559925955532984, gamma=1, learning_rate=0.7698928944238359, max_depth=9, n_estimators=328, subsample=0.22604362169550185 \n",
      "[CV]  colsample_bytree=0.41559925955532984, gamma=1, learning_rate=0.7698928944238359, max_depth=9, n_estimators=328, subsample=0.22604362169550185, score=0.998, total= 1.1min\n",
      "[CV] colsample_bytree=0.5642240482168264, gamma=0.5, learning_rate=0.09939965650812232, max_depth=9, n_estimators=123, subsample=0.28602526178423104 \n",
      "[CV]  colsample_bytree=0.5642240482168264, gamma=0.5, learning_rate=0.09939965650812232, max_depth=9, n_estimators=123, subsample=0.28602526178423104, score=0.999, total=  39.5s\n",
      "[CV] colsample_bytree=0.5642240482168264, gamma=0.5, learning_rate=0.09939965650812232, max_depth=9, n_estimators=123, subsample=0.28602526178423104 \n",
      "[CV]  colsample_bytree=0.5642240482168264, gamma=0.5, learning_rate=0.09939965650812232, max_depth=9, n_estimators=123, subsample=0.28602526178423104, score=0.999, total=  39.8s\n",
      "[CV] colsample_bytree=0.5642240482168264, gamma=0.5, learning_rate=0.09939965650812232, max_depth=9, n_estimators=123, subsample=0.28602526178423104 \n",
      "[CV]  colsample_bytree=0.5642240482168264, gamma=0.5, learning_rate=0.09939965650812232, max_depth=9, n_estimators=123, subsample=0.28602526178423104, score=0.999, total=  39.8s\n",
      "[CV] colsample_bytree=0.6895767510518857, gamma=0.5, learning_rate=0.0011319754648878577, max_depth=5, n_estimators=329, subsample=0.37315429901325914 \n",
      "[CV]  colsample_bytree=0.6895767510518857, gamma=0.5, learning_rate=0.0011319754648878577, max_depth=5, n_estimators=329, subsample=0.37315429901325914, score=0.998, total= 1.3min\n",
      "[CV] colsample_bytree=0.6895767510518857, gamma=0.5, learning_rate=0.0011319754648878577, max_depth=5, n_estimators=329, subsample=0.37315429901325914 \n",
      "[CV]  colsample_bytree=0.6895767510518857, gamma=0.5, learning_rate=0.0011319754648878577, max_depth=5, n_estimators=329, subsample=0.37315429901325914, score=0.998, total= 1.3min\n",
      "[CV] colsample_bytree=0.6895767510518857, gamma=0.5, learning_rate=0.0011319754648878577, max_depth=5, n_estimators=329, subsample=0.37315429901325914 \n",
      "[CV]  colsample_bytree=0.6895767510518857, gamma=0.5, learning_rate=0.0011319754648878577, max_depth=5, n_estimators=329, subsample=0.37315429901325914, score=0.998, total= 1.3min\n",
      "[CV] colsample_bytree=0.45294600144107167, gamma=1, learning_rate=0.08303834961595746, max_depth=7, n_estimators=187, subsample=0.6069127728741993 \n",
      "[CV]  colsample_bytree=0.45294600144107167, gamma=1, learning_rate=0.08303834961595746, max_depth=7, n_estimators=187, subsample=0.6069127728741993, score=0.999, total=  53.3s\n",
      "[CV] colsample_bytree=0.45294600144107167, gamma=1, learning_rate=0.08303834961595746, max_depth=7, n_estimators=187, subsample=0.6069127728741993 \n",
      "[CV]  colsample_bytree=0.45294600144107167, gamma=1, learning_rate=0.08303834961595746, max_depth=7, n_estimators=187, subsample=0.6069127728741993, score=0.999, total=  52.9s\n",
      "[CV] colsample_bytree=0.45294600144107167, gamma=1, learning_rate=0.08303834961595746, max_depth=7, n_estimators=187, subsample=0.6069127728741993 \n"
     ]
    },
    {
     "name": "stdout",
     "output_type": "stream",
     "text": [
      "[CV]  colsample_bytree=0.45294600144107167, gamma=1, learning_rate=0.08303834961595746, max_depth=7, n_estimators=187, subsample=0.6069127728741993, score=0.999, total=  53.0s\n",
      "[CV] colsample_bytree=0.7327546305008223, gamma=0.5, learning_rate=0.692803142146249, max_depth=7, n_estimators=180, subsample=0.705851693379962 \n",
      "[CV]  colsample_bytree=0.7327546305008223, gamma=0.5, learning_rate=0.692803142146249, max_depth=7, n_estimators=180, subsample=0.705851693379962, score=0.999, total= 1.1min\n",
      "[CV] colsample_bytree=0.7327546305008223, gamma=0.5, learning_rate=0.692803142146249, max_depth=7, n_estimators=180, subsample=0.705851693379962 \n",
      "[CV]  colsample_bytree=0.7327546305008223, gamma=0.5, learning_rate=0.692803142146249, max_depth=7, n_estimators=180, subsample=0.705851693379962, score=0.999, total= 1.1min\n",
      "[CV] colsample_bytree=0.7327546305008223, gamma=0.5, learning_rate=0.692803142146249, max_depth=7, n_estimators=180, subsample=0.705851693379962 \n",
      "[CV]  colsample_bytree=0.7327546305008223, gamma=0.5, learning_rate=0.692803142146249, max_depth=7, n_estimators=180, subsample=0.705851693379962, score=0.999, total= 1.1min\n",
      "[CV] colsample_bytree=0.05362154980326561, gamma=0, learning_rate=0.7980698940293289, max_depth=3, n_estimators=158, subsample=0.17004133125997645 \n",
      "[CV]  colsample_bytree=0.05362154980326561, gamma=0, learning_rate=0.7980698940293289, max_depth=3, n_estimators=158, subsample=0.17004133125997645, score=0.998, total=  11.2s\n",
      "[CV] colsample_bytree=0.05362154980326561, gamma=0, learning_rate=0.7980698940293289, max_depth=3, n_estimators=158, subsample=0.17004133125997645 \n",
      "[CV]  colsample_bytree=0.05362154980326561, gamma=0, learning_rate=0.7980698940293289, max_depth=3, n_estimators=158, subsample=0.17004133125997645, score=0.997, total=  11.2s\n",
      "[CV] colsample_bytree=0.05362154980326561, gamma=0, learning_rate=0.7980698940293289, max_depth=3, n_estimators=158, subsample=0.17004133125997645 \n",
      "[CV]  colsample_bytree=0.05362154980326561, gamma=0, learning_rate=0.7980698940293289, max_depth=3, n_estimators=158, subsample=0.17004133125997645, score=0.998, total=  11.1s\n",
      "[CV] colsample_bytree=0.07134898268568757, gamma=0.5, learning_rate=0.35233232505199596, max_depth=5, n_estimators=458, subsample=0.22387461076329174 \n",
      "[CV]  colsample_bytree=0.07134898268568757, gamma=0.5, learning_rate=0.35233232505199596, max_depth=5, n_estimators=458, subsample=0.22387461076329174, score=0.998, total=  43.6s\n",
      "[CV] colsample_bytree=0.07134898268568757, gamma=0.5, learning_rate=0.35233232505199596, max_depth=5, n_estimators=458, subsample=0.22387461076329174 \n",
      "[CV]  colsample_bytree=0.07134898268568757, gamma=0.5, learning_rate=0.35233232505199596, max_depth=5, n_estimators=458, subsample=0.22387461076329174, score=0.998, total=  43.7s\n",
      "[CV] colsample_bytree=0.07134898268568757, gamma=0.5, learning_rate=0.35233232505199596, max_depth=5, n_estimators=458, subsample=0.22387461076329174 \n",
      "[CV]  colsample_bytree=0.07134898268568757, gamma=0.5, learning_rate=0.35233232505199596, max_depth=5, n_estimators=458, subsample=0.22387461076329174, score=0.998, total=  43.8s\n",
      "[CV] colsample_bytree=0.5830420267513081, gamma=0, learning_rate=0.1407773526305579, max_depth=3, n_estimators=114, subsample=0.06530708638295535 \n",
      "[CV]  colsample_bytree=0.5830420267513081, gamma=0, learning_rate=0.1407773526305579, max_depth=3, n_estimators=114, subsample=0.06530708638295535, score=0.998, total=  12.9s\n",
      "[CV] colsample_bytree=0.5830420267513081, gamma=0, learning_rate=0.1407773526305579, max_depth=3, n_estimators=114, subsample=0.06530708638295535 \n",
      "[CV]  colsample_bytree=0.5830420267513081, gamma=0, learning_rate=0.1407773526305579, max_depth=3, n_estimators=114, subsample=0.06530708638295535, score=0.998, total=  13.2s\n",
      "[CV] colsample_bytree=0.5830420267513081, gamma=0, learning_rate=0.1407773526305579, max_depth=3, n_estimators=114, subsample=0.06530708638295535 \n",
      "[CV]  colsample_bytree=0.5830420267513081, gamma=0, learning_rate=0.1407773526305579, max_depth=3, n_estimators=114, subsample=0.06530708638295535, score=0.998, total=  13.0s\n",
      "[CV] colsample_bytree=0.1272012299182168, gamma=0.5, learning_rate=0.7365916997846382, max_depth=5, n_estimators=259, subsample=0.5938153837167053 \n",
      "[CV]  colsample_bytree=0.1272012299182168, gamma=0.5, learning_rate=0.7365916997846382, max_depth=5, n_estimators=259, subsample=0.5938153837167053, score=0.998, total=  33.4s\n",
      "[CV] colsample_bytree=0.1272012299182168, gamma=0.5, learning_rate=0.7365916997846382, max_depth=5, n_estimators=259, subsample=0.5938153837167053 \n",
      "[CV]  colsample_bytree=0.1272012299182168, gamma=0.5, learning_rate=0.7365916997846382, max_depth=5, n_estimators=259, subsample=0.5938153837167053, score=0.999, total=  33.2s\n",
      "[CV] colsample_bytree=0.1272012299182168, gamma=0.5, learning_rate=0.7365916997846382, max_depth=5, n_estimators=259, subsample=0.5938153837167053 \n",
      "[CV]  colsample_bytree=0.1272012299182168, gamma=0.5, learning_rate=0.7365916997846382, max_depth=5, n_estimators=259, subsample=0.5938153837167053, score=0.999, total=  33.3s\n",
      "[CV] colsample_bytree=0.5213285655977811, gamma=1, learning_rate=0.12245745743134928, max_depth=5, n_estimators=448, subsample=0.48831719352338554 \n",
      "[CV]  colsample_bytree=0.5213285655977811, gamma=1, learning_rate=0.12245745743134928, max_depth=5, n_estimators=448, subsample=0.48831719352338554, score=0.999, total= 1.7min\n",
      "[CV] colsample_bytree=0.5213285655977811, gamma=1, learning_rate=0.12245745743134928, max_depth=5, n_estimators=448, subsample=0.48831719352338554 \n",
      "[CV]  colsample_bytree=0.5213285655977811, gamma=1, learning_rate=0.12245745743134928, max_depth=5, n_estimators=448, subsample=0.48831719352338554, score=0.999, total= 1.7min\n",
      "[CV] colsample_bytree=0.5213285655977811, gamma=1, learning_rate=0.12245745743134928, max_depth=5, n_estimators=448, subsample=0.48831719352338554 \n",
      "[CV]  colsample_bytree=0.5213285655977811, gamma=1, learning_rate=0.12245745743134928, max_depth=5, n_estimators=448, subsample=0.48831719352338554, score=0.999, total= 1.7min\n",
      "[CV] colsample_bytree=0.5241718165563152, gamma=0.5, learning_rate=0.019013169365516558, max_depth=3, n_estimators=463, subsample=0.6098711368955574 \n",
      "[CV]  colsample_bytree=0.5241718165563152, gamma=0.5, learning_rate=0.019013169365516558, max_depth=3, n_estimators=463, subsample=0.6098711368955574, score=0.998, total= 1.2min\n",
      "[CV] colsample_bytree=0.5241718165563152, gamma=0.5, learning_rate=0.019013169365516558, max_depth=3, n_estimators=463, subsample=0.6098711368955574 \n",
      "[CV]  colsample_bytree=0.5241718165563152, gamma=0.5, learning_rate=0.019013169365516558, max_depth=3, n_estimators=463, subsample=0.6098711368955574, score=0.998, total= 1.2min\n",
      "[CV] colsample_bytree=0.5241718165563152, gamma=0.5, learning_rate=0.019013169365516558, max_depth=3, n_estimators=463, subsample=0.6098711368955574 \n",
      "[CV]  colsample_bytree=0.5241718165563152, gamma=0.5, learning_rate=0.019013169365516558, max_depth=3, n_estimators=463, subsample=0.6098711368955574, score=0.998, total= 1.2min\n",
      "[CV] colsample_bytree=0.671301928197165, gamma=0.5, learning_rate=0.5467452756716188, max_depth=3, n_estimators=140, subsample=0.5648319298748983 \n",
      "[CV]  colsample_bytree=0.671301928197165, gamma=0.5, learning_rate=0.5467452756716188, max_depth=3, n_estimators=140, subsample=0.5648319298748983, score=0.998, total=  24.7s\n",
      "[CV] colsample_bytree=0.671301928197165, gamma=0.5, learning_rate=0.5467452756716188, max_depth=3, n_estimators=140, subsample=0.5648319298748983 \n",
      "[CV]  colsample_bytree=0.671301928197165, gamma=0.5, learning_rate=0.5467452756716188, max_depth=3, n_estimators=140, subsample=0.5648319298748983, score=0.999, total=  24.6s\n",
      "[CV] colsample_bytree=0.671301928197165, gamma=0.5, learning_rate=0.5467452756716188, max_depth=3, n_estimators=140, subsample=0.5648319298748983 \n",
      "[CV]  colsample_bytree=0.671301928197165, gamma=0.5, learning_rate=0.5467452756716188, max_depth=3, n_estimators=140, subsample=0.5648319298748983, score=0.999, total=  24.7s\n",
      "[CV] colsample_bytree=0.919421811544759, gamma=1, learning_rate=0.9622594737743404, max_depth=5, n_estimators=158, subsample=0.6372091818441632 \n",
      "[CV]  colsample_bytree=0.919421811544759, gamma=1, learning_rate=0.9622594737743404, max_depth=5, n_estimators=158, subsample=0.6372091818441632, score=0.998, total=  54.4s\n",
      "[CV] colsample_bytree=0.919421811544759, gamma=1, learning_rate=0.9622594737743404, max_depth=5, n_estimators=158, subsample=0.6372091818441632 \n"
     ]
    },
    {
     "name": "stdout",
     "output_type": "stream",
     "text": [
      "[CV]  colsample_bytree=0.919421811544759, gamma=1, learning_rate=0.9622594737743404, max_depth=5, n_estimators=158, subsample=0.6372091818441632, score=0.998, total=  53.9s\n",
      "[CV] colsample_bytree=0.919421811544759, gamma=1, learning_rate=0.9622594737743404, max_depth=5, n_estimators=158, subsample=0.6372091818441632 \n",
      "[CV]  colsample_bytree=0.919421811544759, gamma=1, learning_rate=0.9622594737743404, max_depth=5, n_estimators=158, subsample=0.6372091818441632, score=0.998, total=  54.4s\n",
      "[CV] colsample_bytree=0.6754086694441321, gamma=0, learning_rate=0.22800333163252395, max_depth=9, n_estimators=165, subsample=0.4357666773827713 \n",
      "[CV]  colsample_bytree=0.6754086694441321, gamma=0, learning_rate=0.22800333163252395, max_depth=9, n_estimators=165, subsample=0.4357666773827713, score=0.999, total= 1.0min\n",
      "[CV] colsample_bytree=0.6754086694441321, gamma=0, learning_rate=0.22800333163252395, max_depth=9, n_estimators=165, subsample=0.4357666773827713 \n",
      "[CV]  colsample_bytree=0.6754086694441321, gamma=0, learning_rate=0.22800333163252395, max_depth=9, n_estimators=165, subsample=0.4357666773827713, score=0.999, total= 1.0min\n",
      "[CV] colsample_bytree=0.6754086694441321, gamma=0, learning_rate=0.22800333163252395, max_depth=9, n_estimators=165, subsample=0.4357666773827713 \n",
      "[CV]  colsample_bytree=0.6754086694441321, gamma=0, learning_rate=0.22800333163252395, max_depth=9, n_estimators=165, subsample=0.4357666773827713, score=0.999, total= 1.0min\n",
      "[CV] colsample_bytree=0.15852842041802295, gamma=0.5, learning_rate=0.643530100011603, max_depth=3, n_estimators=221, subsample=0.10669012117628052 \n",
      "[CV]  colsample_bytree=0.15852842041802295, gamma=0.5, learning_rate=0.643530100011603, max_depth=3, n_estimators=221, subsample=0.10669012117628052, score=0.997, total=  17.6s\n",
      "[CV] colsample_bytree=0.15852842041802295, gamma=0.5, learning_rate=0.643530100011603, max_depth=3, n_estimators=221, subsample=0.10669012117628052 \n",
      "[CV]  colsample_bytree=0.15852842041802295, gamma=0.5, learning_rate=0.643530100011603, max_depth=3, n_estimators=221, subsample=0.10669012117628052, score=0.998, total=  17.4s\n",
      "[CV] colsample_bytree=0.15852842041802295, gamma=0.5, learning_rate=0.643530100011603, max_depth=3, n_estimators=221, subsample=0.10669012117628052 \n",
      "[CV]  colsample_bytree=0.15852842041802295, gamma=0.5, learning_rate=0.643530100011603, max_depth=3, n_estimators=221, subsample=0.10669012117628052, score=0.998, total=  17.5s\n",
      "[CV] colsample_bytree=0.025980915983675024, gamma=0, learning_rate=0.4832152000966258, max_depth=7, n_estimators=450, subsample=0.4628262226680707 \n",
      "[CV]  colsample_bytree=0.025980915983675024, gamma=0, learning_rate=0.4832152000966258, max_depth=7, n_estimators=450, subsample=0.4628262226680707, score=0.998, total=  49.0s\n",
      "[CV] colsample_bytree=0.025980915983675024, gamma=0, learning_rate=0.4832152000966258, max_depth=7, n_estimators=450, subsample=0.4628262226680707 \n",
      "[CV]  colsample_bytree=0.025980915983675024, gamma=0, learning_rate=0.4832152000966258, max_depth=7, n_estimators=450, subsample=0.4628262226680707, score=0.998, total=  49.4s\n",
      "[CV] colsample_bytree=0.025980915983675024, gamma=0, learning_rate=0.4832152000966258, max_depth=7, n_estimators=450, subsample=0.4628262226680707 \n",
      "[CV]  colsample_bytree=0.025980915983675024, gamma=0, learning_rate=0.4832152000966258, max_depth=7, n_estimators=450, subsample=0.4628262226680707, score=0.998, total=  49.2s\n",
      "[CV] colsample_bytree=0.12936438191081456, gamma=0, learning_rate=0.6925902605666766, max_depth=5, n_estimators=271, subsample=0.13207322963848778 \n",
      "[CV]  colsample_bytree=0.12936438191081456, gamma=0, learning_rate=0.6925902605666766, max_depth=5, n_estimators=271, subsample=0.13207322963848778, score=0.997, total=  26.8s\n",
      "[CV] colsample_bytree=0.12936438191081456, gamma=0, learning_rate=0.6925902605666766, max_depth=5, n_estimators=271, subsample=0.13207322963848778 \n",
      "[CV]  colsample_bytree=0.12936438191081456, gamma=0, learning_rate=0.6925902605666766, max_depth=5, n_estimators=271, subsample=0.13207322963848778, score=0.997, total=  26.7s\n",
      "[CV] colsample_bytree=0.12936438191081456, gamma=0, learning_rate=0.6925902605666766, max_depth=5, n_estimators=271, subsample=0.13207322963848778 \n",
      "[CV]  colsample_bytree=0.12936438191081456, gamma=0, learning_rate=0.6925902605666766, max_depth=5, n_estimators=271, subsample=0.13207322963848778, score=0.997, total=  27.0s\n",
      "[CV] colsample_bytree=0.9023735729428712, gamma=0.5, learning_rate=0.16459096754349534, max_depth=7, n_estimators=214, subsample=0.1149135131077742 \n",
      "[CV]  colsample_bytree=0.9023735729428712, gamma=0.5, learning_rate=0.16459096754349534, max_depth=7, n_estimators=214, subsample=0.1149135131077742, score=0.998, total=  58.6s\n",
      "[CV] colsample_bytree=0.9023735729428712, gamma=0.5, learning_rate=0.16459096754349534, max_depth=7, n_estimators=214, subsample=0.1149135131077742 \n",
      "[CV]  colsample_bytree=0.9023735729428712, gamma=0.5, learning_rate=0.16459096754349534, max_depth=7, n_estimators=214, subsample=0.1149135131077742, score=0.999, total=  59.2s\n",
      "[CV] colsample_bytree=0.9023735729428712, gamma=0.5, learning_rate=0.16459096754349534, max_depth=7, n_estimators=214, subsample=0.1149135131077742 \n",
      "[CV]  colsample_bytree=0.9023735729428712, gamma=0.5, learning_rate=0.16459096754349534, max_depth=7, n_estimators=214, subsample=0.1149135131077742, score=0.999, total=  59.2s\n",
      "[CV] colsample_bytree=0.7399930949466056, gamma=1, learning_rate=0.7564334698000733, max_depth=5, n_estimators=305, subsample=0.2298970770975075 \n",
      "[CV]  colsample_bytree=0.7399930949466056, gamma=1, learning_rate=0.7564334698000733, max_depth=5, n_estimators=305, subsample=0.2298970770975075, score=0.998, total= 1.1min\n",
      "[CV] colsample_bytree=0.7399930949466056, gamma=1, learning_rate=0.7564334698000733, max_depth=5, n_estimators=305, subsample=0.2298970770975075 \n",
      "[CV]  colsample_bytree=0.7399930949466056, gamma=1, learning_rate=0.7564334698000733, max_depth=5, n_estimators=305, subsample=0.2298970770975075, score=0.998, total= 1.1min\n",
      "[CV] colsample_bytree=0.7399930949466056, gamma=1, learning_rate=0.7564334698000733, max_depth=5, n_estimators=305, subsample=0.2298970770975075 \n",
      "[CV]  colsample_bytree=0.7399930949466056, gamma=1, learning_rate=0.7564334698000733, max_depth=5, n_estimators=305, subsample=0.2298970770975075, score=0.998, total= 1.1min\n",
      "[CV] colsample_bytree=0.7419625598864609, gamma=0, learning_rate=0.19782370344184108, max_depth=9, n_estimators=404, subsample=0.14492255521087272 \n",
      "[CV]  colsample_bytree=0.7419625598864609, gamma=0, learning_rate=0.19782370344184108, max_depth=9, n_estimators=404, subsample=0.14492255521087272, score=0.999, total= 1.7min\n",
      "[CV] colsample_bytree=0.7419625598864609, gamma=0, learning_rate=0.19782370344184108, max_depth=9, n_estimators=404, subsample=0.14492255521087272 \n",
      "[CV]  colsample_bytree=0.7419625598864609, gamma=0, learning_rate=0.19782370344184108, max_depth=9, n_estimators=404, subsample=0.14492255521087272, score=0.999, total= 1.8min\n",
      "[CV] colsample_bytree=0.7419625598864609, gamma=0, learning_rate=0.19782370344184108, max_depth=9, n_estimators=404, subsample=0.14492255521087272 \n",
      "[CV]  colsample_bytree=0.7419625598864609, gamma=0, learning_rate=0.19782370344184108, max_depth=9, n_estimators=404, subsample=0.14492255521087272, score=0.999, total= 1.8min\n",
      "[CV] colsample_bytree=0.33473414668950685, gamma=0, learning_rate=0.026090948956925764, max_depth=7, n_estimators=375, subsample=0.3085565577280761 \n",
      "[CV]  colsample_bytree=0.33473414668950685, gamma=0, learning_rate=0.026090948956925764, max_depth=7, n_estimators=375, subsample=0.3085565577280761, score=0.999, total= 1.3min\n",
      "[CV] colsample_bytree=0.33473414668950685, gamma=0, learning_rate=0.026090948956925764, max_depth=7, n_estimators=375, subsample=0.3085565577280761 \n",
      "[CV]  colsample_bytree=0.33473414668950685, gamma=0, learning_rate=0.026090948956925764, max_depth=7, n_estimators=375, subsample=0.3085565577280761, score=0.999, total= 1.4min\n",
      "[CV] colsample_bytree=0.33473414668950685, gamma=0, learning_rate=0.026090948956925764, max_depth=7, n_estimators=375, subsample=0.3085565577280761 \n",
      "[CV]  colsample_bytree=0.33473414668950685, gamma=0, learning_rate=0.026090948956925764, max_depth=7, n_estimators=375, subsample=0.3085565577280761, score=0.999, total= 1.3min\n",
      "[CV] colsample_bytree=0.09712926011751544, gamma=1, learning_rate=0.026293094084396507, max_depth=7, n_estimators=59, subsample=0.08470617912256251 \n"
     ]
    },
    {
     "name": "stdout",
     "output_type": "stream",
     "text": [
      "[CV]  colsample_bytree=0.09712926011751544, gamma=1, learning_rate=0.026293094084396507, max_depth=7, n_estimators=59, subsample=0.08470617912256251, score=0.996, total=   7.0s\n",
      "[CV] colsample_bytree=0.09712926011751544, gamma=1, learning_rate=0.026293094084396507, max_depth=7, n_estimators=59, subsample=0.08470617912256251 \n",
      "[CV]  colsample_bytree=0.09712926011751544, gamma=1, learning_rate=0.026293094084396507, max_depth=7, n_estimators=59, subsample=0.08470617912256251, score=0.995, total=   6.9s\n",
      "[CV] colsample_bytree=0.09712926011751544, gamma=1, learning_rate=0.026293094084396507, max_depth=7, n_estimators=59, subsample=0.08470617912256251 \n",
      "[CV]  colsample_bytree=0.09712926011751544, gamma=1, learning_rate=0.026293094084396507, max_depth=7, n_estimators=59, subsample=0.08470617912256251, score=0.995, total=   6.8s\n",
      "[CV] colsample_bytree=0.4660191122328683, gamma=0.5, learning_rate=0.2721599325974995, max_depth=5, n_estimators=184, subsample=0.7718717535091743 \n",
      "[CV]  colsample_bytree=0.4660191122328683, gamma=0.5, learning_rate=0.2721599325974995, max_depth=5, n_estimators=184, subsample=0.7718717535091743, score=0.999, total=  41.1s\n",
      "[CV] colsample_bytree=0.4660191122328683, gamma=0.5, learning_rate=0.2721599325974995, max_depth=5, n_estimators=184, subsample=0.7718717535091743 \n",
      "[CV]  colsample_bytree=0.4660191122328683, gamma=0.5, learning_rate=0.2721599325974995, max_depth=5, n_estimators=184, subsample=0.7718717535091743, score=0.999, total=  40.6s\n",
      "[CV] colsample_bytree=0.4660191122328683, gamma=0.5, learning_rate=0.2721599325974995, max_depth=5, n_estimators=184, subsample=0.7718717535091743 \n",
      "[CV]  colsample_bytree=0.4660191122328683, gamma=0.5, learning_rate=0.2721599325974995, max_depth=5, n_estimators=184, subsample=0.7718717535091743, score=0.999, total=  41.2s\n",
      "[CV] colsample_bytree=0.0196350531903301, gamma=0, learning_rate=0.5608552327112024, max_depth=9, n_estimators=438, subsample=0.8308693569436266 \n",
      "[CV]  colsample_bytree=0.0196350531903301, gamma=0, learning_rate=0.5608552327112024, max_depth=9, n_estimators=438, subsample=0.8308693569436266, score=0.998, total=  50.7s\n",
      "[CV] colsample_bytree=0.0196350531903301, gamma=0, learning_rate=0.5608552327112024, max_depth=9, n_estimators=438, subsample=0.8308693569436266 \n",
      "[CV]  colsample_bytree=0.0196350531903301, gamma=0, learning_rate=0.5608552327112024, max_depth=9, n_estimators=438, subsample=0.8308693569436266, score=0.998, total=  50.5s\n",
      "[CV] colsample_bytree=0.0196350531903301, gamma=0, learning_rate=0.5608552327112024, max_depth=9, n_estimators=438, subsample=0.8308693569436266 \n",
      "[CV]  colsample_bytree=0.0196350531903301, gamma=0, learning_rate=0.5608552327112024, max_depth=9, n_estimators=438, subsample=0.8308693569436266, score=0.998, total=  50.8s\n",
      "[CV] colsample_bytree=0.3022201220854588, gamma=0, learning_rate=0.8826391501054447, max_depth=5, n_estimators=402, subsample=0.2049291021815972 \n",
      "[CV]  colsample_bytree=0.3022201220854588, gamma=0, learning_rate=0.8826391501054447, max_depth=5, n_estimators=402, subsample=0.2049291021815972, score=0.998, total=  51.6s\n",
      "[CV] colsample_bytree=0.3022201220854588, gamma=0, learning_rate=0.8826391501054447, max_depth=5, n_estimators=402, subsample=0.2049291021815972 \n",
      "[CV]  colsample_bytree=0.3022201220854588, gamma=0, learning_rate=0.8826391501054447, max_depth=5, n_estimators=402, subsample=0.2049291021815972, score=0.998, total=  52.5s\n",
      "[CV] colsample_bytree=0.3022201220854588, gamma=0, learning_rate=0.8826391501054447, max_depth=5, n_estimators=402, subsample=0.2049291021815972 \n",
      "[CV]  colsample_bytree=0.3022201220854588, gamma=0, learning_rate=0.8826391501054447, max_depth=5, n_estimators=402, subsample=0.2049291021815972, score=0.998, total=  52.2s\n",
      "[CV] colsample_bytree=0.3807465201080452, gamma=0.5, learning_rate=0.6852319036671645, max_depth=3, n_estimators=227, subsample=0.0731181499958562 \n",
      "[CV]  colsample_bytree=0.3807465201080452, gamma=0.5, learning_rate=0.6852319036671645, max_depth=3, n_estimators=227, subsample=0.0731181499958562, score=0.997, total=  21.5s\n",
      "[CV] colsample_bytree=0.3807465201080452, gamma=0.5, learning_rate=0.6852319036671645, max_depth=3, n_estimators=227, subsample=0.0731181499958562 \n",
      "[CV]  colsample_bytree=0.3807465201080452, gamma=0.5, learning_rate=0.6852319036671645, max_depth=3, n_estimators=227, subsample=0.0731181499958562, score=0.997, total=  21.7s\n",
      "[CV] colsample_bytree=0.3807465201080452, gamma=0.5, learning_rate=0.6852319036671645, max_depth=3, n_estimators=227, subsample=0.0731181499958562 \n",
      "[CV]  colsample_bytree=0.3807465201080452, gamma=0.5, learning_rate=0.6852319036671645, max_depth=3, n_estimators=227, subsample=0.0731181499958562, score=0.997, total=  21.6s\n",
      "[CV] colsample_bytree=0.17699034320789264, gamma=1, learning_rate=0.7904219886137076, max_depth=5, n_estimators=469, subsample=0.09950285387090774 \n",
      "[CV]  colsample_bytree=0.17699034320789264, gamma=1, learning_rate=0.7904219886137076, max_depth=5, n_estimators=469, subsample=0.09950285387090774, score=0.997, total=  40.5s\n",
      "[CV] colsample_bytree=0.17699034320789264, gamma=1, learning_rate=0.7904219886137076, max_depth=5, n_estimators=469, subsample=0.09950285387090774 \n",
      "[CV]  colsample_bytree=0.17699034320789264, gamma=1, learning_rate=0.7904219886137076, max_depth=5, n_estimators=469, subsample=0.09950285387090774, score=0.997, total=  40.9s\n",
      "[CV] colsample_bytree=0.17699034320789264, gamma=1, learning_rate=0.7904219886137076, max_depth=5, n_estimators=469, subsample=0.09950285387090774 \n",
      "[CV]  colsample_bytree=0.17699034320789264, gamma=1, learning_rate=0.7904219886137076, max_depth=5, n_estimators=469, subsample=0.09950285387090774, score=0.997, total=  41.2s\n",
      "[CV] colsample_bytree=0.6453814641206962, gamma=0, learning_rate=0.6489622209916911, max_depth=5, n_estimators=119, subsample=0.7172982319058863 \n",
      "[CV]  colsample_bytree=0.6453814641206962, gamma=0, learning_rate=0.6489622209916911, max_depth=5, n_estimators=119, subsample=0.7172982319058863, score=0.999, total=  31.2s\n",
      "[CV] colsample_bytree=0.6453814641206962, gamma=0, learning_rate=0.6489622209916911, max_depth=5, n_estimators=119, subsample=0.7172982319058863 \n",
      "[CV]  colsample_bytree=0.6453814641206962, gamma=0, learning_rate=0.6489622209916911, max_depth=5, n_estimators=119, subsample=0.7172982319058863, score=0.999, total=  30.8s\n",
      "[CV] colsample_bytree=0.6453814641206962, gamma=0, learning_rate=0.6489622209916911, max_depth=5, n_estimators=119, subsample=0.7172982319058863 \n",
      "[CV]  colsample_bytree=0.6453814641206962, gamma=0, learning_rate=0.6489622209916911, max_depth=5, n_estimators=119, subsample=0.7172982319058863, score=0.999, total=  31.4s\n",
      "[CV] colsample_bytree=0.21862382069258146, gamma=0.5, learning_rate=0.15001375427002706, max_depth=3, n_estimators=102, subsample=0.3236587597229481 \n",
      "[CV]  colsample_bytree=0.21862382069258146, gamma=0.5, learning_rate=0.15001375427002706, max_depth=3, n_estimators=102, subsample=0.3236587597229481, score=0.998, total=  10.3s\n",
      "[CV] colsample_bytree=0.21862382069258146, gamma=0.5, learning_rate=0.15001375427002706, max_depth=3, n_estimators=102, subsample=0.3236587597229481 \n",
      "[CV]  colsample_bytree=0.21862382069258146, gamma=0.5, learning_rate=0.15001375427002706, max_depth=3, n_estimators=102, subsample=0.3236587597229481, score=0.998, total=  10.3s\n",
      "[CV] colsample_bytree=0.21862382069258146, gamma=0.5, learning_rate=0.15001375427002706, max_depth=3, n_estimators=102, subsample=0.3236587597229481 \n",
      "[CV]  colsample_bytree=0.21862382069258146, gamma=0.5, learning_rate=0.15001375427002706, max_depth=3, n_estimators=102, subsample=0.3236587597229481, score=0.999, total=  10.3s\n",
      "[CV] colsample_bytree=0.8997330149392108, gamma=0.5, learning_rate=0.3835247744746083, max_depth=5, n_estimators=356, subsample=0.7052102240395378 \n",
      "[CV]  colsample_bytree=0.8997330149392108, gamma=0.5, learning_rate=0.3835247744746083, max_depth=5, n_estimators=356, subsample=0.7052102240395378, score=0.999, total= 2.0min\n",
      "[CV] colsample_bytree=0.8997330149392108, gamma=0.5, learning_rate=0.3835247744746083, max_depth=5, n_estimators=356, subsample=0.7052102240395378 \n",
      "[CV]  colsample_bytree=0.8997330149392108, gamma=0.5, learning_rate=0.3835247744746083, max_depth=5, n_estimators=356, subsample=0.7052102240395378, score=0.999, total= 1.9min\n",
      "[CV] colsample_bytree=0.8997330149392108, gamma=0.5, learning_rate=0.3835247744746083, max_depth=5, n_estimators=356, subsample=0.7052102240395378 \n"
     ]
    },
    {
     "name": "stdout",
     "output_type": "stream",
     "text": [
      "[CV]  colsample_bytree=0.8997330149392108, gamma=0.5, learning_rate=0.3835247744746083, max_depth=5, n_estimators=356, subsample=0.7052102240395378, score=0.999, total= 2.0min\n",
      "[CV] colsample_bytree=0.8274594348493765, gamma=0, learning_rate=0.9807421345062718, max_depth=7, n_estimators=357, subsample=0.007095876549151892 \n",
      "[CV]  colsample_bytree=0.8274594348493765, gamma=0, learning_rate=0.9807421345062718, max_depth=7, n_estimators=357, subsample=0.007095876549151892, score=0.997, total=  26.1s\n",
      "[CV] colsample_bytree=0.8274594348493765, gamma=0, learning_rate=0.9807421345062718, max_depth=7, n_estimators=357, subsample=0.007095876549151892 \n",
      "[CV]  colsample_bytree=0.8274594348493765, gamma=0, learning_rate=0.9807421345062718, max_depth=7, n_estimators=357, subsample=0.007095876549151892, score=0.997, total=  27.4s\n",
      "[CV] colsample_bytree=0.8274594348493765, gamma=0, learning_rate=0.9807421345062718, max_depth=7, n_estimators=357, subsample=0.007095876549151892 \n",
      "[CV]  colsample_bytree=0.8274594348493765, gamma=0, learning_rate=0.9807421345062718, max_depth=7, n_estimators=357, subsample=0.007095876549151892, score=0.997, total=  27.1s\n",
      "[CV] colsample_bytree=0.20232884924216632, gamma=0, learning_rate=0.2702093627098191, max_depth=5, n_estimators=247, subsample=0.83911487102172 \n",
      "[CV]  colsample_bytree=0.20232884924216632, gamma=0, learning_rate=0.2702093627098191, max_depth=5, n_estimators=247, subsample=0.83911487102172, score=0.999, total=  36.6s\n",
      "[CV] colsample_bytree=0.20232884924216632, gamma=0, learning_rate=0.2702093627098191, max_depth=5, n_estimators=247, subsample=0.83911487102172 \n",
      "[CV]  colsample_bytree=0.20232884924216632, gamma=0, learning_rate=0.2702093627098191, max_depth=5, n_estimators=247, subsample=0.83911487102172, score=0.999, total=  36.4s\n",
      "[CV] colsample_bytree=0.20232884924216632, gamma=0, learning_rate=0.2702093627098191, max_depth=5, n_estimators=247, subsample=0.83911487102172 \n",
      "[CV]  colsample_bytree=0.20232884924216632, gamma=0, learning_rate=0.2702093627098191, max_depth=5, n_estimators=247, subsample=0.83911487102172, score=0.999, total=  36.3s\n",
      "[CV] colsample_bytree=0.7589294511785274, gamma=0.5, learning_rate=0.4359531294299118, max_depth=3, n_estimators=410, subsample=0.931964856164638 \n",
      "[CV]  colsample_bytree=0.7589294511785274, gamma=0.5, learning_rate=0.4359531294299118, max_depth=3, n_estimators=410, subsample=0.931964856164638, score=0.999, total= 1.3min\n",
      "[CV] colsample_bytree=0.7589294511785274, gamma=0.5, learning_rate=0.4359531294299118, max_depth=3, n_estimators=410, subsample=0.931964856164638 \n",
      "[CV]  colsample_bytree=0.7589294511785274, gamma=0.5, learning_rate=0.4359531294299118, max_depth=3, n_estimators=410, subsample=0.931964856164638, score=0.999, total= 1.2min\n",
      "[CV] colsample_bytree=0.7589294511785274, gamma=0.5, learning_rate=0.4359531294299118, max_depth=3, n_estimators=410, subsample=0.931964856164638 \n",
      "[CV]  colsample_bytree=0.7589294511785274, gamma=0.5, learning_rate=0.4359531294299118, max_depth=3, n_estimators=410, subsample=0.931964856164638, score=0.999, total= 1.3min\n",
      "[CV] colsample_bytree=0.6353029959551116, gamma=1, learning_rate=0.4597663311041704, max_depth=5, n_estimators=446, subsample=0.4719941047090389 \n",
      "[CV]  colsample_bytree=0.6353029959551116, gamma=1, learning_rate=0.4597663311041704, max_depth=5, n_estimators=446, subsample=0.4719941047090389, score=0.999, total= 1.8min\n",
      "[CV] colsample_bytree=0.6353029959551116, gamma=1, learning_rate=0.4597663311041704, max_depth=5, n_estimators=446, subsample=0.4719941047090389 \n",
      "[CV]  colsample_bytree=0.6353029959551116, gamma=1, learning_rate=0.4597663311041704, max_depth=5, n_estimators=446, subsample=0.4719941047090389, score=0.999, total= 1.8min\n",
      "[CV] colsample_bytree=0.6353029959551116, gamma=1, learning_rate=0.4597663311041704, max_depth=5, n_estimators=446, subsample=0.4719941047090389 \n",
      "[CV]  colsample_bytree=0.6353029959551116, gamma=1, learning_rate=0.4597663311041704, max_depth=5, n_estimators=446, subsample=0.4719941047090389, score=0.999, total= 1.8min\n",
      "[CV] colsample_bytree=0.631714367902491, gamma=0.5, learning_rate=0.08673527024268302, max_depth=5, n_estimators=398, subsample=0.4025895046450445 \n",
      "[CV]  colsample_bytree=0.631714367902491, gamma=0.5, learning_rate=0.08673527024268302, max_depth=5, n_estimators=398, subsample=0.4025895046450445, score=0.999, total= 1.6min\n",
      "[CV] colsample_bytree=0.631714367902491, gamma=0.5, learning_rate=0.08673527024268302, max_depth=5, n_estimators=398, subsample=0.4025895046450445 \n",
      "[CV]  colsample_bytree=0.631714367902491, gamma=0.5, learning_rate=0.08673527024268302, max_depth=5, n_estimators=398, subsample=0.4025895046450445, score=0.999, total= 1.6min\n",
      "[CV] colsample_bytree=0.631714367902491, gamma=0.5, learning_rate=0.08673527024268302, max_depth=5, n_estimators=398, subsample=0.4025895046450445 \n",
      "[CV]  colsample_bytree=0.631714367902491, gamma=0.5, learning_rate=0.08673527024268302, max_depth=5, n_estimators=398, subsample=0.4025895046450445, score=0.999, total= 1.6min\n",
      "[CV] colsample_bytree=0.370169261051031, gamma=1, learning_rate=0.23649191416687532, max_depth=9, n_estimators=458, subsample=0.157342950917284 \n",
      "[CV]  colsample_bytree=0.370169261051031, gamma=1, learning_rate=0.23649191416687532, max_depth=9, n_estimators=458, subsample=0.157342950917284, score=0.998, total= 1.4min\n",
      "[CV] colsample_bytree=0.370169261051031, gamma=1, learning_rate=0.23649191416687532, max_depth=9, n_estimators=458, subsample=0.157342950917284 \n",
      "[CV]  colsample_bytree=0.370169261051031, gamma=1, learning_rate=0.23649191416687532, max_depth=9, n_estimators=458, subsample=0.157342950917284, score=0.998, total= 1.4min\n",
      "[CV] colsample_bytree=0.370169261051031, gamma=1, learning_rate=0.23649191416687532, max_depth=9, n_estimators=458, subsample=0.157342950917284 \n",
      "[CV]  colsample_bytree=0.370169261051031, gamma=1, learning_rate=0.23649191416687532, max_depth=9, n_estimators=458, subsample=0.157342950917284, score=0.999, total= 1.4min\n",
      "[CV] colsample_bytree=0.3940255142601945, gamma=0, learning_rate=0.6478858456370922, max_depth=9, n_estimators=430, subsample=0.7900397119400009 \n",
      "[CV]  colsample_bytree=0.3940255142601945, gamma=0, learning_rate=0.6478858456370922, max_depth=9, n_estimators=430, subsample=0.7900397119400009, score=0.999, total= 1.3min\n",
      "[CV] colsample_bytree=0.3940255142601945, gamma=0, learning_rate=0.6478858456370922, max_depth=9, n_estimators=430, subsample=0.7900397119400009 \n",
      "[CV]  colsample_bytree=0.3940255142601945, gamma=0, learning_rate=0.6478858456370922, max_depth=9, n_estimators=430, subsample=0.7900397119400009, score=0.999, total= 1.3min\n",
      "[CV] colsample_bytree=0.3940255142601945, gamma=0, learning_rate=0.6478858456370922, max_depth=9, n_estimators=430, subsample=0.7900397119400009 \n",
      "[CV]  colsample_bytree=0.3940255142601945, gamma=0, learning_rate=0.6478858456370922, max_depth=9, n_estimators=430, subsample=0.7900397119400009, score=0.999, total= 1.4min\n",
      "[CV] colsample_bytree=0.415071774582214, gamma=0, learning_rate=0.16469217470793096, max_depth=5, n_estimators=181, subsample=0.8608607124804514 \n",
      "[CV]  colsample_bytree=0.415071774582214, gamma=0, learning_rate=0.16469217470793096, max_depth=5, n_estimators=181, subsample=0.8608607124804514, score=0.999, total=  37.6s\n",
      "[CV] colsample_bytree=0.415071774582214, gamma=0, learning_rate=0.16469217470793096, max_depth=5, n_estimators=181, subsample=0.8608607124804514 \n",
      "[CV]  colsample_bytree=0.415071774582214, gamma=0, learning_rate=0.16469217470793096, max_depth=5, n_estimators=181, subsample=0.8608607124804514, score=0.999, total=  37.1s\n",
      "[CV] colsample_bytree=0.415071774582214, gamma=0, learning_rate=0.16469217470793096, max_depth=5, n_estimators=181, subsample=0.8608607124804514 \n",
      "[CV]  colsample_bytree=0.415071774582214, gamma=0, learning_rate=0.16469217470793096, max_depth=5, n_estimators=181, subsample=0.8608607124804514, score=0.999, total=  37.4s\n",
      "[CV] colsample_bytree=0.33627139494857383, gamma=0.5, learning_rate=0.24389578673746937, max_depth=3, n_estimators=180, subsample=0.5248144499730755 \n",
      "[CV]  colsample_bytree=0.33627139494857383, gamma=0.5, learning_rate=0.24389578673746937, max_depth=3, n_estimators=180, subsample=0.5248144499730755, score=0.999, total=  23.9s\n",
      "[CV] colsample_bytree=0.33627139494857383, gamma=0.5, learning_rate=0.24389578673746937, max_depth=3, n_estimators=180, subsample=0.5248144499730755 \n"
     ]
    },
    {
     "name": "stdout",
     "output_type": "stream",
     "text": [
      "[CV]  colsample_bytree=0.33627139494857383, gamma=0.5, learning_rate=0.24389578673746937, max_depth=3, n_estimators=180, subsample=0.5248144499730755, score=0.999, total=  23.5s\n",
      "[CV] colsample_bytree=0.33627139494857383, gamma=0.5, learning_rate=0.24389578673746937, max_depth=3, n_estimators=180, subsample=0.5248144499730755 \n",
      "[CV]  colsample_bytree=0.33627139494857383, gamma=0.5, learning_rate=0.24389578673746937, max_depth=3, n_estimators=180, subsample=0.5248144499730755, score=0.999, total=  23.5s\n",
      "[CV] colsample_bytree=0.8258550253895973, gamma=0.5, learning_rate=0.2522783789438505, max_depth=9, n_estimators=70, subsample=0.9167099703054473 \n",
      "[CV]  colsample_bytree=0.8258550253895973, gamma=0.5, learning_rate=0.2522783789438505, max_depth=9, n_estimators=70, subsample=0.9167099703054473, score=0.999, total=  37.7s\n",
      "[CV] colsample_bytree=0.8258550253895973, gamma=0.5, learning_rate=0.2522783789438505, max_depth=9, n_estimators=70, subsample=0.9167099703054473 \n",
      "[CV]  colsample_bytree=0.8258550253895973, gamma=0.5, learning_rate=0.2522783789438505, max_depth=9, n_estimators=70, subsample=0.9167099703054473, score=0.999, total=  38.1s\n",
      "[CV] colsample_bytree=0.8258550253895973, gamma=0.5, learning_rate=0.2522783789438505, max_depth=9, n_estimators=70, subsample=0.9167099703054473 \n",
      "[CV]  colsample_bytree=0.8258550253895973, gamma=0.5, learning_rate=0.2522783789438505, max_depth=9, n_estimators=70, subsample=0.9167099703054473, score=0.999, total=  37.8s\n",
      "[CV] colsample_bytree=0.7697999489168833, gamma=0.5, learning_rate=0.4210794567032977, max_depth=7, n_estimators=262, subsample=0.14588802855605443 \n",
      "[CV]  colsample_bytree=0.7697999489168833, gamma=0.5, learning_rate=0.4210794567032977, max_depth=7, n_estimators=262, subsample=0.14588802855605443, score=0.998, total= 1.1min\n",
      "[CV] colsample_bytree=0.7697999489168833, gamma=0.5, learning_rate=0.4210794567032977, max_depth=7, n_estimators=262, subsample=0.14588802855605443 \n",
      "[CV]  colsample_bytree=0.7697999489168833, gamma=0.5, learning_rate=0.4210794567032977, max_depth=7, n_estimators=262, subsample=0.14588802855605443, score=0.998, total= 1.1min\n",
      "[CV] colsample_bytree=0.7697999489168833, gamma=0.5, learning_rate=0.4210794567032977, max_depth=7, n_estimators=262, subsample=0.14588802855605443 \n",
      "[CV]  colsample_bytree=0.7697999489168833, gamma=0.5, learning_rate=0.4210794567032977, max_depth=7, n_estimators=262, subsample=0.14588802855605443, score=0.998, total= 1.1min\n",
      "[CV] colsample_bytree=0.17028147303471963, gamma=1, learning_rate=0.8714849191793524, max_depth=5, n_estimators=447, subsample=0.21844544719274095 \n",
      "[CV]  colsample_bytree=0.17028147303471963, gamma=1, learning_rate=0.8714849191793524, max_depth=5, n_estimators=447, subsample=0.21844544719274095, score=0.997, total=  48.4s\n",
      "[CV] colsample_bytree=0.17028147303471963, gamma=1, learning_rate=0.8714849191793524, max_depth=5, n_estimators=447, subsample=0.21844544719274095 \n",
      "[CV]  colsample_bytree=0.17028147303471963, gamma=1, learning_rate=0.8714849191793524, max_depth=5, n_estimators=447, subsample=0.21844544719274095, score=0.997, total=  48.0s\n",
      "[CV] colsample_bytree=0.17028147303471963, gamma=1, learning_rate=0.8714849191793524, max_depth=5, n_estimators=447, subsample=0.21844544719274095 \n",
      "[CV]  colsample_bytree=0.17028147303471963, gamma=1, learning_rate=0.8714849191793524, max_depth=5, n_estimators=447, subsample=0.21844544719274095, score=0.998, total=  48.4s\n",
      "[CV] colsample_bytree=0.8490606183204268, gamma=0, learning_rate=0.8864792402405596, max_depth=5, n_estimators=150, subsample=0.5579207536468347 \n",
      "[CV]  colsample_bytree=0.8490606183204268, gamma=0, learning_rate=0.8864792402405596, max_depth=5, n_estimators=150, subsample=0.5579207536468347, score=0.998, total=  45.6s\n",
      "[CV] colsample_bytree=0.8490606183204268, gamma=0, learning_rate=0.8864792402405596, max_depth=5, n_estimators=150, subsample=0.5579207536468347 \n",
      "[CV]  colsample_bytree=0.8490606183204268, gamma=0, learning_rate=0.8864792402405596, max_depth=5, n_estimators=150, subsample=0.5579207536468347, score=0.998, total=  45.5s\n",
      "[CV] colsample_bytree=0.8490606183204268, gamma=0, learning_rate=0.8864792402405596, max_depth=5, n_estimators=150, subsample=0.5579207536468347 \n",
      "[CV]  colsample_bytree=0.8490606183204268, gamma=0, learning_rate=0.8864792402405596, max_depth=5, n_estimators=150, subsample=0.5579207536468347, score=0.999, total=  46.3s\n",
      "[CV] colsample_bytree=0.6172959808445663, gamma=0.5, learning_rate=0.1488016319852361, max_depth=7, n_estimators=67, subsample=0.554323840486844 \n",
      "[CV]  colsample_bytree=0.6172959808445663, gamma=0.5, learning_rate=0.1488016319852361, max_depth=7, n_estimators=67, subsample=0.554323840486844, score=0.999, total=  23.6s\n",
      "[CV] colsample_bytree=0.6172959808445663, gamma=0.5, learning_rate=0.1488016319852361, max_depth=7, n_estimators=67, subsample=0.554323840486844 \n",
      "[CV]  colsample_bytree=0.6172959808445663, gamma=0.5, learning_rate=0.1488016319852361, max_depth=7, n_estimators=67, subsample=0.554323840486844, score=0.999, total=  23.4s\n",
      "[CV] colsample_bytree=0.6172959808445663, gamma=0.5, learning_rate=0.1488016319852361, max_depth=7, n_estimators=67, subsample=0.554323840486844 \n",
      "[CV]  colsample_bytree=0.6172959808445663, gamma=0.5, learning_rate=0.1488016319852361, max_depth=7, n_estimators=67, subsample=0.554323840486844, score=0.999, total=  23.7s\n",
      "[CV] colsample_bytree=0.9166734817980288, gamma=0.5, learning_rate=0.007943776010369552, max_depth=9, n_estimators=330, subsample=0.13350516754249875 \n",
      "[CV]  colsample_bytree=0.9166734817980288, gamma=0.5, learning_rate=0.007943776010369552, max_depth=9, n_estimators=330, subsample=0.13350516754249875, score=0.998, total= 2.1min\n",
      "[CV] colsample_bytree=0.9166734817980288, gamma=0.5, learning_rate=0.007943776010369552, max_depth=9, n_estimators=330, subsample=0.13350516754249875 \n",
      "[CV]  colsample_bytree=0.9166734817980288, gamma=0.5, learning_rate=0.007943776010369552, max_depth=9, n_estimators=330, subsample=0.13350516754249875, score=0.998, total= 2.1min\n",
      "[CV] colsample_bytree=0.9166734817980288, gamma=0.5, learning_rate=0.007943776010369552, max_depth=9, n_estimators=330, subsample=0.13350516754249875 \n",
      "[CV]  colsample_bytree=0.9166734817980288, gamma=0.5, learning_rate=0.007943776010369552, max_depth=9, n_estimators=330, subsample=0.13350516754249875, score=0.998, total= 2.1min\n",
      "[CV] colsample_bytree=0.8762999250695436, gamma=1, learning_rate=0.45060719059757015, max_depth=5, n_estimators=315, subsample=0.881936425350204 \n",
      "[CV]  colsample_bytree=0.8762999250695436, gamma=1, learning_rate=0.45060719059757015, max_depth=5, n_estimators=315, subsample=0.881936425350204, score=0.999, total= 1.7min\n",
      "[CV] colsample_bytree=0.8762999250695436, gamma=1, learning_rate=0.45060719059757015, max_depth=5, n_estimators=315, subsample=0.881936425350204 \n",
      "[CV]  colsample_bytree=0.8762999250695436, gamma=1, learning_rate=0.45060719059757015, max_depth=5, n_estimators=315, subsample=0.881936425350204, score=0.999, total= 1.7min\n",
      "[CV] colsample_bytree=0.8762999250695436, gamma=1, learning_rate=0.45060719059757015, max_depth=5, n_estimators=315, subsample=0.881936425350204 \n",
      "[CV]  colsample_bytree=0.8762999250695436, gamma=1, learning_rate=0.45060719059757015, max_depth=5, n_estimators=315, subsample=0.881936425350204, score=0.999, total= 1.7min\n",
      "[CV] colsample_bytree=0.30409600374136125, gamma=0, learning_rate=0.6723046261336927, max_depth=7, n_estimators=251, subsample=0.43463411770600047 \n",
      "[CV]  colsample_bytree=0.30409600374136125, gamma=0, learning_rate=0.6723046261336927, max_depth=7, n_estimators=251, subsample=0.43463411770600047, score=0.998, total=  47.5s\n",
      "[CV] colsample_bytree=0.30409600374136125, gamma=0, learning_rate=0.6723046261336927, max_depth=7, n_estimators=251, subsample=0.43463411770600047 \n",
      "[CV]  colsample_bytree=0.30409600374136125, gamma=0, learning_rate=0.6723046261336927, max_depth=7, n_estimators=251, subsample=0.43463411770600047, score=0.999, total=  47.1s\n",
      "[CV] colsample_bytree=0.30409600374136125, gamma=0, learning_rate=0.6723046261336927, max_depth=7, n_estimators=251, subsample=0.43463411770600047 \n",
      "[CV]  colsample_bytree=0.30409600374136125, gamma=0, learning_rate=0.6723046261336927, max_depth=7, n_estimators=251, subsample=0.43463411770600047, score=0.999, total=  47.6s\n",
      "[CV] colsample_bytree=0.4715416412473765, gamma=1, learning_rate=0.2662630192036526, max_depth=5, n_estimators=369, subsample=0.21027234582906684 \n"
     ]
    },
    {
     "name": "stdout",
     "output_type": "stream",
     "text": [
      "[CV]  colsample_bytree=0.4715416412473765, gamma=1, learning_rate=0.2662630192036526, max_depth=5, n_estimators=369, subsample=0.21027234582906684, score=0.998, total= 1.0min\n",
      "[CV] colsample_bytree=0.4715416412473765, gamma=1, learning_rate=0.2662630192036526, max_depth=5, n_estimators=369, subsample=0.21027234582906684 \n",
      "[CV]  colsample_bytree=0.4715416412473765, gamma=1, learning_rate=0.2662630192036526, max_depth=5, n_estimators=369, subsample=0.21027234582906684, score=0.999, total= 1.0min\n",
      "[CV] colsample_bytree=0.4715416412473765, gamma=1, learning_rate=0.2662630192036526, max_depth=5, n_estimators=369, subsample=0.21027234582906684 \n",
      "[CV]  colsample_bytree=0.4715416412473765, gamma=1, learning_rate=0.2662630192036526, max_depth=5, n_estimators=369, subsample=0.21027234582906684, score=0.999, total= 1.0min\n",
      "[CV] colsample_bytree=0.5139404691578969, gamma=0.5, learning_rate=0.2999675136645916, max_depth=9, n_estimators=278, subsample=0.8277418366554766 \n",
      "[CV]  colsample_bytree=0.5139404691578969, gamma=0.5, learning_rate=0.2999675136645916, max_depth=9, n_estimators=278, subsample=0.8277418366554766, score=0.999, total= 1.7min\n",
      "[CV] colsample_bytree=0.5139404691578969, gamma=0.5, learning_rate=0.2999675136645916, max_depth=9, n_estimators=278, subsample=0.8277418366554766 \n",
      "[CV]  colsample_bytree=0.5139404691578969, gamma=0.5, learning_rate=0.2999675136645916, max_depth=9, n_estimators=278, subsample=0.8277418366554766, score=0.999, total= 1.7min\n",
      "[CV] colsample_bytree=0.5139404691578969, gamma=0.5, learning_rate=0.2999675136645916, max_depth=9, n_estimators=278, subsample=0.8277418366554766 \n",
      "[CV]  colsample_bytree=0.5139404691578969, gamma=0.5, learning_rate=0.2999675136645916, max_depth=9, n_estimators=278, subsample=0.8277418366554766, score=0.999, total= 1.7min\n",
      "[CV] colsample_bytree=0.9836893891476692, gamma=0, learning_rate=0.6930224983970341, max_depth=7, n_estimators=48, subsample=0.5921623514658518 \n",
      "[CV]  colsample_bytree=0.9836893891476692, gamma=0, learning_rate=0.6930224983970341, max_depth=7, n_estimators=48, subsample=0.5921623514658518, score=0.998, total=  24.1s\n",
      "[CV] colsample_bytree=0.9836893891476692, gamma=0, learning_rate=0.6930224983970341, max_depth=7, n_estimators=48, subsample=0.5921623514658518 \n",
      "[CV]  colsample_bytree=0.9836893891476692, gamma=0, learning_rate=0.6930224983970341, max_depth=7, n_estimators=48, subsample=0.5921623514658518, score=0.998, total=  24.0s\n",
      "[CV] colsample_bytree=0.9836893891476692, gamma=0, learning_rate=0.6930224983970341, max_depth=7, n_estimators=48, subsample=0.5921623514658518 \n",
      "[CV]  colsample_bytree=0.9836893891476692, gamma=0, learning_rate=0.6930224983970341, max_depth=7, n_estimators=48, subsample=0.5921623514658518, score=0.999, total=  23.9s\n",
      "[CV] colsample_bytree=0.3647160589980064, gamma=0.5, learning_rate=0.18837809971484631, max_depth=3, n_estimators=150, subsample=0.3837770926031977 \n",
      "[CV]  colsample_bytree=0.3647160589980064, gamma=0.5, learning_rate=0.18837809971484631, max_depth=3, n_estimators=150, subsample=0.3837770926031977, score=0.999, total=  18.9s\n",
      "[CV] colsample_bytree=0.3647160589980064, gamma=0.5, learning_rate=0.18837809971484631, max_depth=3, n_estimators=150, subsample=0.3837770926031977 \n",
      "[CV]  colsample_bytree=0.3647160589980064, gamma=0.5, learning_rate=0.18837809971484631, max_depth=3, n_estimators=150, subsample=0.3837770926031977, score=0.999, total=  18.9s\n",
      "[CV] colsample_bytree=0.3647160589980064, gamma=0.5, learning_rate=0.18837809971484631, max_depth=3, n_estimators=150, subsample=0.3837770926031977 \n",
      "[CV]  colsample_bytree=0.3647160589980064, gamma=0.5, learning_rate=0.18837809971484631, max_depth=3, n_estimators=150, subsample=0.3837770926031977, score=0.999, total=  18.9s\n",
      "[CV] colsample_bytree=0.7854812250403213, gamma=0, learning_rate=0.7913554490834939, max_depth=5, n_estimators=338, subsample=0.15663380450944753 \n",
      "[CV]  colsample_bytree=0.7854812250403213, gamma=0, learning_rate=0.7913554490834939, max_depth=5, n_estimators=338, subsample=0.15663380450944753, score=0.997, total= 1.0min\n",
      "[CV] colsample_bytree=0.7854812250403213, gamma=0, learning_rate=0.7913554490834939, max_depth=5, n_estimators=338, subsample=0.15663380450944753 \n",
      "[CV]  colsample_bytree=0.7854812250403213, gamma=0, learning_rate=0.7913554490834939, max_depth=5, n_estimators=338, subsample=0.15663380450944753, score=0.997, total= 1.0min\n",
      "[CV] colsample_bytree=0.7854812250403213, gamma=0, learning_rate=0.7913554490834939, max_depth=5, n_estimators=338, subsample=0.15663380450944753 \n",
      "[CV]  colsample_bytree=0.7854812250403213, gamma=0, learning_rate=0.7913554490834939, max_depth=5, n_estimators=338, subsample=0.15663380450944753, score=0.998, total= 1.1min\n",
      "[CV] colsample_bytree=0.9918052899392772, gamma=1, learning_rate=0.49988329785256946, max_depth=7, n_estimators=326, subsample=0.851320279936076 \n",
      "[CV]  colsample_bytree=0.9918052899392772, gamma=1, learning_rate=0.49988329785256946, max_depth=7, n_estimators=326, subsample=0.851320279936076, score=0.999, total= 2.6min\n",
      "[CV] colsample_bytree=0.9918052899392772, gamma=1, learning_rate=0.49988329785256946, max_depth=7, n_estimators=326, subsample=0.851320279936076 \n",
      "[CV]  colsample_bytree=0.9918052899392772, gamma=1, learning_rate=0.49988329785256946, max_depth=7, n_estimators=326, subsample=0.851320279936076, score=0.999, total= 2.6min\n",
      "[CV] colsample_bytree=0.9918052899392772, gamma=1, learning_rate=0.49988329785256946, max_depth=7, n_estimators=326, subsample=0.851320279936076 \n",
      "[CV]  colsample_bytree=0.9918052899392772, gamma=1, learning_rate=0.49988329785256946, max_depth=7, n_estimators=326, subsample=0.851320279936076, score=0.999, total= 2.5min\n",
      "[CV] colsample_bytree=0.5277729971905636, gamma=0, learning_rate=0.2938886729499883, max_depth=7, n_estimators=171, subsample=0.6123651266348715 \n",
      "[CV]  colsample_bytree=0.5277729971905636, gamma=0, learning_rate=0.2938886729499883, max_depth=7, n_estimators=171, subsample=0.6123651266348715, score=0.999, total=  52.7s\n",
      "[CV] colsample_bytree=0.5277729971905636, gamma=0, learning_rate=0.2938886729499883, max_depth=7, n_estimators=171, subsample=0.6123651266348715 \n",
      "[CV]  colsample_bytree=0.5277729971905636, gamma=0, learning_rate=0.2938886729499883, max_depth=7, n_estimators=171, subsample=0.6123651266348715, score=0.999, total=  52.7s\n",
      "[CV] colsample_bytree=0.5277729971905636, gamma=0, learning_rate=0.2938886729499883, max_depth=7, n_estimators=171, subsample=0.6123651266348715 \n",
      "[CV]  colsample_bytree=0.5277729971905636, gamma=0, learning_rate=0.2938886729499883, max_depth=7, n_estimators=171, subsample=0.6123651266348715, score=0.999, total=  52.8s\n",
      "[CV] colsample_bytree=0.8778792852395237, gamma=1, learning_rate=0.8974458895090524, max_depth=3, n_estimators=345, subsample=0.12439164141973824 \n",
      "[CV]  colsample_bytree=0.8778792852395237, gamma=1, learning_rate=0.8974458895090524, max_depth=3, n_estimators=345, subsample=0.12439164141973824, score=0.997, total=  47.5s\n",
      "[CV] colsample_bytree=0.8778792852395237, gamma=1, learning_rate=0.8974458895090524, max_depth=3, n_estimators=345, subsample=0.12439164141973824 \n",
      "[CV]  colsample_bytree=0.8778792852395237, gamma=1, learning_rate=0.8974458895090524, max_depth=3, n_estimators=345, subsample=0.12439164141973824, score=0.998, total=  47.6s\n",
      "[CV] colsample_bytree=0.8778792852395237, gamma=1, learning_rate=0.8974458895090524, max_depth=3, n_estimators=345, subsample=0.12439164141973824 \n",
      "[CV]  colsample_bytree=0.8778792852395237, gamma=1, learning_rate=0.8974458895090524, max_depth=3, n_estimators=345, subsample=0.12439164141973824, score=0.997, total=  47.5s\n",
      "[CV] colsample_bytree=0.9564638424139361, gamma=0, learning_rate=0.28181496645949267, max_depth=7, n_estimators=425, subsample=0.3361040265850367 \n",
      "[CV]  colsample_bytree=0.9564638424139361, gamma=0, learning_rate=0.28181496645949267, max_depth=7, n_estimators=425, subsample=0.3361040265850367, score=0.999, total= 2.4min\n",
      "[CV] colsample_bytree=0.9564638424139361, gamma=0, learning_rate=0.28181496645949267, max_depth=7, n_estimators=425, subsample=0.3361040265850367 \n",
      "[CV]  colsample_bytree=0.9564638424139361, gamma=0, learning_rate=0.28181496645949267, max_depth=7, n_estimators=425, subsample=0.3361040265850367, score=0.999, total= 2.3min\n",
      "[CV] colsample_bytree=0.9564638424139361, gamma=0, learning_rate=0.28181496645949267, max_depth=7, n_estimators=425, subsample=0.3361040265850367 \n"
     ]
    },
    {
     "name": "stdout",
     "output_type": "stream",
     "text": [
      "[CV]  colsample_bytree=0.9564638424139361, gamma=0, learning_rate=0.28181496645949267, max_depth=7, n_estimators=425, subsample=0.3361040265850367, score=0.999, total= 2.4min\n",
      "[CV] colsample_bytree=0.3625473603983238, gamma=0.5, learning_rate=0.886975127977201, max_depth=3, n_estimators=420, subsample=0.04016312842699654 \n",
      "[CV]  colsample_bytree=0.3625473603983238, gamma=0.5, learning_rate=0.886975127977201, max_depth=3, n_estimators=420, subsample=0.04016312842699654, score=0.997, total=  32.4s\n",
      "[CV] colsample_bytree=0.3625473603983238, gamma=0.5, learning_rate=0.886975127977201, max_depth=3, n_estimators=420, subsample=0.04016312842699654 \n",
      "[CV]  colsample_bytree=0.3625473603983238, gamma=0.5, learning_rate=0.886975127977201, max_depth=3, n_estimators=420, subsample=0.04016312842699654, score=0.997, total=  32.0s\n",
      "[CV] colsample_bytree=0.3625473603983238, gamma=0.5, learning_rate=0.886975127977201, max_depth=3, n_estimators=420, subsample=0.04016312842699654 \n",
      "[CV]  colsample_bytree=0.3625473603983238, gamma=0.5, learning_rate=0.886975127977201, max_depth=3, n_estimators=420, subsample=0.04016312842699654, score=0.997, total=  33.0s\n",
      "[CV] colsample_bytree=0.1427110872694175, gamma=0, learning_rate=0.934040431225683, max_depth=5, n_estimators=488, subsample=0.9099284219574344 \n",
      "[CV]  colsample_bytree=0.1427110872694175, gamma=0, learning_rate=0.934040431225683, max_depth=5, n_estimators=488, subsample=0.9099284219574344, score=0.999, total=  56.1s\n",
      "[CV] colsample_bytree=0.1427110872694175, gamma=0, learning_rate=0.934040431225683, max_depth=5, n_estimators=488, subsample=0.9099284219574344 \n",
      "[CV]  colsample_bytree=0.1427110872694175, gamma=0, learning_rate=0.934040431225683, max_depth=5, n_estimators=488, subsample=0.9099284219574344, score=0.999, total=  55.6s\n",
      "[CV] colsample_bytree=0.1427110872694175, gamma=0, learning_rate=0.934040431225683, max_depth=5, n_estimators=488, subsample=0.9099284219574344 \n",
      "[CV]  colsample_bytree=0.1427110872694175, gamma=0, learning_rate=0.934040431225683, max_depth=5, n_estimators=488, subsample=0.9099284219574344, score=0.999, total=  55.6s\n",
      "[CV] colsample_bytree=0.08769606209243763, gamma=0, learning_rate=0.5854474555253671, max_depth=7, n_estimators=480, subsample=0.6426781116847852 \n",
      "[CV]  colsample_bytree=0.08769606209243763, gamma=0, learning_rate=0.5854474555253671, max_depth=7, n_estimators=480, subsample=0.6426781116847852, score=0.999, total= 1.0min\n",
      "[CV] colsample_bytree=0.08769606209243763, gamma=0, learning_rate=0.5854474555253671, max_depth=7, n_estimators=480, subsample=0.6426781116847852 \n",
      "[CV]  colsample_bytree=0.08769606209243763, gamma=0, learning_rate=0.5854474555253671, max_depth=7, n_estimators=480, subsample=0.6426781116847852, score=0.999, total= 1.0min\n",
      "[CV] colsample_bytree=0.08769606209243763, gamma=0, learning_rate=0.5854474555253671, max_depth=7, n_estimators=480, subsample=0.6426781116847852 \n",
      "[CV]  colsample_bytree=0.08769606209243763, gamma=0, learning_rate=0.5854474555253671, max_depth=7, n_estimators=480, subsample=0.6426781116847852, score=0.999, total= 1.0min\n",
      "[CV] colsample_bytree=0.7228330063824677, gamma=0, learning_rate=0.45734181067366253, max_depth=7, n_estimators=222, subsample=0.4304634131220364 \n",
      "[CV]  colsample_bytree=0.7228330063824677, gamma=0, learning_rate=0.45734181067366253, max_depth=7, n_estimators=222, subsample=0.4304634131220364, score=0.999, total= 1.1min\n",
      "[CV] colsample_bytree=0.7228330063824677, gamma=0, learning_rate=0.45734181067366253, max_depth=7, n_estimators=222, subsample=0.4304634131220364 \n",
      "[CV]  colsample_bytree=0.7228330063824677, gamma=0, learning_rate=0.45734181067366253, max_depth=7, n_estimators=222, subsample=0.4304634131220364, score=0.999, total= 1.1min\n",
      "[CV] colsample_bytree=0.7228330063824677, gamma=0, learning_rate=0.45734181067366253, max_depth=7, n_estimators=222, subsample=0.4304634131220364 \n",
      "[CV]  colsample_bytree=0.7228330063824677, gamma=0, learning_rate=0.45734181067366253, max_depth=7, n_estimators=222, subsample=0.4304634131220364, score=0.999, total= 1.1min\n",
      "[CV] colsample_bytree=0.9317312433254439, gamma=0.5, learning_rate=0.22673587222022618, max_depth=7, n_estimators=336, subsample=0.7946945369030941 \n",
      "[CV]  colsample_bytree=0.9317312433254439, gamma=0.5, learning_rate=0.22673587222022618, max_depth=7, n_estimators=336, subsample=0.7946945369030941, score=0.999, total= 2.6min\n",
      "[CV] colsample_bytree=0.9317312433254439, gamma=0.5, learning_rate=0.22673587222022618, max_depth=7, n_estimators=336, subsample=0.7946945369030941 \n",
      "[CV]  colsample_bytree=0.9317312433254439, gamma=0.5, learning_rate=0.22673587222022618, max_depth=7, n_estimators=336, subsample=0.7946945369030941, score=0.999, total= 2.5min\n",
      "[CV] colsample_bytree=0.9317312433254439, gamma=0.5, learning_rate=0.22673587222022618, max_depth=7, n_estimators=336, subsample=0.7946945369030941 \n",
      "[CV]  colsample_bytree=0.9317312433254439, gamma=0.5, learning_rate=0.22673587222022618, max_depth=7, n_estimators=336, subsample=0.7946945369030941, score=0.999, total= 2.5min\n",
      "[CV] colsample_bytree=0.5465084521486412, gamma=1, learning_rate=0.08004026297152456, max_depth=5, n_estimators=58, subsample=0.29838796310162563 \n",
      "[CV]  colsample_bytree=0.5465084521486412, gamma=1, learning_rate=0.08004026297152456, max_depth=5, n_estimators=58, subsample=0.29838796310162563, score=0.998, total=  12.6s\n",
      "[CV] colsample_bytree=0.5465084521486412, gamma=1, learning_rate=0.08004026297152456, max_depth=5, n_estimators=58, subsample=0.29838796310162563 \n",
      "[CV]  colsample_bytree=0.5465084521486412, gamma=1, learning_rate=0.08004026297152456, max_depth=5, n_estimators=58, subsample=0.29838796310162563, score=0.998, total=  12.5s\n",
      "[CV] colsample_bytree=0.5465084521486412, gamma=1, learning_rate=0.08004026297152456, max_depth=5, n_estimators=58, subsample=0.29838796310162563 \n",
      "[CV]  colsample_bytree=0.5465084521486412, gamma=1, learning_rate=0.08004026297152456, max_depth=5, n_estimators=58, subsample=0.29838796310162563, score=0.998, total=  12.5s\n",
      "[CV] colsample_bytree=0.32758384646402006, gamma=1, learning_rate=0.8203733203767808, max_depth=7, n_estimators=65, subsample=0.31753571550134707 \n",
      "[CV]  colsample_bytree=0.32758384646402006, gamma=1, learning_rate=0.8203733203767808, max_depth=7, n_estimators=65, subsample=0.31753571550134707, score=0.998, total=  14.9s\n",
      "[CV] colsample_bytree=0.32758384646402006, gamma=1, learning_rate=0.8203733203767808, max_depth=7, n_estimators=65, subsample=0.31753571550134707 \n",
      "[CV]  colsample_bytree=0.32758384646402006, gamma=1, learning_rate=0.8203733203767808, max_depth=7, n_estimators=65, subsample=0.31753571550134707, score=0.998, total=  14.6s\n",
      "[CV] colsample_bytree=0.32758384646402006, gamma=1, learning_rate=0.8203733203767808, max_depth=7, n_estimators=65, subsample=0.31753571550134707 \n",
      "[CV]  colsample_bytree=0.32758384646402006, gamma=1, learning_rate=0.8203733203767808, max_depth=7, n_estimators=65, subsample=0.31753571550134707, score=0.998, total=  14.8s\n",
      "[CV] colsample_bytree=0.5152259490515718, gamma=0.5, learning_rate=0.4797621665478846, max_depth=9, n_estimators=127, subsample=0.10894076186231982 \n",
      "[CV]  colsample_bytree=0.5152259490515718, gamma=0.5, learning_rate=0.4797621665478846, max_depth=9, n_estimators=127, subsample=0.10894076186231982, score=0.998, total=  27.7s\n",
      "[CV] colsample_bytree=0.5152259490515718, gamma=0.5, learning_rate=0.4797621665478846, max_depth=9, n_estimators=127, subsample=0.10894076186231982 \n",
      "[CV]  colsample_bytree=0.5152259490515718, gamma=0.5, learning_rate=0.4797621665478846, max_depth=9, n_estimators=127, subsample=0.10894076186231982, score=0.998, total=  28.5s\n",
      "[CV] colsample_bytree=0.5152259490515718, gamma=0.5, learning_rate=0.4797621665478846, max_depth=9, n_estimators=127, subsample=0.10894076186231982 \n",
      "[CV]  colsample_bytree=0.5152259490515718, gamma=0.5, learning_rate=0.4797621665478846, max_depth=9, n_estimators=127, subsample=0.10894076186231982, score=0.998, total=  28.0s\n",
      "[CV] colsample_bytree=0.5060506125373518, gamma=0.5, learning_rate=0.64099934659491, max_depth=9, n_estimators=166, subsample=0.3027654384906646 \n",
      "[CV]  colsample_bytree=0.5060506125373518, gamma=0.5, learning_rate=0.64099934659491, max_depth=9, n_estimators=166, subsample=0.3027654384906646, score=0.998, total=  42.7s\n",
      "[CV] colsample_bytree=0.5060506125373518, gamma=0.5, learning_rate=0.64099934659491, max_depth=9, n_estimators=166, subsample=0.3027654384906646 \n"
     ]
    },
    {
     "name": "stdout",
     "output_type": "stream",
     "text": [
      "[CV]  colsample_bytree=0.5060506125373518, gamma=0.5, learning_rate=0.64099934659491, max_depth=9, n_estimators=166, subsample=0.3027654384906646, score=0.998, total=  42.4s\n",
      "[CV] colsample_bytree=0.5060506125373518, gamma=0.5, learning_rate=0.64099934659491, max_depth=9, n_estimators=166, subsample=0.3027654384906646 \n",
      "[CV]  colsample_bytree=0.5060506125373518, gamma=0.5, learning_rate=0.64099934659491, max_depth=9, n_estimators=166, subsample=0.3027654384906646, score=0.998, total=  43.7s\n",
      "[CV] colsample_bytree=0.9983862721241882, gamma=0.5, learning_rate=0.2159654911802783, max_depth=5, n_estimators=232, subsample=0.9385444349357669 \n",
      "[CV]  colsample_bytree=0.9983862721241882, gamma=0.5, learning_rate=0.2159654911802783, max_depth=5, n_estimators=232, subsample=0.9385444349357669, score=0.999, total= 1.4min\n",
      "[CV] colsample_bytree=0.9983862721241882, gamma=0.5, learning_rate=0.2159654911802783, max_depth=5, n_estimators=232, subsample=0.9385444349357669 \n",
      "[CV]  colsample_bytree=0.9983862721241882, gamma=0.5, learning_rate=0.2159654911802783, max_depth=5, n_estimators=232, subsample=0.9385444349357669, score=0.999, total= 1.4min\n",
      "[CV] colsample_bytree=0.9983862721241882, gamma=0.5, learning_rate=0.2159654911802783, max_depth=5, n_estimators=232, subsample=0.9385444349357669 \n",
      "[CV]  colsample_bytree=0.9983862721241882, gamma=0.5, learning_rate=0.2159654911802783, max_depth=5, n_estimators=232, subsample=0.9385444349357669, score=0.999, total= 1.4min\n"
     ]
    },
    {
     "name": "stderr",
     "output_type": "stream",
     "text": [
      "[Parallel(n_jobs=1)]: Done 300 out of 300 | elapsed: 257.5min finished\n"
     ]
    },
    {
     "data": {
      "text/plain": [
       "RandomizedSearchCV(cv=3, error_score=nan,\n",
       "                   estimator=XGBClassifier(base_score=None, booster=None,\n",
       "                                           colsample_bylevel=None,\n",
       "                                           colsample_bynode=None,\n",
       "                                           colsample_bytree=None, gamma=None,\n",
       "                                           gpu_id=None, importance_type='gain',\n",
       "                                           interaction_constraints=None,\n",
       "                                           learning_rate=None,\n",
       "                                           max_delta_step=None, max_depth=None,\n",
       "                                           min_child_weight=None, missing=nan,\n",
       "                                           monotone_constraints=None,\n",
       "                                           n...\n",
       "                                        'learning_rate': <scipy.stats._distn_infrastructure.rv_frozen object at 0x7fc68131c710>,\n",
       "                                        'max_depth': range(3, 10, 2),\n",
       "                                        'n_estimators': <scipy.stats._distn_infrastructure.rv_frozen object at 0x7fc6c83cb198>,\n",
       "                                        'subsample': <scipy.stats._distn_infrastructure.rv_frozen object at 0x7fc68131cc50>},\n",
       "                   pre_dispatch='2*n_jobs', random_state=342, refit=True,\n",
       "                   return_train_score=False, scoring='accuracy', verbose=10)"
      ]
     },
     "execution_count": 15,
     "metadata": {},
     "output_type": "execute_result"
    }
   ],
   "source": [
    "rd_grid.fit(X_train,y_train)"
   ]
  },
  {
   "cell_type": "markdown",
   "metadata": {},
   "source": [
    "Here are our new best parameters : "
   ]
  },
  {
   "cell_type": "code",
   "execution_count": 19,
   "metadata": {},
   "outputs": [
    {
     "data": {
      "text/plain": [
       "{'colsample_bytree': 0.9983862721241882,\n",
       " 'gamma': 0.5,\n",
       " 'learning_rate': 0.2159654911802783,\n",
       " 'max_depth': 5,\n",
       " 'n_estimators': 232,\n",
       " 'subsample': 0.9385444349357669}"
      ]
     },
     "execution_count": 19,
     "metadata": {},
     "output_type": "execute_result"
    }
   ],
   "source": [
    "rd_grid.best_params_"
   ]
  },
  {
   "cell_type": "markdown",
   "metadata": {},
   "source": [
    "Let's compare them to the parameters found the night before : \n",
    "\n",
    "{'colsample_bytree': 0.5213285655977811,\n",
    " 'gamma': 1,\n",
    " 'learning_rate': 0.12245745743134928,\n",
    " 'max_depth': 5,\n",
    " 'n_estimators': 448,\n",
    " 'subsample': 0.48831719352338554}\n",
    " \n",
    "The max_depth of the trees is the same, 5.\n",
    "\n",
    "This model considers less estimators (232 vs 448) but for each iterator, the subsample ratio of the training instance picked is largely superior as the subsample ratio of columns when constructing each tree.."
   ]
  },
  {
   "cell_type": "markdown",
   "metadata": {},
   "source": [
    "We test this new model :"
   ]
  },
  {
   "cell_type": "code",
   "execution_count": 68,
   "metadata": {},
   "outputs": [],
   "source": [
    "clf=XGBClassifier(colsample_bytree= 0.9983862721241882,\n",
    " gamma= 0.5,\n",
    " learning_rate= 0.2159654911802783,\n",
    " max_depth= 5,\n",
    " n_estimators= 232,\n",
    " subsample= 0.9385444349357669,objective='binary:logistic')"
   ]
  },
  {
   "cell_type": "code",
   "execution_count": 69,
   "metadata": {},
   "outputs": [
    {
     "data": {
      "text/plain": [
       "XGBClassifier(base_score=0.5, booster=None, colsample_bylevel=1,\n",
       "              colsample_bynode=1, colsample_bytree=0.9983862721241882,\n",
       "              gamma=0.5, gpu_id=-1, importance_type='gain',\n",
       "              interaction_constraints=None, learning_rate=0.2159654911802783,\n",
       "              max_delta_step=0, max_depth=5, min_child_weight=1, missing=nan,\n",
       "              monotone_constraints=None, n_estimators=232, n_jobs=0,\n",
       "              num_parallel_tree=1, objective='binary:logistic', random_state=0,\n",
       "              reg_alpha=0, reg_lambda=1, scale_pos_weight=1,\n",
       "              subsample=0.9385444349357669, tree_method=None,\n",
       "              validate_parameters=False, verbosity=None)"
      ]
     },
     "execution_count": 69,
     "metadata": {},
     "output_type": "execute_result"
    }
   ],
   "source": [
    "clf.fit(X_train,y_train)"
   ]
  },
  {
   "cell_type": "code",
   "execution_count": 70,
   "metadata": {},
   "outputs": [
    {
     "data": {
      "text/plain": [
       "0.9983664579362919"
      ]
     },
     "execution_count": 70,
     "metadata": {},
     "output_type": "execute_result"
    }
   ],
   "source": [
    "clf.score(X_test,y_test)"
   ]
  },
  {
   "cell_type": "code",
   "execution_count": null,
   "metadata": {},
   "outputs": [],
   "source": [
    "#TO SUBMIT : \n",
    "submit(model=clf,X_exam=X_exam)"
   ]
  },
  {
   "cell_type": "markdown",
   "metadata": {},
   "source": [
    "This is currently our best score : ***0.998519119452***."
   ]
  },
  {
   "cell_type": "markdown",
   "metadata": {},
   "source": [
    "## 5- Going further "
   ]
  },
  {
   "cell_type": "markdown",
   "metadata": {},
   "source": [
    "### Ensemble methods "
   ]
  },
  {
   "cell_type": "markdown",
   "metadata": {},
   "source": [
    "---\n",
    "\n",
    "The goal of ensemble methods is to combine the predictions of several base estimators built with a given learning algorithm in order to improve generalizability / robustness over a single estimator.\n",
    "\n",
    "Marine is going to deal with ensemble methods as Adaboost or Random forests and I'm going to try Voting Classifier and Stacking.\n",
    "\n",
    "---"
   ]
  },
  {
   "cell_type": "markdown",
   "metadata": {},
   "source": [
    "#### Voting Classifier"
   ]
  },
  {
   "cell_type": "markdown",
   "metadata": {},
   "source": [
    "---\n",
    "\n",
    "The idea behind the VotingClassifier is to combine conceptually different machine learning classifiers and use a majority vote or the average predicted probabilities (soft vote) to predict the class labels. Such a classifier can be useful for a set of equally well performing model in order to balance out their individual weaknesses.\n",
    "\n",
    "source : https://scikit-learn.org/stable/modules/ensemble.html\n",
    "\n",
    "First I'm going to try with 3 models :\n",
    "\n",
    "I needed another very good classifier to be able to implement this VotingClassifier technique. \n",
    "So I used LightGBM, another gradient boosting framework that uses tree based learning algorithms, to see if the combination of the two could be more efficient.\n",
    "\n",
    "---"
   ]
  },
  {
   "cell_type": "code",
   "execution_count": 18,
   "metadata": {},
   "outputs": [],
   "source": [
    "clf1 = MLPClassifier(hidden_layer_sizes=(15,),verbose=1,max_iter=500,random_state=0)\n",
    "\n",
    "clf2 = XGBClassifier(colsample_bytree= 0.5213285655977811,\n",
    " gamma= 1,\n",
    " learning_rate= 0.12245745743134928,\n",
    " max_depth= 5,\n",
    " n_estimators= 448,\n",
    " subsample= 0.48831719352338554,objective='binary:logistic')\n",
    "\n",
    "clf3 = LGBMClassifier(boosting_type='goss', num_leaves=100,learning_rate=0.1, tree_method='gpu_hist',tree_learner='data',\n",
    "                                                   n_estimators=300, min_split_gain=0.0, min_child_weight=0.001, min_child_samples=64,\n",
    "                                                   subsample=0.79,colsample_bytree=0.73, reg_alpha=0.0,reg_lambda= 0.0,\n",
    "                                                   n_jobs= 5,subsample_for_bin =100000)"
   ]
  },
  {
   "cell_type": "markdown",
   "metadata": {},
   "source": [
    "I'm going to try voting='hard' and voting='soft'\n",
    "\n",
    " - In majority voting (voting='hard'), the predicted class label for a particular sample is the class label that represents the majority (mode) of the class labels predicted by each individual classifier.\n",
    " - In contrast to majority voting (hard voting), soft voting returns the class label as argmax of the sum of predicted probabilities."
   ]
  },
  {
   "cell_type": "code",
   "execution_count": 61,
   "metadata": {},
   "outputs": [],
   "source": [
    "eclf = VotingClassifier(estimators=[('mlp', clf1), ('xgb', clf2), ('lgbm', clf3)],voting='hard')"
   ]
  },
  {
   "cell_type": "code",
   "execution_count": 65,
   "metadata": {},
   "outputs": [
    {
     "name": "stdout",
     "output_type": "stream",
     "text": [
      "Iteration 1, loss = 0.03063585\n",
      "Iteration 2, loss = 0.00673447\n",
      "Iteration 3, loss = 0.00594956\n",
      "Iteration 4, loss = 0.00560891\n",
      "Iteration 5, loss = 0.00536448\n",
      "Iteration 6, loss = 0.00522307\n",
      "Iteration 7, loss = 0.00510961\n",
      "Iteration 8, loss = 0.00505204\n",
      "Iteration 9, loss = 0.00499033\n",
      "Iteration 10, loss = 0.00494338\n",
      "Iteration 11, loss = 0.00488052\n",
      "Iteration 12, loss = 0.00484259\n",
      "Iteration 13, loss = 0.00480436\n",
      "Iteration 14, loss = 0.00478234\n",
      "Iteration 15, loss = 0.00473177\n",
      "Iteration 16, loss = 0.00469255\n",
      "Iteration 17, loss = 0.00464473\n",
      "Iteration 18, loss = 0.00461066\n",
      "Training loss did not improve more than tol=0.000100 for 10 consecutive epochs. Stopping.\n"
     ]
    },
    {
     "data": {
      "text/plain": [
       "VotingClassifier(estimators=[('mlp',\n",
       "                              MLPClassifier(activation='relu', alpha=0.0001,\n",
       "                                            batch_size='auto', beta_1=0.9,\n",
       "                                            beta_2=0.999, early_stopping=False,\n",
       "                                            epsilon=1e-08,\n",
       "                                            hidden_layer_sizes=(15,),\n",
       "                                            learning_rate='constant',\n",
       "                                            learning_rate_init=0.001,\n",
       "                                            max_fun=15000, max_iter=500,\n",
       "                                            momentum=0.9, n_iter_no_change=10,\n",
       "                                            nesterovs_momentum=True,\n",
       "                                            power_t=0.5, random_state=0,\n",
       "                                            shuffl...\n",
       "                                             learning_rate=0.1, max_depth=-1,\n",
       "                                             min_child_samples=64,\n",
       "                                             min_child_weight=0.001,\n",
       "                                             min_split_gain=0.0,\n",
       "                                             n_estimators=300, n_jobs=5,\n",
       "                                             num_leaves=100, objective=None,\n",
       "                                             random_state=None, reg_alpha=0.0,\n",
       "                                             reg_lambda=0.0, silent=True,\n",
       "                                             subsample=0.79,\n",
       "                                             subsample_for_bin=100000,\n",
       "                                             subsample_freq=0,\n",
       "                                             tree_learner='data',\n",
       "                                             tree_method='gpu_hist'))],\n",
       "                 flatten_transform=True, n_jobs=None, voting='hard',\n",
       "                 weights=None)"
      ]
     },
     "execution_count": 65,
     "metadata": {},
     "output_type": "execute_result"
    }
   ],
   "source": [
    "eclf.fit(X_train_scaled,y_train)"
   ]
  },
  {
   "cell_type": "code",
   "execution_count": 66,
   "metadata": {},
   "outputs": [],
   "source": [
    "s2=eclf.score(X_test_scaled,y_test)"
   ]
  },
  {
   "cell_type": "code",
   "execution_count": 67,
   "metadata": {},
   "outputs": [
    {
     "name": "stdout",
     "output_type": "stream",
     "text": [
      "The score on the test set is : 99.89223129433051 %.\n"
     ]
    }
   ],
   "source": [
    "print(\"The score on the test set is :\",s2*100,\"%.\")"
   ]
  },
  {
   "cell_type": "code",
   "execution_count": 68,
   "metadata": {},
   "outputs": [
    {
     "name": "stdout",
     "output_type": "stream",
     "text": [
      "Normalized confusion matrix\n",
      "[[9.99614083e-01 3.85917261e-04]\n",
      " [1.89267254e-02 9.81073275e-01]]\n"
     ]
    },
    {
     "data": {
      "image/png": "[encoded data removed]",
      "text/plain": [
       "<Figure size 432x288 with 2 Axes>"
      ]
     },
     "metadata": {},
     "output_type": "display_data"
    }
   ],
   "source": [
    "#Confusion matrix to analyse the faults \n",
    "y_pred=eclf.predict(X_test_scaled)\n",
    "\n",
    "# Compute confusion matrix\n",
    "cnf_matrix = confusion_matrix(y_test, y_pred)\n",
    "\n",
    "# Plot normalized confusion matrix\n",
    "plt.figure()\n",
    "plot_confusion_matrix(cnf_matrix, classes= classes_name ,normalize=True)\n",
    "plt.show()"
   ]
  },
  {
   "cell_type": "code",
   "execution_count": 69,
   "metadata": {},
   "outputs": [],
   "source": [
    "#TO SUBMIT\n",
    "submit(model=eclf,X_exam=X_exam_scaled)"
   ]
  },
  {
   "cell_type": "markdown",
   "metadata": {},
   "source": [
    "SCORE : ***0,99850***"
   ]
  },
  {
   "cell_type": "markdown",
   "metadata": {},
   "source": [
    "With voting = 'soft'"
   ]
  },
  {
   "cell_type": "code",
   "execution_count": 70,
   "metadata": {},
   "outputs": [],
   "source": [
    "eclf2 = VotingClassifier(estimators=[('mlp', clf1), ('xgb', clf2), ('lgbm', clf3)],voting='soft')"
   ]
  },
  {
   "cell_type": "code",
   "execution_count": 71,
   "metadata": {},
   "outputs": [
    {
     "name": "stdout",
     "output_type": "stream",
     "text": [
      "Iteration 1, loss = 0.03063585\n",
      "Iteration 2, loss = 0.00673447\n",
      "Iteration 3, loss = 0.00594956\n",
      "Iteration 4, loss = 0.00560891\n",
      "Iteration 5, loss = 0.00536448\n",
      "Iteration 6, loss = 0.00522307\n",
      "Iteration 7, loss = 0.00510961\n",
      "Iteration 8, loss = 0.00505204\n",
      "Iteration 9, loss = 0.00499033\n",
      "Iteration 10, loss = 0.00494338\n",
      "Iteration 11, loss = 0.00488052\n",
      "Iteration 12, loss = 0.00484259\n",
      "Iteration 13, loss = 0.00480436\n",
      "Iteration 14, loss = 0.00478234\n",
      "Iteration 15, loss = 0.00473177\n",
      "Iteration 16, loss = 0.00469255\n",
      "Iteration 17, loss = 0.00464473\n",
      "Iteration 18, loss = 0.00461066\n",
      "Training loss did not improve more than tol=0.000100 for 10 consecutive epochs. Stopping.\n"
     ]
    },
    {
     "data": {
      "text/plain": [
       "VotingClassifier(estimators=[('mlp',\n",
       "                              MLPClassifier(activation='relu', alpha=0.0001,\n",
       "                                            batch_size='auto', beta_1=0.9,\n",
       "                                            beta_2=0.999, early_stopping=False,\n",
       "                                            epsilon=1e-08,\n",
       "                                            hidden_layer_sizes=(15,),\n",
       "                                            learning_rate='constant',\n",
       "                                            learning_rate_init=0.001,\n",
       "                                            max_fun=15000, max_iter=500,\n",
       "                                            momentum=0.9, n_iter_no_change=10,\n",
       "                                            nesterovs_momentum=True,\n",
       "                                            power_t=0.5, random_state=0,\n",
       "                                            shuffl...\n",
       "                                             learning_rate=0.1, max_depth=-1,\n",
       "                                             min_child_samples=64,\n",
       "                                             min_child_weight=0.001,\n",
       "                                             min_split_gain=0.0,\n",
       "                                             n_estimators=300, n_jobs=5,\n",
       "                                             num_leaves=100, objective=None,\n",
       "                                             random_state=None, reg_alpha=0.0,\n",
       "                                             reg_lambda=0.0, silent=True,\n",
       "                                             subsample=0.79,\n",
       "                                             subsample_for_bin=100000,\n",
       "                                             subsample_freq=0,\n",
       "                                             tree_learner='data',\n",
       "                                             tree_method='gpu_hist'))],\n",
       "                 flatten_transform=True, n_jobs=None, voting='soft',\n",
       "                 weights=None)"
      ]
     },
     "execution_count": 71,
     "metadata": {},
     "output_type": "execute_result"
    }
   ],
   "source": [
    "eclf2.fit(X_train_scaled,y_train)"
   ]
  },
  {
   "cell_type": "code",
   "execution_count": 72,
   "metadata": {},
   "outputs": [],
   "source": [
    "s2=eclf2.score(X_test_scaled,y_test)"
   ]
  },
  {
   "cell_type": "code",
   "execution_count": 73,
   "metadata": {},
   "outputs": [
    {
     "name": "stdout",
     "output_type": "stream",
     "text": [
      "The score on the test set is : 99.89308209990159 %.\n"
     ]
    }
   ],
   "source": [
    "print(\"The score on the test set is :\",s2*100,\"%.\")"
   ]
  },
  {
   "cell_type": "code",
   "execution_count": 74,
   "metadata": {},
   "outputs": [
    {
     "name": "stdout",
     "output_type": "stream",
     "text": [
      "Normalized confusion matrix\n",
      "[[9.99643542e-01 3.56457928e-04]\n",
      " [1.94588021e-02 9.80541198e-01]]\n"
     ]
    },
    {
     "data": {
      "image/png": "[encoded data removed]",
      "text/plain": [
       "<Figure size 432x288 with 2 Axes>"
      ]
     },
     "metadata": {},
     "output_type": "display_data"
    }
   ],
   "source": [
    "#Confusion matrix to analyse the faults \n",
    "y_pred=eclf2.predict(X_test_scaled)\n",
    "\n",
    "# Compute confusion matrix\n",
    "cnf_matrix = confusion_matrix(y_test, y_pred)\n",
    "\n",
    "# Plot normalized confusion matrix\n",
    "plt.figure()\n",
    "plot_confusion_matrix(cnf_matrix, classes= classes_name ,normalize=True)\n",
    "plt.show()"
   ]
  },
  {
   "cell_type": "code",
   "execution_count": 75,
   "metadata": {},
   "outputs": [],
   "source": [
    "#TO SUBMIT\n",
    "submit(model=eclf2,X_exam=X_exam_scaled)"
   ]
  },
  {
   "cell_type": "markdown",
   "metadata": {},
   "source": [
    "SCORE : ***0.99854***, a little better"
   ]
  },
  {
   "cell_type": "markdown",
   "metadata": {},
   "source": [
    "Last try with weights : 2 for the better, 1 for the worst, 1.5 for the other."
   ]
  },
  {
   "cell_type": "code",
   "execution_count": 77,
   "metadata": {},
   "outputs": [],
   "source": [
    "eclf3 = VotingClassifier(estimators=[('mlp', clf1), ('xgb', clf2), ('lgbm', clf3)],voting='soft',weights=[1, 1.5, 2])"
   ]
  },
  {
   "cell_type": "code",
   "execution_count": 78,
   "metadata": {},
   "outputs": [
    {
     "name": "stdout",
     "output_type": "stream",
     "text": [
      "Iteration 1, loss = 0.03063585\n",
      "Iteration 2, loss = 0.00673447\n",
      "Iteration 3, loss = 0.00594956\n",
      "Iteration 4, loss = 0.00560891\n",
      "Iteration 5, loss = 0.00536448\n",
      "Iteration 6, loss = 0.00522307\n",
      "Iteration 7, loss = 0.00510961\n",
      "Iteration 8, loss = 0.00505204\n",
      "Iteration 9, loss = 0.00499033\n",
      "Iteration 10, loss = 0.00494338\n",
      "Iteration 11, loss = 0.00488052\n",
      "Iteration 12, loss = 0.00484259\n",
      "Iteration 13, loss = 0.00480436\n",
      "Iteration 14, loss = 0.00478234\n",
      "Iteration 15, loss = 0.00473177\n",
      "Iteration 16, loss = 0.00469255\n",
      "Iteration 17, loss = 0.00464473\n",
      "Iteration 18, loss = 0.00461066\n",
      "Training loss did not improve more than tol=0.000100 for 10 consecutive epochs. Stopping.\n"
     ]
    },
    {
     "data": {
      "text/plain": [
       "VotingClassifier(estimators=[('mlp',\n",
       "                              MLPClassifier(activation='relu', alpha=0.0001,\n",
       "                                            batch_size='auto', beta_1=0.9,\n",
       "                                            beta_2=0.999, early_stopping=False,\n",
       "                                            epsilon=1e-08,\n",
       "                                            hidden_layer_sizes=(15,),\n",
       "                                            learning_rate='constant',\n",
       "                                            learning_rate_init=0.001,\n",
       "                                            max_fun=15000, max_iter=500,\n",
       "                                            momentum=0.9, n_iter_no_change=10,\n",
       "                                            nesterovs_momentum=True,\n",
       "                                            power_t=0.5, random_state=0,\n",
       "                                            shuffl...\n",
       "                                             learning_rate=0.1, max_depth=-1,\n",
       "                                             min_child_samples=64,\n",
       "                                             min_child_weight=0.001,\n",
       "                                             min_split_gain=0.0,\n",
       "                                             n_estimators=300, n_jobs=5,\n",
       "                                             num_leaves=100, objective=None,\n",
       "                                             random_state=None, reg_alpha=0.0,\n",
       "                                             reg_lambda=0.0, silent=True,\n",
       "                                             subsample=0.79,\n",
       "                                             subsample_for_bin=100000,\n",
       "                                             subsample_freq=0,\n",
       "                                             tree_learner='data',\n",
       "                                             tree_method='gpu_hist'))],\n",
       "                 flatten_transform=True, n_jobs=None, voting='soft',\n",
       "                 weights=[1, 1.5, 2])"
      ]
     },
     "execution_count": 78,
     "metadata": {},
     "output_type": "execute_result"
    }
   ],
   "source": [
    "eclf3.fit(X_train_scaled,y_train)"
   ]
  },
  {
   "cell_type": "code",
   "execution_count": 80,
   "metadata": {},
   "outputs": [],
   "source": [
    "s2=eclf3.score(X_test_scaled,y_test)"
   ]
  },
  {
   "cell_type": "code",
   "execution_count": 87,
   "metadata": {},
   "outputs": [
    {
     "name": "stdout",
     "output_type": "stream",
     "text": [
      "The score on the test set is : 99.8964853221859 %.\n"
     ]
    }
   ],
   "source": [
    "print(\"The score on the test set is :\",s2*100,\"%.\")"
   ]
  },
  {
   "cell_type": "code",
   "execution_count": 85,
   "metadata": {},
   "outputs": [
    {
     "name": "stdout",
     "output_type": "stream",
     "text": [
      "Normalized confusion matrix\n",
      "[[9.99631758e-01 3.68241661e-04]\n",
      " [1.82426269e-02 9.81757373e-01]]\n"
     ]
    },
    {
     "data": {
      "image/png": "[encoded data removed]",
      "text/plain": [
       "<Figure size 432x288 with 2 Axes>"
      ]
     },
     "metadata": {},
     "output_type": "display_data"
    }
   ],
   "source": [
    "#Confusion matrix to analyse the faults \n",
    "y_pred=eclf3.predict(X_test_scaled)\n",
    "\n",
    "# Compute confusion matrix\n",
    "cnf_matrix = confusion_matrix(y_test, y_pred)\n",
    "\n",
    "# Plot normalized confusion matrix\n",
    "plt.figure()\n",
    "plot_confusion_matrix(cnf_matrix, classes= classes_name ,normalize=True)\n",
    "plt.show()"
   ]
  },
  {
   "cell_type": "code",
   "execution_count": 86,
   "metadata": {},
   "outputs": [],
   "source": [
    "#TO SUBMIT\n",
    "submit(model=eclf3,X_exam=X_exam_scaled)"
   ]
  },
  {
   "cell_type": "markdown",
   "metadata": {},
   "source": [
    "SCORE : ***0.99854*** again "
   ]
  },
  {
   "cell_type": "markdown",
   "metadata": {},
   "source": [
    "#### Stacking "
   ]
  },
  {
   "cell_type": "markdown",
   "metadata": {},
   "source": [
    "Model stacking is an efficient ensemble method in which the predictions, generated by using various machine learning algorithms, are used as inputs in a second-layer learning algorithm.\n",
    "\n",
    "Stacked generalization consists in stacking the output of individual estimator and use a classifier to compute the final prediction. Stacking allows to use the strength of each individual estimator by using their output as input of a final estimator."
   ]
  },
  {
   "cell_type": "code",
   "execution_count": 19,
   "metadata": {},
   "outputs": [],
   "source": [
    "lf = StackingClassifier(estimators=[('mlp', clf1), ('xgb', clf2), ('lgbm', clf3)], final_estimator=LogisticRegression())"
   ]
  },
  {
   "cell_type": "code",
   "execution_count": 20,
   "metadata": {},
   "outputs": [
    {
     "name": "stdout",
     "output_type": "stream",
     "text": [
      "Iteration 1, loss = 0.03095447\n",
      "Iteration 2, loss = 0.00692235\n",
      "Iteration 3, loss = 0.00606835\n",
      "Iteration 4, loss = 0.00571230\n",
      "Iteration 5, loss = 0.00545106\n",
      "Iteration 6, loss = 0.00526997\n",
      "Iteration 7, loss = 0.00512936\n",
      "Iteration 8, loss = 0.00501429\n",
      "Iteration 9, loss = 0.00494212\n",
      "Iteration 10, loss = 0.00488490\n",
      "Iteration 11, loss = 0.00486955\n",
      "Iteration 12, loss = 0.00482306\n",
      "Iteration 13, loss = 0.00477022\n",
      "Iteration 14, loss = 0.00474189\n",
      "Iteration 15, loss = 0.00468041\n",
      "Iteration 16, loss = 0.00466272\n",
      "Iteration 17, loss = 0.00461631\n",
      "Iteration 18, loss = 0.00458956\n",
      "Iteration 19, loss = 0.00456402\n",
      "Training loss did not improve more than tol=0.000100 for 10 consecutive epochs. Stopping.\n",
      "Iteration 1, loss = 0.03646747\n",
      "Iteration 2, loss = 0.00728592\n",
      "Iteration 3, loss = 0.00629184\n",
      "Iteration 4, loss = 0.00584611\n",
      "Iteration 5, loss = 0.00560648\n",
      "Iteration 6, loss = 0.00538092\n",
      "Iteration 7, loss = 0.00517056\n",
      "Iteration 8, loss = 0.00512061\n",
      "Iteration 9, loss = 0.00500289\n",
      "Iteration 10, loss = 0.00489919\n",
      "Iteration 11, loss = 0.00480285\n",
      "Iteration 12, loss = 0.00477906\n",
      "Iteration 13, loss = 0.00472493\n",
      "Iteration 14, loss = 0.00469046\n",
      "Iteration 15, loss = 0.00461760\n",
      "Iteration 16, loss = 0.00460773\n",
      "Iteration 17, loss = 0.00459900\n",
      "Iteration 18, loss = 0.00454397\n",
      "Iteration 19, loss = 0.00451279\n",
      "Iteration 20, loss = 0.00448593\n",
      "Iteration 21, loss = 0.00448581\n",
      "Training loss did not improve more than tol=0.000100 for 10 consecutive epochs. Stopping.\n",
      "Iteration 1, loss = 0.03663804\n",
      "Iteration 2, loss = 0.00747958\n",
      "Iteration 3, loss = 0.00636845\n",
      "Iteration 4, loss = 0.00596929\n",
      "Iteration 5, loss = 0.00573102\n",
      "Iteration 6, loss = 0.00547091\n",
      "Iteration 7, loss = 0.00533148\n",
      "Iteration 8, loss = 0.00522928\n",
      "Iteration 9, loss = 0.00515288\n",
      "Iteration 10, loss = 0.00504291\n",
      "Iteration 11, loss = 0.00498807\n",
      "Iteration 12, loss = 0.00499076\n",
      "Iteration 13, loss = 0.00489868\n",
      "Iteration 14, loss = 0.00487273\n",
      "Iteration 15, loss = 0.00479538\n",
      "Iteration 16, loss = 0.00479013\n",
      "Iteration 17, loss = 0.00475000\n",
      "Iteration 18, loss = 0.00472907\n",
      "Iteration 19, loss = 0.00465501\n",
      "Iteration 20, loss = 0.00459945\n",
      "Iteration 21, loss = 0.00458489\n",
      "Training loss did not improve more than tol=0.000100 for 10 consecutive epochs. Stopping.\n",
      "Iteration 1, loss = 0.03642737\n",
      "Iteration 2, loss = 0.00722759\n",
      "Iteration 3, loss = 0.00615656\n",
      "Iteration 4, loss = 0.00571016\n",
      "Iteration 5, loss = 0.00542669\n",
      "Iteration 6, loss = 0.00521870\n",
      "Iteration 7, loss = 0.00504372\n",
      "Iteration 8, loss = 0.00495200\n",
      "Iteration 9, loss = 0.00490097\n",
      "Iteration 10, loss = 0.00482512\n",
      "Iteration 11, loss = 0.00475429\n",
      "Iteration 12, loss = 0.00473733\n",
      "Iteration 13, loss = 0.00467856\n",
      "Iteration 14, loss = 0.00464727\n",
      "Iteration 15, loss = 0.00458323\n",
      "Iteration 16, loss = 0.00457198\n",
      "Iteration 17, loss = 0.00454062\n",
      "Iteration 18, loss = 0.00450370\n",
      "Training loss did not improve more than tol=0.000100 for 10 consecutive epochs. Stopping.\n",
      "Iteration 1, loss = 0.03655644\n",
      "Iteration 2, loss = 0.00745541\n",
      "Iteration 3, loss = 0.00636834\n",
      "Iteration 4, loss = 0.00593366\n",
      "Iteration 5, loss = 0.00561458\n",
      "Iteration 6, loss = 0.00537715\n",
      "Iteration 7, loss = 0.00521931\n",
      "Iteration 8, loss = 0.00512012\n",
      "Iteration 9, loss = 0.00506246\n",
      "Iteration 10, loss = 0.00499513\n",
      "Iteration 11, loss = 0.00493645\n",
      "Iteration 12, loss = 0.00493927\n",
      "Iteration 13, loss = 0.00487378\n",
      "Iteration 14, loss = 0.00482576\n",
      "Iteration 15, loss = 0.00481158\n",
      "Iteration 16, loss = 0.00475866\n",
      "Iteration 17, loss = 0.00476073\n",
      "Iteration 18, loss = 0.00470604\n",
      "Training loss did not improve more than tol=0.000100 for 10 consecutive epochs. Stopping.\n",
      "Iteration 1, loss = 0.03676884\n",
      "Iteration 2, loss = 0.00752697\n",
      "Iteration 3, loss = 0.00641278\n",
      "Iteration 4, loss = 0.00595744\n",
      "Iteration 5, loss = 0.00565346\n",
      "Iteration 6, loss = 0.00542899\n",
      "Iteration 7, loss = 0.00525363\n",
      "Iteration 8, loss = 0.00516858\n",
      "Iteration 9, loss = 0.00510437\n",
      "Iteration 10, loss = 0.00508517\n",
      "Iteration 11, loss = 0.00502254\n",
      "Iteration 12, loss = 0.00497340\n",
      "Iteration 13, loss = 0.00495151\n",
      "Iteration 14, loss = 0.00489341\n",
      "Iteration 15, loss = 0.00490525\n",
      "Iteration 16, loss = 0.00484588\n",
      "Iteration 17, loss = 0.00483613\n",
      "Iteration 18, loss = 0.00477272\n",
      "Training loss did not improve more than tol=0.000100 for 10 consecutive epochs. Stopping.\n"
     ]
    },
    {
     "data": {
      "text/plain": [
       "StackingClassifier(cv=None,\n",
       "                   estimators=[('mlp',\n",
       "                                MLPClassifier(activation='relu', alpha=0.0001,\n",
       "                                              batch_size='auto', beta_1=0.9,\n",
       "                                              beta_2=0.999,\n",
       "                                              early_stopping=False,\n",
       "                                              epsilon=1e-08,\n",
       "                                              hidden_layer_sizes=(15,),\n",
       "                                              learning_rate='constant',\n",
       "                                              learning_rate_init=0.001,\n",
       "                                              max_fun=15000, max_iter=500,\n",
       "                                              momentum=0.9, n_iter_no_change=10,\n",
       "                                              nesterovs_momentum=True,\n",
       "                                              power_t=0.5, random_stat...\n",
       "                                               tree_learner='data',\n",
       "                                               tree_method='gpu_hist'))],\n",
       "                   final_estimator=LogisticRegression(C=1.0, class_weight=None,\n",
       "                                                      dual=False,\n",
       "                                                      fit_intercept=True,\n",
       "                                                      intercept_scaling=1,\n",
       "                                                      l1_ratio=None,\n",
       "                                                      max_iter=100,\n",
       "                                                      multi_class='auto',\n",
       "                                                      n_jobs=None, penalty='l2',\n",
       "                                                      random_state=None,\n",
       "                                                      solver='lbfgs',\n",
       "                                                      tol=0.0001, verbose=0,\n",
       "                                                      warm_start=False),\n",
       "                   n_jobs=None, passthrough=False, stack_method='auto',\n",
       "                   verbose=0)"
      ]
     },
     "execution_count": 20,
     "metadata": {},
     "output_type": "execute_result"
    }
   ],
   "source": [
    "lf.fit(X_train_scaled,y_train)"
   ]
  },
  {
   "cell_type": "code",
   "execution_count": 21,
   "metadata": {},
   "outputs": [],
   "source": [
    "s2=lf.score(X_test_scaled,y_test)"
   ]
  },
  {
   "cell_type": "code",
   "execution_count": 22,
   "metadata": {},
   "outputs": [
    {
     "name": "stdout",
     "output_type": "stream",
     "text": [
      "The score on the test set is : 99.89620172032888 %.\n"
     ]
    }
   ],
   "source": [
    "print(\"The score on the test set is :\",s2*100,\"%.\")"
   ]
  },
  {
   "cell_type": "code",
   "execution_count": 97,
   "metadata": {},
   "outputs": [
    {
     "name": "stdout",
     "output_type": "stream",
     "text": [
      "Normalized confusion matrix\n",
      "[[9.99661218e-01 3.38782328e-04]\n",
      " [2.09790210e-02 9.79020979e-01]]\n"
     ]
    },
    {
     "data": {
      "image/png": "[encoded data removed]",
      "text/plain": [
       "<Figure size 432x288 with 2 Axes>"
      ]
     },
     "metadata": {},
     "output_type": "display_data"
    }
   ],
   "source": [
    "#Confusion matrix to analyse the faults \n",
    "y_pred=lf.predict(X_test_scaled)\n",
    "\n",
    "# Compute confusion matrix\n",
    "cnf_matrix = confusion_matrix(y_test, y_pred)\n",
    "\n",
    "# Plot normalized confusion matrix\n",
    "plt.figure()\n",
    "plot_confusion_matrix(cnf_matrix, classes= classes_name ,normalize=True)\n",
    "plt.show()"
   ]
  },
  {
   "cell_type": "code",
   "execution_count": 23,
   "metadata": {},
   "outputs": [],
   "source": [
    "#TO SUBMIT\n",
    "submit(model=lf,X_exam=X_exam_scaled)"
   ]
  },
  {
   "cell_type": "markdown",
   "metadata": {},
   "source": [
    "SCORE : ***0.998564926095*** our best score ! "
   ]
  },
  {
   "cell_type": "markdown",
   "metadata": {},
   "source": [
    "## Conclusion "
   ]
  },
  {
   "cell_type": "markdown",
   "metadata": {},
   "source": [
    "Stats| .\n",
    "- |-: \n",
    "Score  | 0.998598678358%\n",
    "Ranking | 37/121 \n",
    "\n",
    "What was interesting about this challenge was that it was the first time we had to deal with only the raw data. \n",
    "Our strategy was pretty standard, \n",
    "We started by training simple models at the beginning. \n",
    "However, we realized from the start that it was going to be played to the nearest thousandth. \n",
    "\n",
    "\n",
    "When we looked at the data at the beginning, we figured the big challenge would be to deal with unbalanced data. We figured that a lot of models were going to return the 0 label too often. \n",
    "That's why we took action on our data, using oversampling on class 0, undersampling on class 1, or even both at the same time. We also tried giving different weights to the two classes with the parameter class_weights that most methods have. \n",
    "All this was not very useful in the end. We have indeed noticed that overfitting was very rare here, there shouldn't be many outliers. \n",
    "\n",
    "So the interest was to find a model that was complex enough, given the number of data we had, and the high number of features that each one has. \n",
    "\n",
    "To do that, we split the task in two: \n",
    "\n",
    "- Marine worked in detail on the decision trees, with testing of several criteria such as GINI or cross-entropy, with Bagging testing, performance improvement with AdaBoost, and systematic search for the best possible parameters with cross-validation. \n",
    "\n",
    "- Paul focused on linear models, neural networks, before focusing on decision-tree-based algorithms that uses a gradient boosting framework such as xgboost. Finally, in order to improve the most possble score, he tried the VotingClassifier and Stacking ensemble methods which gave the final score.\n",
    "\n",
    "\n",
    "What could have been improved : \n",
    "\n",
    "- We regret to have discovered more complex methods than those seen too late in class. We focused mainly on the methods in the course, when we could have moved faster towards more complex methods like xgboost, and the use of set methods. \n",
    "\n",
    "- We could have perform more clever data augmentation... In fact, each data represents score A/score B/score A-B where A and B are images and could have been transformed in score B/score A/score A-B but it's unfortunately too late to do this augmentation"
   ]
  },
  {
   "cell_type": "code",
   "execution_count": null,
   "metadata": {},
   "outputs": [],
   "source": []
  }
 ],
 "metadata": {
  "kernelspec": {
   "display_name": "Python 3",
   "language": "python",
   "name": "python3"
  },
  "language_info": {
   "codemirror_mode": {
    "name": "ipython",
    "version": 3
   },
   "file_extension": ".py",
   "mimetype": "text/x-python",
   "name": "python",
   "nbconvert_exporter": "python",
   "pygments_lexer": "ipython3",
   "version": "3.6.8"
  }
 },
 "nbformat": 4,
 "nbformat_minor": 2
}
